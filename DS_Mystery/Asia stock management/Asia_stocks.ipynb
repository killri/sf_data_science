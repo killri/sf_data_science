{
 "cells": [
  {
   "attachments": {},
   "cell_type": "markdown",
   "metadata": {},
   "source": [
    "Импорт библиотек"
   ]
  },
  {
   "cell_type": "code",
   "execution_count": 210,
   "metadata": {},
   "outputs": [],
   "source": [
    "import pandas as pd\n",
    "import numpy as np"
   ]
  },
  {
   "attachments": {},
   "cell_type": "markdown",
   "metadata": {},
   "source": [
    "Загрузка данных"
   ]
  },
  {
   "cell_type": "code",
   "execution_count": 211,
   "metadata": {},
   "outputs": [],
   "source": [
    "Sales = pd.read_excel('data\\Загрузка продажи.xlsx')\n",
    "Stocks = pd.read_excel('data\\Остатки загрузка.xlsx')\n",
    "Nomen = pd.read_excel('data\\Загрузка справочник.xlsx')"
   ]
  },
  {
   "cell_type": "code",
   "execution_count": 212,
   "metadata": {},
   "outputs": [
    {
     "name": "stdout",
     "output_type": "stream",
     "text": [
      "<class 'pandas.core.frame.DataFrame'>\n",
      "RangeIndex: 3970 entries, 0 to 3969\n",
      "Data columns (total 5 columns):\n",
      " #   Column      Non-Null Count  Dtype  \n",
      "---  ------      --------------  -----  \n",
      " 0   ДАТА        3970 non-null   object \n",
      " 1   АРТИКУЛ     3970 non-null   int64  \n",
      " 2   МЕНЕДЖЕР    3970 non-null   object \n",
      " 3   КЛИЕНТ      3970 non-null   object \n",
      " 4   ПРОДАЖА ШТ  3970 non-null   float64\n",
      "dtypes: float64(1), int64(1), object(3)\n",
      "memory usage: 155.2+ KB\n"
     ]
    }
   ],
   "source": [
    "Sales.info()"
   ]
  },
  {
   "cell_type": "code",
   "execution_count": 213,
   "metadata": {},
   "outputs": [
    {
     "data": {
      "text/html": [
       "<div>\n",
       "<style scoped>\n",
       "    .dataframe tbody tr th:only-of-type {\n",
       "        vertical-align: middle;\n",
       "    }\n",
       "\n",
       "    .dataframe tbody tr th {\n",
       "        vertical-align: top;\n",
       "    }\n",
       "\n",
       "    .dataframe thead th {\n",
       "        text-align: right;\n",
       "    }\n",
       "</style>\n",
       "<table border=\"1\" class=\"dataframe\">\n",
       "  <thead>\n",
       "    <tr style=\"text-align: right;\">\n",
       "      <th></th>\n",
       "      <th>ДАТА</th>\n",
       "      <th>АРТИКУЛ</th>\n",
       "      <th>МЕНЕДЖЕР</th>\n",
       "      <th>КЛИЕНТ</th>\n",
       "      <th>ПРОДАЖА ШТ</th>\n",
       "    </tr>\n",
       "  </thead>\n",
       "  <tbody>\n",
       "    <tr>\n",
       "      <th>0</th>\n",
       "      <td>06.03.2023 г.</td>\n",
       "      <td>101218</td>\n",
       "      <td>Абзалова Ольга Валерьевна</td>\n",
       "      <td>ЧЛ Талгат Айна базар</td>\n",
       "      <td>1.0</td>\n",
       "    </tr>\n",
       "    <tr>\n",
       "      <th>1</th>\n",
       "      <td>06.03.2023 г.</td>\n",
       "      <td>101459</td>\n",
       "      <td>Черноиванова Марина</td>\n",
       "      <td>ТОО Magnum Cash&amp;Carry</td>\n",
       "      <td>1200.0</td>\n",
       "    </tr>\n",
       "  </tbody>\n",
       "</table>\n",
       "</div>"
      ],
      "text/plain": [
       "            ДАТА  АРТИКУЛ                   МЕНЕДЖЕР                 КЛИЕНТ  \\\n",
       "0  06.03.2023 г.   101218  Абзалова Ольга Валерьевна   ЧЛ Талгат Айна базар   \n",
       "1  06.03.2023 г.   101459        Черноиванова Марина  ТОО Magnum Cash&Carry   \n",
       "\n",
       "   ПРОДАЖА ШТ  \n",
       "0         1.0  \n",
       "1      1200.0  "
      ]
     },
     "execution_count": 213,
     "metadata": {},
     "output_type": "execute_result"
    }
   ],
   "source": [
    "Sales.head(2)"
   ]
  },
  {
   "cell_type": "code",
   "execution_count": 214,
   "metadata": {},
   "outputs": [
    {
     "name": "stderr",
     "output_type": "stream",
     "text": [
      "C:\\Users\\killr\\AppData\\Local\\Temp\\ipykernel_10416\\914593808.py:2: UserWarning: Parsing dates in DD/MM/YYYY format when dayfirst=False (the default) was specified. This may lead to inconsistently parsed dates! Specify a format to ensure consistent parsing.\n",
      "  Sales['ДАТА'] = pd.to_datetime(Sales['ДАТА'])\n"
     ]
    },
    {
     "data": {
      "text/html": [
       "<div>\n",
       "<style scoped>\n",
       "    .dataframe tbody tr th:only-of-type {\n",
       "        vertical-align: middle;\n",
       "    }\n",
       "\n",
       "    .dataframe tbody tr th {\n",
       "        vertical-align: top;\n",
       "    }\n",
       "\n",
       "    .dataframe thead th {\n",
       "        text-align: right;\n",
       "    }\n",
       "</style>\n",
       "<table border=\"1\" class=\"dataframe\">\n",
       "  <thead>\n",
       "    <tr style=\"text-align: right;\">\n",
       "      <th></th>\n",
       "      <th>ДАТА</th>\n",
       "      <th>АРТИКУЛ</th>\n",
       "      <th>МЕНЕДЖЕР</th>\n",
       "      <th>КЛИЕНТ</th>\n",
       "      <th>ПРОДАЖА ШТ</th>\n",
       "    </tr>\n",
       "  </thead>\n",
       "  <tbody>\n",
       "    <tr>\n",
       "      <th>0</th>\n",
       "      <td>2023-06-03</td>\n",
       "      <td>101218</td>\n",
       "      <td>Абзалова Ольга Валерьевна</td>\n",
       "      <td>ЧЛ Талгат Айна базар</td>\n",
       "      <td>1.0</td>\n",
       "    </tr>\n",
       "    <tr>\n",
       "      <th>1</th>\n",
       "      <td>2023-06-03</td>\n",
       "      <td>101459</td>\n",
       "      <td>Черноиванова Марина</td>\n",
       "      <td>ТОО Magnum Cash&amp;Carry</td>\n",
       "      <td>1200.0</td>\n",
       "    </tr>\n",
       "  </tbody>\n",
       "</table>\n",
       "</div>"
      ],
      "text/plain": [
       "        ДАТА  АРТИКУЛ                   МЕНЕДЖЕР                 КЛИЕНТ  \\\n",
       "0 2023-06-03   101218  Абзалова Ольга Валерьевна   ЧЛ Талгат Айна базар   \n",
       "1 2023-06-03   101459        Черноиванова Марина  ТОО Magnum Cash&Carry   \n",
       "\n",
       "   ПРОДАЖА ШТ  \n",
       "0         1.0  \n",
       "1      1200.0  "
      ]
     },
     "execution_count": 214,
     "metadata": {},
     "output_type": "execute_result"
    }
   ],
   "source": [
    "Sales['ДАТА'] = Sales['ДАТА'].apply(lambda x: x[:-3])\n",
    "Sales['ДАТА'] = pd.to_datetime(Sales['ДАТА'])\n",
    "Sales.head(2)"
   ]
  },
  {
   "cell_type": "code",
   "execution_count": 215,
   "metadata": {},
   "outputs": [
    {
     "name": "stdout",
     "output_type": "stream",
     "text": [
      "<class 'pandas.core.frame.DataFrame'>\n",
      "RangeIndex: 21119 entries, 0 to 21118\n",
      "Data columns (total 5 columns):\n",
      " #   Column   Non-Null Count  Dtype  \n",
      "---  ------   --------------  -----  \n",
      " 0   ДАТА     21119 non-null  object \n",
      " 1   АРТИКУЛ  21119 non-null  int64  \n",
      " 2   РАСХОД   21119 non-null  float64\n",
      " 3   ОСТАТОК  21119 non-null  float64\n",
      " 4   ЦЕНА     21119 non-null  float64\n",
      "dtypes: float64(3), int64(1), object(1)\n",
      "memory usage: 825.1+ KB\n"
     ]
    }
   ],
   "source": [
    "Stocks.info()"
   ]
  },
  {
   "cell_type": "code",
   "execution_count": 216,
   "metadata": {},
   "outputs": [
    {
     "name": "stderr",
     "output_type": "stream",
     "text": [
      "C:\\Users\\killr\\AppData\\Local\\Temp\\ipykernel_10416\\1352275529.py:1: UserWarning: Parsing dates in DD/MM/YYYY format when dayfirst=False (the default) was specified. This may lead to inconsistently parsed dates! Specify a format to ensure consistent parsing.\n",
      "  Stocks['ДАТА'] = pd.to_datetime(Stocks['ДАТА'])\n"
     ]
    },
    {
     "data": {
      "text/html": [
       "<div>\n",
       "<style scoped>\n",
       "    .dataframe tbody tr th:only-of-type {\n",
       "        vertical-align: middle;\n",
       "    }\n",
       "\n",
       "    .dataframe tbody tr th {\n",
       "        vertical-align: top;\n",
       "    }\n",
       "\n",
       "    .dataframe thead th {\n",
       "        text-align: right;\n",
       "    }\n",
       "</style>\n",
       "<table border=\"1\" class=\"dataframe\">\n",
       "  <thead>\n",
       "    <tr style=\"text-align: right;\">\n",
       "      <th></th>\n",
       "      <th>ДАТА</th>\n",
       "      <th>АРТИКУЛ</th>\n",
       "      <th>РАСХОД</th>\n",
       "      <th>ОСТАТОК</th>\n",
       "      <th>ЦЕНА</th>\n",
       "    </tr>\n",
       "  </thead>\n",
       "  <tbody>\n",
       "    <tr>\n",
       "      <th>0</th>\n",
       "      <td>2023-06-03</td>\n",
       "      <td>100160</td>\n",
       "      <td>0.0</td>\n",
       "      <td>23495.0</td>\n",
       "      <td>3.06</td>\n",
       "    </tr>\n",
       "    <tr>\n",
       "      <th>1</th>\n",
       "      <td>2023-06-03</td>\n",
       "      <td>100527</td>\n",
       "      <td>0.0</td>\n",
       "      <td>3800.0</td>\n",
       "      <td>43.70</td>\n",
       "    </tr>\n",
       "  </tbody>\n",
       "</table>\n",
       "</div>"
      ],
      "text/plain": [
       "        ДАТА  АРТИКУЛ  РАСХОД  ОСТАТОК   ЦЕНА\n",
       "0 2023-06-03   100160     0.0  23495.0   3.06\n",
       "1 2023-06-03   100527     0.0   3800.0  43.70"
      ]
     },
     "execution_count": 216,
     "metadata": {},
     "output_type": "execute_result"
    }
   ],
   "source": [
    "Stocks['ДАТА'] = pd.to_datetime(Stocks['ДАТА'])\n",
    "Stocks.head(2)"
   ]
  },
  {
   "cell_type": "code",
   "execution_count": 217,
   "metadata": {},
   "outputs": [
    {
     "name": "stdout",
     "output_type": "stream",
     "text": [
      "<class 'pandas.core.frame.DataFrame'>\n",
      "RangeIndex: 456 entries, 0 to 455\n",
      "Data columns (total 7 columns):\n",
      " #   Column      Non-Null Count  Dtype \n",
      "---  ------      --------------  ----- \n",
      " 0   АРТИКУЛ     456 non-null    int64 \n",
      " 1   ТОВАР       456 non-null    object\n",
      " 2   ПРЯМОЙ      456 non-null    int64 \n",
      " 3   ПОСТАВЩИК   456 non-null    object\n",
      " 4   АКТИВНОСТЬ  456 non-null    object\n",
      " 5   АГ          456 non-null    object\n",
      " 6   НГ          456 non-null    object\n",
      "dtypes: int64(2), object(5)\n",
      "memory usage: 25.1+ KB\n"
     ]
    }
   ],
   "source": [
    "Nomen.info()"
   ]
  },
  {
   "attachments": {},
   "cell_type": "markdown",
   "metadata": {},
   "source": [
    "Создадим таблицу по параметрам артикулов и добавим в нее параметры, связанные с клиентами и статистикой продаж"
   ]
  },
  {
   "attachments": {},
   "cell_type": "markdown",
   "metadata": {},
   "source": [
    "*Число клиентов*"
   ]
  },
  {
   "cell_type": "code",
   "execution_count": 218,
   "metadata": {},
   "outputs": [],
   "source": [
    "table = Sales.groupby('АРТИКУЛ')['КЛИЕНТ'].nunique()"
   ]
  },
  {
   "cell_type": "code",
   "execution_count": 219,
   "metadata": {},
   "outputs": [],
   "source": [
    "Client_count = list(Nomen['АРТИКУЛ'].unique())\n",
    "Client_count = pd.DataFrame(Client_count, columns=['АРТИКУЛ'])\n",
    "Client_count['Count'] = Client_count['АРТИКУЛ'].apply(lambda x: 0 if x not in list(table.index) else table[x])\n",
    "Client_count.index = Client_count['АРТИКУЛ']\n",
    "Client_count = Client_count.drop('АРТИКУЛ', axis=1)"
   ]
  },
  {
   "cell_type": "code",
   "execution_count": 220,
   "metadata": {},
   "outputs": [],
   "source": [
    "piv_nom = Nomen.copy()\n",
    "piv_nom['КЛИЕНТОВ'] = piv_nom['АРТИКУЛ'].apply(lambda x: Client_count.loc[x])"
   ]
  },
  {
   "attachments": {},
   "cell_type": "markdown",
   "metadata": {},
   "source": [
    "*Доля самого крупного клиента*"
   ]
  },
  {
   "cell_type": "code",
   "execution_count": 221,
   "metadata": {},
   "outputs": [
    {
     "data": {
      "text/html": [
       "<div>\n",
       "<style scoped>\n",
       "    .dataframe tbody tr th:only-of-type {\n",
       "        vertical-align: middle;\n",
       "    }\n",
       "\n",
       "    .dataframe tbody tr th {\n",
       "        vertical-align: top;\n",
       "    }\n",
       "\n",
       "    .dataframe thead th {\n",
       "        text-align: right;\n",
       "    }\n",
       "</style>\n",
       "<table border=\"1\" class=\"dataframe\">\n",
       "  <thead>\n",
       "    <tr style=\"text-align: right;\">\n",
       "      <th></th>\n",
       "      <th>АРТИКУЛ</th>\n",
       "      <th>ТОВАР</th>\n",
       "      <th>ПРЯМОЙ</th>\n",
       "      <th>ПОСТАВЩИК</th>\n",
       "      <th>АКТИВНОСТЬ</th>\n",
       "      <th>АГ</th>\n",
       "      <th>НГ</th>\n",
       "      <th>КЛИЕНТОВ</th>\n",
       "      <th>ДОЛЯ МАКС КЛИЕНТА</th>\n",
       "    </tr>\n",
       "  </thead>\n",
       "  <tbody>\n",
       "    <tr>\n",
       "      <th>0</th>\n",
       "      <td>100084</td>\n",
       "      <td>Перчатки одноразовые \"Elpi\", размер M, 6 мкм, ...</td>\n",
       "      <td>0</td>\n",
       "      <td>ЭЛПИ-ТРЕЙД ООО</td>\n",
       "      <td>Да</td>\n",
       "      <td>Средства индивидуальной защиты</td>\n",
       "      <td>Перчатки ПЭ стандартной прочности размер M</td>\n",
       "      <td>5</td>\n",
       "      <td>0.598404</td>\n",
       "    </tr>\n",
       "    <tr>\n",
       "      <th>1</th>\n",
       "      <td>100160</td>\n",
       "      <td>Стакан одноразовый 100 мл \"Сп\", прозр., ПП, 10...</td>\n",
       "      <td>0</td>\n",
       "      <td>ПолиЭр ООО</td>\n",
       "      <td>Да</td>\n",
       "      <td>Стаканы, чашки, крышки для стаканов</td>\n",
       "      <td>Стаканы ПП до 200 мл прозрачные</td>\n",
       "      <td>8</td>\n",
       "      <td>0.258148</td>\n",
       "    </tr>\n",
       "  </tbody>\n",
       "</table>\n",
       "</div>"
      ],
      "text/plain": [
       "   АРТИКУЛ                                              ТОВАР  ПРЯМОЙ  \\\n",
       "0   100084  Перчатки одноразовые \"Elpi\", размер M, 6 мкм, ...       0   \n",
       "1   100160  Стакан одноразовый 100 мл \"Сп\", прозр., ПП, 10...       0   \n",
       "\n",
       "        ПОСТАВЩИК АКТИВНОСТЬ                                   АГ  \\\n",
       "0  ЭЛПИ-ТРЕЙД ООО         Да       Средства индивидуальной защиты   \n",
       "1      ПолиЭр ООО         Да  Стаканы, чашки, крышки для стаканов   \n",
       "\n",
       "                                           НГ  КЛИЕНТОВ  ДОЛЯ МАКС КЛИЕНТА  \n",
       "0  Перчатки ПЭ стандартной прочности размер M         5           0.598404  \n",
       "1             Стаканы ПП до 200 мл прозрачные         8           0.258148  "
      ]
     },
     "execution_count": 221,
     "metadata": {},
     "output_type": "execute_result"
    }
   ],
   "source": [
    "table = Sales.groupby(['АРТИКУЛ', 'КЛИЕНТ'])['ПРОДАЖА ШТ'].sum().reset_index().sort_values(by=['АРТИКУЛ','ПРОДАЖА ШТ'], ascending=False)\n",
    "table2 = Sales.groupby(['АРТИКУЛ'])['ПРОДАЖА ШТ'].sum().sort_values(ascending=False).reset_index()\n",
    "table = pd.merge(left=table, right=table2, on='АРТИКУЛ', how='left')\n",
    "table['ДОЛЯ'] = table['ПРОДАЖА ШТ_x'] / table['ПРОДАЖА ШТ_y']\n",
    "table = table.groupby('АРТИКУЛ')['ДОЛЯ'].max()\n",
    "piv_nom['ДОЛЯ МАКС КЛИЕНТА'] = piv_nom['АРТИКУЛ'].apply(lambda x: 0 if x not in list(table.index) else table.loc[x])\n",
    "piv_nom.head(2)"
   ]
  },
  {
   "attachments": {},
   "cell_type": "markdown",
   "metadata": {},
   "source": [
    "*Загрузка средней цены за период*"
   ]
  }
 ],
 "metadata": {
  "kernelspec": {
   "display_name": "Python 3",
   "language": "python",
   "name": "python3"
  },
  "language_info": {
   "codemirror_mode": {
    "name": "ipython",
    "version": 3
   },
   "file_extension": ".py",
   "mimetype": "text/x-python",
   "name": "python",
   "nbconvert_exporter": "python",
   "pygments_lexer": "ipython3",
   "version": "3.9.10"
  },
  "orig_nbformat": 4
 },
 "nbformat": 4,
 "nbformat_minor": 2
}
