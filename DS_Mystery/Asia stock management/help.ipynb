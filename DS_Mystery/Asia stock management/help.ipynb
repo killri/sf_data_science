{
 "cells": [
  {
   "cell_type": "code",
   "execution_count": 10,
   "metadata": {},
   "outputs": [],
   "source": [
    "import pandas as pd\n",
    "import numpy as np\n",
    "\n",
    "df = pd.read_excel('Динамика АЛМ.xlsx')\n",
    "df['Индекс эффективности товарного запаса'] = (df['Оптимум'] + df['Излишек'] + df['Риск дефицита'])/(df['Оптимум'] + df['Излишек'] + df['Риск дефицита'] + df['Неликвид'] + df['Дефицит']) *100"
   ]
  },
  {
   "cell_type": "code",
   "execution_count": 11,
   "metadata": {},
   "outputs": [
    {
     "data": {
      "text/plain": [
       "0.9999999999999999"
      ]
     },
     "execution_count": 11,
     "metadata": {},
     "output_type": "execute_result"
    }
   ],
   "source": [
    "v = np.linspace(0,1,7)\n",
    "v = v - v.mean()\n",
    "v = v / np.linalg.norm(v)\n",
    "np.linalg.norm(v)"
   ]
  },
  {
   "cell_type": "code",
   "execution_count": 12,
   "metadata": {},
   "outputs": [
    {
     "name": "stdout",
     "output_type": "stream",
     "text": [
      "<class 'pandas.core.frame.DataFrame'>\n",
      "RangeIndex: 7 entries, 0 to 6\n",
      "Data columns (total 21 columns):\n",
      " #   Column                                 Non-Null Count  Dtype  \n",
      "---  ------                                 --------------  -----  \n",
      " 0   Unnamed: 0                             7 non-null      object \n",
      " 1   Висяки                                 7 non-null      int64  \n",
      " 2   Опасные                                7 non-null      int64  \n",
      " 3   Плохие новинки                         7 non-null      int64  \n",
      " 4   Под заказ                              7 non-null      int64  \n",
      " 5   Регулярные                             7 non-null      int64  \n",
      " 6   Хорошие новинки                        7 non-null      int64  \n",
      " 7   Ядерные                                7 non-null      int64  \n",
      " 8   Дефицит                                7 non-null      int64  \n",
      " 9   Излишек                                7 non-null      int64  \n",
      " 10  Неликвид                               7 non-null      int64  \n",
      " 11  Оптимум                                7 non-null      int64  \n",
      " 12  Под заказ без остатка                  7 non-null      int64  \n",
      " 13  Риск дефицита                          7 non-null      int64  \n",
      " 14  Оборачиваемость кд                     7 non-null      float64\n",
      " 15  Дефицит млн тенге                      7 non-null      float64\n",
      " 16  Неликвид млн тенге                     7 non-null      float64\n",
      " 17  Клиентов на артикул                    7 non-null      float64\n",
      " 18  Эффективность запасов                  1 non-null      float64\n",
      " 19  Эффективность ассортимента             1 non-null      float64\n",
      " 20  Индекс эффективности товарного запаса  7 non-null      float64\n",
      "dtypes: float64(7), int64(13), object(1)\n",
      "memory usage: 1.3+ KB\n"
     ]
    }
   ],
   "source": [
    "df.info()"
   ]
  },
  {
   "cell_type": "code",
   "execution_count": 13,
   "metadata": {},
   "outputs": [
    {
     "data": {
      "text/plain": [
       "0    126.506540\n",
       "1    126.195427\n",
       "2    127.985490\n",
       "3    131.008542\n",
       "4    132.172867\n",
       "5    132.794865\n",
       "6    133.619752\n",
       "dtype: float64"
      ]
     },
     "metadata": {},
     "output_type": "display_data"
    }
   ],
   "source": [
    "df_copy = df[['Висяки', 'Плохие новинки', 'Опасные', 'Под заказ', 'Хорошие новинки','Регулярные', 'Ядерные']]\n",
    "df_copy = df_copy.T\n",
    "df_copy = df_copy - df_copy.mean()\n",
    "display(df_copy.std())\n",
    "\n",
    "for i in df_copy.columns:\n",
    "    df_copy[i] = df_copy[i] / np.linalg.norm(df_copy[i].values)\n",
    "\n",
    "df_copy = df_copy.T\n",
    "\n",
    "df_copy = (df_copy @ v)/2 +1/2"
   ]
  },
  {
   "cell_type": "code",
   "execution_count": 14,
   "metadata": {},
   "outputs": [],
   "source": [
    "df['Индекс эффективноти ассортиментной матрицы'] = df_copy * 100"
   ]
  },
  {
   "cell_type": "code",
   "execution_count": 15,
   "metadata": {},
   "outputs": [],
   "source": [
    "df.index = df['Unnamed: 0']\n",
    "df=df.drop('Unnamed: 0', axis=1)"
   ]
  },
  {
   "cell_type": "code",
   "execution_count": 17,
   "metadata": {},
   "outputs": [
    {
     "data": {
      "text/plain": [
       "Unnamed: 0\n",
       "2023-06-11    13.511111\n",
       "2023-06-12    13.463242\n",
       "2023-06-13    14.219760\n",
       "2023-06-14    15.170557\n",
       "2023-06-15    15.315315\n",
       "2023-06-18    15.419297\n",
       "2023-06-19    14.751131\n",
       "Name: Индекс эффективности товарного запаса, dtype: float64"
      ]
     },
     "execution_count": 17,
     "metadata": {},
     "output_type": "execute_result"
    }
   ],
   "source": [
    "df['Индекс эффективности товарного запаса']"
   ]
  }
 ],
 "metadata": {
  "kernelspec": {
   "display_name": "Python 3",
   "language": "python",
   "name": "python3"
  },
  "language_info": {
   "codemirror_mode": {
    "name": "ipython",
    "version": 3
   },
   "file_extension": ".py",
   "mimetype": "text/x-python",
   "name": "python",
   "nbconvert_exporter": "python",
   "pygments_lexer": "ipython3",
   "version": "3.9.10"
  },
  "orig_nbformat": 4
 },
 "nbformat": 4,
 "nbformat_minor": 2
}
