{
  "cells": [
    {
      "attachments": {},
      "cell_type": "markdown",
      "id": "00009cca",
      "metadata": {
        "id": "00009cca"
      },
      "source": [
        "# Классификация текстов с использованием Наивного Байесовского Классификатора"
      ]
    },
    {
      "attachments": {},
      "cell_type": "markdown",
      "id": "a52414b8",
      "metadata": {
        "id": "a52414b8"
      },
      "source": [
        "## Задание 1 (1 балл)"
      ]
    },
    {
      "attachments": {},
      "cell_type": "markdown",
      "id": "f5f27b43",
      "metadata": {
        "id": "f5f27b43"
      },
      "source": [
        "Откройте данные. Узнайте, сколько в них спам- и не спам-писем. Визуализируйте полученные соотношение подходящим образом."
      ]
    },
    {
      "cell_type": "code",
      "execution_count": 1,
      "id": "ac369274",
      "metadata": {
        "id": "ac369274"
      },
      "outputs": [
        {
          "data": {
            "text/html": [
              "<div>\n",
              "<style scoped>\n",
              "    .dataframe tbody tr th:only-of-type {\n",
              "        vertical-align: middle;\n",
              "    }\n",
              "\n",
              "    .dataframe tbody tr th {\n",
              "        vertical-align: top;\n",
              "    }\n",
              "\n",
              "    .dataframe thead th {\n",
              "        text-align: right;\n",
              "    }\n",
              "</style>\n",
              "<table border=\"1\" class=\"dataframe\">\n",
              "  <thead>\n",
              "    <tr style=\"text-align: right;\">\n",
              "      <th></th>\n",
              "      <th>email</th>\n",
              "      <th>label</th>\n",
              "    </tr>\n",
              "  </thead>\n",
              "  <tbody>\n",
              "    <tr>\n",
              "      <th>0</th>\n",
              "      <td>date wed NUMBER aug NUMBER NUMBER NUMBER NUMB...</td>\n",
              "      <td>0</td>\n",
              "    </tr>\n",
              "    <tr>\n",
              "      <th>1</th>\n",
              "      <td>martin a posted tassos papadopoulos the greek ...</td>\n",
              "      <td>0</td>\n",
              "    </tr>\n",
              "    <tr>\n",
              "      <th>2</th>\n",
              "      <td>man threatens explosion in moscow thursday aug...</td>\n",
              "      <td>0</td>\n",
              "    </tr>\n",
              "    <tr>\n",
              "      <th>3</th>\n",
              "      <td>klez the virus that won t die already the most...</td>\n",
              "      <td>0</td>\n",
              "    </tr>\n",
              "    <tr>\n",
              "      <th>4</th>\n",
              "      <td>in adding cream to spaghetti carbonara which ...</td>\n",
              "      <td>0</td>\n",
              "    </tr>\n",
              "  </tbody>\n",
              "</table>\n",
              "</div>"
            ],
            "text/plain": [
              "                                               email  label\n",
              "0   date wed NUMBER aug NUMBER NUMBER NUMBER NUMB...      0\n",
              "1  martin a posted tassos papadopoulos the greek ...      0\n",
              "2  man threatens explosion in moscow thursday aug...      0\n",
              "3  klez the virus that won t die already the most...      0\n",
              "4   in adding cream to spaghetti carbonara which ...      0"
            ]
          },
          "execution_count": 1,
          "metadata": {},
          "output_type": "execute_result"
        }
      ],
      "source": [
        "# откройте данные: ваш код здесь\n",
        "import pandas as pd\n",
        "df = pd.read_csv('spam_or_not_spam.csv')\n",
        "df.head()"
      ]
    },
    {
      "cell_type": "code",
      "execution_count": 2,
      "id": "f4231781",
      "metadata": {
        "id": "f4231781"
      },
      "outputs": [
        {
          "data": {
            "text/plain": [
              "0    2500\n",
              "1     500\n",
              "Name: label, dtype: int64"
            ]
          },
          "execution_count": 2,
          "metadata": {},
          "output_type": "execute_result"
        }
      ],
      "source": [
        "# рассчитайте частоты для классов : ваш код здесь\n",
        "freq_df = df['label'].value_counts()#/df.shape[0]\n",
        "freq_df"
      ]
    },
    {
      "cell_type": "code",
      "execution_count": 3,
      "id": "9b871636",
      "metadata": {
        "id": "9b871636"
      },
      "outputs": [
        {
          "data": {
            "text/plain": [
              "Text(0, 0.5, 'Доля писем')"
            ]
          },
          "execution_count": 3,
          "metadata": {},
          "output_type": "execute_result"
        },
        {
          "data": {
            "image/png": "[encoded data removed]",
            "text/plain": [
              "<Figure size 640x480 with 1 Axes>"
            ]
          },
          "metadata": {},
          "output_type": "display_data"
        }
      ],
      "source": [
        "# визуализируйте результат: ваш код здесь\n",
        "import seaborn as sns\n",
        "bar = sns.barplot(x=freq_df.index, y = freq_df)\n",
        "bar.set_title('Частоты спама и не спама в выборке')\n",
        "bar.set_xlabel('Признак спама (1 - спам, 0 - нет)')\n",
        "bar.set_ylabel('Доля писем')"
      ]
    },
    {
      "attachments": {},
      "cell_type": "markdown",
      "id": "b161614b",
      "metadata": {
        "id": "b161614b"
      },
      "source": [
        "## Задание 2 (2 балла)"
      ]
    },
    {
      "attachments": {},
      "cell_type": "markdown",
      "id": "dd29763b",
      "metadata": {
        "id": "dd29763b"
      },
      "source": [
        "Вам необходимо предобработать ваши данные и перевести их в векторный вид. Подгрузим необходимый модуль:"
      ]
    },
    {
      "cell_type": "code",
      "execution_count": 4,
      "id": "382eac9c",
      "metadata": {
        "id": "382eac9c"
      },
      "outputs": [],
      "source": [
        "from sklearn.feature_extraction.text import CountVectorizer"
      ]
    },
    {
      "attachments": {},
      "cell_type": "markdown",
      "id": "89546b95",
      "metadata": {
        "id": "89546b95"
      },
      "source": [
        "Замените в данных все пустые строки и строки, состоящие из пробелов, на пропуски (NaN). После этого удалите из данных все строки, в которых наблюдаются пропущенные значения."
      ]
    },
    {
      "cell_type": "code",
      "execution_count": 5,
      "id": "76be9a85",
      "metadata": {},
      "outputs": [],
      "source": [
        "df_clean = df.copy()"
      ]
    },
    {
      "cell_type": "code",
      "execution_count": 6,
      "id": "45180f82",
      "metadata": {
        "id": "45180f82"
      },
      "outputs": [
        {
          "data": {
            "text/plain": [
              "(2997, 2)"
            ]
          },
          "execution_count": 6,
          "metadata": {},
          "output_type": "execute_result"
        }
      ],
      "source": [
        "#ваш код здесь\n",
        "\n",
        "#Строки из пробелов и всяких переносов и табуляций превращаем в ''\n",
        "df_clean['email'] = df_clean['email'].str.replace('\\s+', ' ', regex=True).str.strip() \n",
        "\n",
        "#Оставим непустые строки\n",
        "df_clean = df_clean[df_clean['email'] != '']\n",
        "#Уберем пропуски\n",
        "df_clean = df_clean.dropna()\n"
      ]
    },
    {
      "attachments": {},
      "cell_type": "markdown",
      "id": "83b13120",
      "metadata": {},
      "source": [
        "***На самом деле в этом месте я бы еще перевел все в нижний регистр и убрал знаки препинания, как делали с СМС в примере в модуле. Не буду делать это т.к. в задании этого не просят***"
      ]
    },
    {
      "attachments": {},
      "cell_type": "markdown",
      "id": "2ca2fe88",
      "metadata": {
        "id": "2ca2fe88"
      },
      "source": [
        "Переводим данные в векторный вид:"
      ]
    },
    {
      "cell_type": "code",
      "execution_count": 7,
      "id": "29e9a37b",
      "metadata": {
        "id": "29e9a37b"
      },
      "outputs": [],
      "source": [
        "vectorizer = CountVectorizer()\n",
        "X = vectorizer.fit_transform(df_clean[\"email\"])"
      ]
    },
    {
      "attachments": {},
      "cell_type": "markdown",
      "id": "88c8b726",
      "metadata": {
        "id": "88c8b726"
      },
      "source": [
        "Определите, сколько теперь признаков в нашем наборе данных:"
      ]
    },
    {
      "cell_type": "code",
      "execution_count": 8,
      "id": "f19c2a02",
      "metadata": {
        "id": "f19c2a02"
      },
      "outputs": [
        {
          "name": "stdout",
          "output_type": "stream",
          "text": [
            "В наших данных теперь 34116 признаков\n"
          ]
        }
      ],
      "source": [
        "#ваш код здесь\n",
        "print(f'В наших данных теперь {X.shape[1]} признаков')"
      ]
    },
    {
      "attachments": {},
      "cell_type": "markdown",
      "id": "1803f282",
      "metadata": {
        "id": "1803f282"
      },
      "source": [
        "## Задание 3 (2 балла)"
      ]
    },
    {
      "attachments": {},
      "cell_type": "markdown",
      "id": "39f400b7",
      "metadata": {
        "id": "39f400b7"
      },
      "source": [
        "Определите целевую переменную и признаки:"
      ]
    },
    {
      "cell_type": "code",
      "execution_count": 9,
      "id": "31f1acb6",
      "metadata": {
        "id": "31f1acb6"
      },
      "outputs": [],
      "source": [
        "#ваш код здесь\n",
        "# X у нас уже есть, так что определим y:\n",
        "y = df_clean['label']"
      ]
    },
    {
      "attachments": {},
      "cell_type": "markdown",
      "id": "b20f273e",
      "metadata": {
        "id": "b20f273e"
      },
      "source": [
        "Разделите выборку на обучающую и тестовую, используя стратифицированное разбиение (параметр `stratify` установите в значение вектора ответов y) размер тестовой выборки (`test_size`) возьмите как 0.25, параметр `random_state` определите со значением 42:"
      ]
    },
    {
      "cell_type": "code",
      "execution_count": 10,
      "id": "96538fb6",
      "metadata": {
        "id": "96538fb6"
      },
      "outputs": [],
      "source": [
        "#ваш код здесь\n",
        "from sklearn.model_selection import train_test_split\n",
        "X_train, X_test, y_train, y_test = train_test_split(X, y, test_size=0.25, stratify=y, random_state=42)"
      ]
    },
    {
      "attachments": {},
      "cell_type": "markdown",
      "id": "139dac3d",
      "metadata": {
        "id": "139dac3d"
      },
      "source": [
        "Рассчитайте среднее значение целевой переменной по тестовой выборке:"
      ]
    },
    {
      "cell_type": "code",
      "execution_count": 11,
      "id": "e9baf72d",
      "metadata": {
        "id": "e9baf72d"
      },
      "outputs": [
        {
          "name": "stdout",
          "output_type": "stream",
          "text": [
            "Среднее значение целевой переменной по тестовой выборке = 0.16533333333333333\n"
          ]
        }
      ],
      "source": [
        "#ваш код здесь\n",
        "print(f'Среднее значение целевой переменной по тестовой выборке = {y_test.mean()}')"
      ]
    },
    {
      "attachments": {},
      "cell_type": "markdown",
      "id": "710e0e94",
      "metadata": {
        "id": "710e0e94"
      },
      "source": [
        "## Задание 4 (3 балла)"
      ]
    },
    {
      "attachments": {},
      "cell_type": "markdown",
      "id": "26cf6885",
      "metadata": {
        "id": "26cf6885"
      },
      "source": [
        "Определите и обучите подходящий алгоритм с параметром alpha = 0.01"
      ]
    },
    {
      "cell_type": "code",
      "execution_count": 12,
      "id": "4865dd78",
      "metadata": {
        "id": "4865dd78"
      },
      "outputs": [
        {
          "data": {
            "text/html": [
              "<style>#sk-container-id-1 {color: black;background-color: white;}#sk-container-id-1 pre{padding: 0;}#sk-container-id-1 div.sk-toggleable {background-color: white;}#sk-container-id-1 label.sk-toggleable__label {cursor: pointer;display: block;width: 100%;margin-bottom: 0;padding: 0.3em;box-sizing: border-box;text-align: center;}#sk-container-id-1 label.sk-toggleable__label-arrow:before {content: \"▸\";float: left;margin-right: 0.25em;color: #696969;}#sk-container-id-1 label.sk-toggleable__label-arrow:hover:before {color: black;}#sk-container-id-1 div.sk-estimator:hover label.sk-toggleable__label-arrow:before {color: black;}#sk-container-id-1 div.sk-toggleable__content {max-height: 0;max-width: 0;overflow: hidden;text-align: left;background-color: #f0f8ff;}#sk-container-id-1 div.sk-toggleable__content pre {margin: 0.2em;color: black;border-radius: 0.25em;background-color: #f0f8ff;}#sk-container-id-1 input.sk-toggleable__control:checked~div.sk-toggleable__content {max-height: 200px;max-width: 100%;overflow: auto;}#sk-container-id-1 input.sk-toggleable__control:checked~label.sk-toggleable__label-arrow:before {content: \"▾\";}#sk-container-id-1 div.sk-estimator input.sk-toggleable__control:checked~label.sk-toggleable__label {background-color: #d4ebff;}#sk-container-id-1 div.sk-label input.sk-toggleable__control:checked~label.sk-toggleable__label {background-color: #d4ebff;}#sk-container-id-1 input.sk-hidden--visually {border: 0;clip: rect(1px 1px 1px 1px);clip: rect(1px, 1px, 1px, 1px);height: 1px;margin: -1px;overflow: hidden;padding: 0;position: absolute;width: 1px;}#sk-container-id-1 div.sk-estimator {font-family: monospace;background-color: #f0f8ff;border: 1px dotted black;border-radius: 0.25em;box-sizing: border-box;margin-bottom: 0.5em;}#sk-container-id-1 div.sk-estimator:hover {background-color: #d4ebff;}#sk-container-id-1 div.sk-parallel-item::after {content: \"\";width: 100%;border-bottom: 1px solid gray;flex-grow: 1;}#sk-container-id-1 div.sk-label:hover label.sk-toggleable__label {background-color: #d4ebff;}#sk-container-id-1 div.sk-serial::before {content: \"\";position: absolute;border-left: 1px solid gray;box-sizing: border-box;top: 0;bottom: 0;left: 50%;z-index: 0;}#sk-container-id-1 div.sk-serial {display: flex;flex-direction: column;align-items: center;background-color: white;padding-right: 0.2em;padding-left: 0.2em;position: relative;}#sk-container-id-1 div.sk-item {position: relative;z-index: 1;}#sk-container-id-1 div.sk-parallel {display: flex;align-items: stretch;justify-content: center;background-color: white;position: relative;}#sk-container-id-1 div.sk-item::before, #sk-container-id-1 div.sk-parallel-item::before {content: \"\";position: absolute;border-left: 1px solid gray;box-sizing: border-box;top: 0;bottom: 0;left: 50%;z-index: -1;}#sk-container-id-1 div.sk-parallel-item {display: flex;flex-direction: column;z-index: 1;position: relative;background-color: white;}#sk-container-id-1 div.sk-parallel-item:first-child::after {align-self: flex-end;width: 50%;}#sk-container-id-1 div.sk-parallel-item:last-child::after {align-self: flex-start;width: 50%;}#sk-container-id-1 div.sk-parallel-item:only-child::after {width: 0;}#sk-container-id-1 div.sk-dashed-wrapped {border: 1px dashed gray;margin: 0 0.4em 0.5em 0.4em;box-sizing: border-box;padding-bottom: 0.4em;background-color: white;}#sk-container-id-1 div.sk-label label {font-family: monospace;font-weight: bold;display: inline-block;line-height: 1.2em;}#sk-container-id-1 div.sk-label-container {text-align: center;}#sk-container-id-1 div.sk-container {/* jupyter's `normalize.less` sets `[hidden] { display: none; }` but bootstrap.min.css set `[hidden] { display: none !important; }` so we also need the `!important` here to be able to override the default hidden behavior on the sphinx rendered scikit-learn.org. See: https://github.com/scikit-learn/scikit-learn/issues/21755 */display: inline-block !important;position: relative;}#sk-container-id-1 div.sk-text-repr-fallback {display: none;}</style><div id=\"sk-container-id-1\" class=\"sk-top-container\"><div class=\"sk-text-repr-fallback\"><pre>ComplementNB(alpha=0.01)</pre><b>In a Jupyter environment, please rerun this cell to show the HTML representation or trust the notebook. <br />On GitHub, the HTML representation is unable to render, please try loading this page with nbviewer.org.</b></div><div class=\"sk-container\" hidden><div class=\"sk-item\"><div class=\"sk-estimator sk-toggleable\"><input class=\"sk-toggleable__control sk-hidden--visually\" id=\"sk-estimator-id-1\" type=\"checkbox\" checked><label for=\"sk-estimator-id-1\" class=\"sk-toggleable__label sk-toggleable__label-arrow\">ComplementNB</label><div class=\"sk-toggleable__content\"><pre>ComplementNB(alpha=0.01)</pre></div></div></div></div></div>"
            ],
            "text/plain": [
              "ComplementNB(alpha=0.01)"
            ]
          },
          "execution_count": 12,
          "metadata": {},
          "output_type": "execute_result"
        }
      ],
      "source": [
        "#ваш код здесь\n",
        "#Нам навскидку подходят MultinomialNB, ComplementNB, BernoulliNB. Несложно уж и каждый обучить и посмотреть на каждом\n",
        "from sklearn.naive_bayes import MultinomialNB, BernoulliNB, ComplementNB\n",
        "mnb = MultinomialNB(alpha=0.01)\n",
        "mnb.fit(X_train, y_train) \n",
        "\n",
        "bnb = BernoulliNB(alpha=0.01)\n",
        "bnb.fit(X_train, y_train) \n",
        "\n",
        "cnb = ComplementNB(alpha=0.01)\n",
        "cnb.fit(X_train, y_train) "
      ]
    },
    {
      "attachments": {},
      "cell_type": "markdown",
      "id": "d803fbe3",
      "metadata": {
        "id": "d803fbe3"
      },
      "source": [
        "Оцените результат с точки зрения всех известных вам метрик (не менее трёх):"
      ]
    },
    {
      "cell_type": "code",
      "execution_count": 13,
      "id": "b0bbc4d2",
      "metadata": {
        "id": "b0bbc4d2"
      },
      "outputs": [
        {
          "data": {
            "text/html": [
              "<div>\n",
              "<style scoped>\n",
              "    .dataframe tbody tr th:only-of-type {\n",
              "        vertical-align: middle;\n",
              "    }\n",
              "\n",
              "    .dataframe tbody tr th {\n",
              "        vertical-align: top;\n",
              "    }\n",
              "\n",
              "    .dataframe thead th {\n",
              "        text-align: right;\n",
              "    }\n",
              "</style>\n",
              "<table border=\"1\" class=\"dataframe\">\n",
              "  <thead>\n",
              "    <tr style=\"text-align: right;\">\n",
              "      <th></th>\n",
              "      <th>acc</th>\n",
              "      <th>pre</th>\n",
              "      <th>rec</th>\n",
              "    </tr>\n",
              "  </thead>\n",
              "  <tbody>\n",
              "    <tr>\n",
              "      <th>MultinomialNB</th>\n",
              "      <td>0.986667</td>\n",
              "      <td>0.919355</td>\n",
              "      <td>1.0</td>\n",
              "    </tr>\n",
              "    <tr>\n",
              "      <th>BernoulliNB</th>\n",
              "      <td>0.973333</td>\n",
              "      <td>0.838710</td>\n",
              "      <td>1.0</td>\n",
              "    </tr>\n",
              "    <tr>\n",
              "      <th>ComplementNB</th>\n",
              "      <td>0.988000</td>\n",
              "      <td>0.927419</td>\n",
              "      <td>1.0</td>\n",
              "    </tr>\n",
              "  </tbody>\n",
              "</table>\n",
              "</div>"
            ],
            "text/plain": [
              "                    acc       pre  rec\n",
              "MultinomialNB  0.986667  0.919355  1.0\n",
              "BernoulliNB    0.973333  0.838710  1.0\n",
              "ComplementNB   0.988000  0.927419  1.0"
            ]
          },
          "execution_count": 13,
          "metadata": {},
          "output_type": "execute_result"
        }
      ],
      "source": [
        "#ваш код здесь\n",
        "#Посмотрим на accuracy, precision и recall вот прям по классике. Выведем в виде таблички метрика/модель\n",
        "import numpy as np\n",
        "from sklearn.metrics import accuracy_score, recall_score, precision_score\n",
        "columns = ['acc','pre','rec']\n",
        "index = ['MultinomialNB','BernoulliNB','ComplementNB']\n",
        "vals = np.zeros([3,3])\n",
        "\n",
        "for i,model in enumerate([mnb,bnb,cnb]):\n",
        "    y_test_pred = model.predict(X_test)\n",
        "    vals[i,0] = accuracy_score(y_test_pred, y_test)\n",
        "    vals[i,1] = precision_score(y_test_pred, y_test)\n",
        "    vals[i,2] = recall_score(y_test_pred, y_test)\n",
        "\n",
        "res_df = pd.DataFrame(vals, index=index, columns=columns)\n",
        "res_df\n"
      ]
    },
    {
      "attachments": {},
      "cell_type": "markdown",
      "id": "b34fb6db",
      "metadata": {},
      "source": [
        "***Забавно, что ВСЕ спам письма были определены всеми моделями (recall=1), но все модели отнесли часть нормальных писем к спаму. Это кстати очень сходится с практикой пользования электронной почтой в жизни***"
      ]
    },
    {
      "attachments": {},
      "cell_type": "markdown",
      "id": "c85976d1",
      "metadata": {
        "id": "c85976d1"
      },
      "source": [
        "Нарисуйте ROC-кривую:"
      ]
    },
    {
      "cell_type": "code",
      "execution_count": 14,
      "id": "b4195126",
      "metadata": {
        "id": "b4195126"
      },
      "outputs": [],
      "source": [
        "#ваш код здесь\n",
        "#Лучшей кажется модель ComplementNB, так что кривую для нее будем рисовать и ее возьмем для дальнейших изысканий\n",
        "#Второй момент - ROC кривую вроде мы не строили, строили PR-кривую, а это все же как я понял, несколько другая история. \n",
        "#Но мне кажется, там картинки должны соотносится в каком-то смысле, судя по описанию ROC-кривой. Пожтому построим и то и другое.\n",
        "\n",
        "#Начнем со знакомой PR-кривой\n",
        "y_test_proba_pred = cnb.predict_proba(X_test)[:,1]\n",
        "\n",
        "from sklearn.metrics import precision_recall_curve\n",
        "precision, recall, thresholds = precision_recall_curve(y_test, y_test_proba_pred)\n",
        "\n",
        "from sklearn.metrics import roc_curve\n",
        "fpr, tpr, thresholds_roc = roc_curve(y_test, y_test_proba_pred)\n"
      ]
    },
    {
      "cell_type": "code",
      "execution_count": 15,
      "id": "dd034567",
      "metadata": {},
      "outputs": [
        {
          "data": {
            "image/png": "[encoded data removed]",
            "text/plain": [
              "<Figure size 800x600 with 2 Axes>"
            ]
          },
          "metadata": {},
          "output_type": "display_data"
        }
      ],
      "source": [
        "import matplotlib.pyplot as plt\n",
        "fig, axes = plt.subplots(2,1,figsize=(8, 6)) #фигура + координатная плоскость\n",
        "\n",
        "axes[0].plot(precision, recall, label='Decision Tree PR')\n",
        "axes[0].set_title('PR-Curve')\n",
        "axes[0].set_xlabel('Recall')\n",
        "axes[0].set_ylabel('Precision')\n",
        "\n",
        "axes[1].plot(fpr, tpr, label='Decision Tree PR')\n",
        "axes[1].set_title('ROC-Curve')\n",
        "axes[1].set_xlabel('fpr')\n",
        "axes[1].set_ylabel('tpr')\n",
        "\n",
        "\n",
        "plt.tight_layout()"
      ]
    },
    {
      "attachments": {},
      "cell_type": "markdown",
      "id": "8f4ab423",
      "metadata": {},
      "source": [
        "***Кривые действительно похожи. И вообще, наш алгорити работает очень хорошо, судя по обеим кривым (площадь подграфиков обеих кривых близка к максимально возможной)***"
      ]
    },
    {
      "attachments": {},
      "cell_type": "markdown",
      "id": "cf0bb49b",
      "metadata": {
        "id": "cf0bb49b"
      },
      "source": [
        "## Задание 5 (3 балла)"
      ]
    },
    {
      "attachments": {},
      "cell_type": "markdown",
      "id": "30b7a0ae",
      "metadata": {
        "id": "30b7a0ae"
      },
      "source": [
        "Переберите несколько значений alpha с помощью кросс-валидации. Оцените, зависит ли от этого параметра качество классификации."
      ]
    },
    {
      "cell_type": "code",
      "execution_count": 16,
      "id": "3513d907",
      "metadata": {
        "id": "3513d907"
      },
      "outputs": [],
      "source": [
        "#ваш код здесь\n",
        "#Как итог, построим график зависимости 3х выбранных метрик от alpha\n",
        "from sklearn import model_selection\n",
        "\n",
        "result_list = [] #alpha, acc, pre, rec на обученных данных с помощью кросс-валидации\n",
        "\n",
        "for alpha in np.linspace(0.01,2,100):\n",
        "    model = ComplementNB(alpha=alpha)\n",
        "    model.fit(X_train, y_train)\n",
        "    skf = model_selection.StratifiedKFold(n_splits=5)\n",
        "    y_cv_proba_pred = model_selection.cross_val_predict(model, X_train, y_train, cv=skf, method='predict')\n",
        "    result_list.append([alpha,accuracy_score(y_cv_proba_pred, y_train),\n",
        "                        precision_score(y_cv_proba_pred, y_train),recall_score(y_cv_proba_pred, y_train)])\n",
        " \n",
        "result_list = pd.DataFrame(result_list, columns= ['alpha','acc', 'pre', 'rec'])\n"
      ]
    },
    {
      "cell_type": "code",
      "execution_count": 17,
      "id": "eeae97e6",
      "metadata": {},
      "outputs": [
        {
          "data": {
            "image/png": "[encoded data removed]",
            "text/plain": [
              "<Figure size 1000x400 with 1 Axes>"
            ]
          },
          "metadata": {},
          "output_type": "display_data"
        }
      ],
      "source": [
        "fig = plt.figure(figsize=(10, 4))\n",
        "axes = fig.add_axes([0, 0, 1, 1])\n",
        "axes.plot(result_list['acc'], label='accuracy')\n",
        "axes.plot(result_list['pre'], label='precision')\n",
        "axes.plot(result_list['rec'], label='recall')\n",
        "axes.legend()\n",
        "axes.grid()\n"
      ]
    },
    {
      "attachments": {},
      "cell_type": "markdown",
      "id": "a0883b6a",
      "metadata": {},
      "source": [
        "***ИНТЕРЕСНЫЕ НАБЛЮДЕНИЯ И ВЫВОДЫ ПО ЗАВИСИМОСТИ ОТ ALPHA***\n",
        "\n",
        "1. *Вообще говоря, судя по всему увеличение alpha при наивной байесовской классификации увеличивает recall, и уменьшает precision. В этой задаче это так по крайней мере*\n",
        "2. *Я бы выбирал для реальной задачи значение alpha = 0.375. На мой взгляд получаем сбалансированную модель, котора с максимальной вероятностью не положит в спам важные сообщения*\n",
        "3. *И да, качество классификации зависит от alpha, по крайней мере очень существенно по метрике precision, которая на мой взгляд важна в данной задаче*"
      ]
    }
  ],
  "metadata": {
    "colab": {
      "name": "SGA_unit6_NBC.ipynb",
      "provenance": []
    },
    "kernelspec": {
      "display_name": "Python 3 (ipykernel)",
      "language": "python",
      "name": "python3"
    },
    "language_info": {
      "codemirror_mode": {
        "name": "ipython",
        "version": 3
      },
      "file_extension": ".py",
      "mimetype": "text/x-python",
      "name": "python",
      "nbconvert_exporter": "python",
      "pygments_lexer": "ipython3",
      "version": "3.9.10"
    }
  },
  "nbformat": 4,
  "nbformat_minor": 5
}
