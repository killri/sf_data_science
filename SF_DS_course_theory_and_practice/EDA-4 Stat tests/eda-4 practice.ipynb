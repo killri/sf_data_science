{
 "cells": [
  {
   "cell_type": "code",
   "execution_count": 135,
   "metadata": {},
   "outputs": [],
   "source": [
    "import pandas as pd"
   ]
  },
  {
   "cell_type": "markdown",
   "metadata": {},
   "source": [
    "#### Задача\n",
    "* Проверьте данные на нормальность и на наличие корреляции. \n",
    "  * Для этого объедините 2 массива в DataFrame. \n",
    "  * Обоснуйте выбор теста на корреляцию. \n",
    "  * Сделайте вывод по гипотезе.\n",
    "* Также ответьте на вопрос:\n",
    "  * Какова разница в среднем размере мидии в зависимости от города-производителя. \n",
    "  * Обоснуйте выбор теста. \n",
    "  * Сделайте вывод по гипотезе."
   ]
  },
  {
   "cell_type": "markdown",
   "metadata": {},
   "source": [
    "### Формирование DataFrame из 2х массивов данных"
   ]
  },
  {
   "cell_type": "code",
   "execution_count": 136,
   "metadata": {},
   "outputs": [
    {
     "data": {
      "text/html": [
       "<div>\n",
       "<style scoped>\n",
       "    .dataframe tbody tr th:only-of-type {\n",
       "        vertical-align: middle;\n",
       "    }\n",
       "\n",
       "    .dataframe tbody tr th {\n",
       "        vertical-align: top;\n",
       "    }\n",
       "\n",
       "    .dataframe thead th {\n",
       "        text-align: right;\n",
       "    }\n",
       "</style>\n",
       "<table border=\"1\" class=\"dataframe\">\n",
       "  <thead>\n",
       "    <tr style=\"text-align: right;\">\n",
       "      <th></th>\n",
       "      <th>Город</th>\n",
       "      <th>Диаметр</th>\n",
       "    </tr>\n",
       "  </thead>\n",
       "  <tbody>\n",
       "    <tr>\n",
       "      <th>0</th>\n",
       "      <td>Спб</td>\n",
       "      <td>0.0974</td>\n",
       "    </tr>\n",
       "    <tr>\n",
       "      <th>1</th>\n",
       "      <td>Спб</td>\n",
       "      <td>0.1352</td>\n",
       "    </tr>\n",
       "    <tr>\n",
       "      <th>2</th>\n",
       "      <td>Спб</td>\n",
       "      <td>0.0817</td>\n",
       "    </tr>\n",
       "    <tr>\n",
       "      <th>3</th>\n",
       "      <td>Спб</td>\n",
       "      <td>0.1016</td>\n",
       "    </tr>\n",
       "    <tr>\n",
       "      <th>4</th>\n",
       "      <td>Спб</td>\n",
       "      <td>0.0968</td>\n",
       "    </tr>\n",
       "    <tr>\n",
       "      <th>5</th>\n",
       "      <td>Спб</td>\n",
       "      <td>0.1064</td>\n",
       "    </tr>\n",
       "    <tr>\n",
       "      <th>6</th>\n",
       "      <td>Спб</td>\n",
       "      <td>0.1050</td>\n",
       "    </tr>\n",
       "    <tr>\n",
       "      <th>7</th>\n",
       "      <td>Магадан</td>\n",
       "      <td>0.1033</td>\n",
       "    </tr>\n",
       "    <tr>\n",
       "      <th>8</th>\n",
       "      <td>Магадан</td>\n",
       "      <td>0.0915</td>\n",
       "    </tr>\n",
       "    <tr>\n",
       "      <th>9</th>\n",
       "      <td>Магадан</td>\n",
       "      <td>0.0781</td>\n",
       "    </tr>\n",
       "    <tr>\n",
       "      <th>10</th>\n",
       "      <td>Магадан</td>\n",
       "      <td>0.0685</td>\n",
       "    </tr>\n",
       "    <tr>\n",
       "      <th>11</th>\n",
       "      <td>Магадан</td>\n",
       "      <td>0.0677</td>\n",
       "    </tr>\n",
       "    <tr>\n",
       "      <th>12</th>\n",
       "      <td>Магадан</td>\n",
       "      <td>0.0697</td>\n",
       "    </tr>\n",
       "    <tr>\n",
       "      <th>13</th>\n",
       "      <td>Магадан</td>\n",
       "      <td>0.0764</td>\n",
       "    </tr>\n",
       "    <tr>\n",
       "      <th>14</th>\n",
       "      <td>Магадан</td>\n",
       "      <td>0.0689</td>\n",
       "    </tr>\n",
       "  </tbody>\n",
       "</table>\n",
       "</div>"
      ],
      "text/plain": [
       "      Город  Диаметр\n",
       "0       Спб   0.0974\n",
       "1       Спб   0.1352\n",
       "2       Спб   0.0817\n",
       "3       Спб   0.1016\n",
       "4       Спб   0.0968\n",
       "5       Спб   0.1064\n",
       "6       Спб   0.1050\n",
       "7   Магадан   0.1033\n",
       "8   Магадан   0.0915\n",
       "9   Магадан   0.0781\n",
       "10  Магадан   0.0685\n",
       "11  Магадан   0.0677\n",
       "12  Магадан   0.0697\n",
       "13  Магадан   0.0764\n",
       "14  Магадан   0.0689"
      ]
     },
     "execution_count": 136,
     "metadata": {},
     "output_type": "execute_result"
    }
   ],
   "source": [
    "#Наша дата-сет - это два списка данных о размерах мидий в СПб и Магадане. Скопируем его из исходника.\n",
    "petersburg = [0.0974, 0.1352, 0.0817, 0.1016, 0.0968, 0.1064, 0.105]\n",
    "magadan = [0.1033, 0.0915, 0.0781, 0.0685, 0.0677, 0.0697, 0.0764,\n",
    "           0.0689]\n",
    "\n",
    "#Создадим единый dataframe с наблюденими в фомате Город, Диаметр\n",
    "# Дата фрейм зададим списками по строкам Город-Наблюдение\n",
    "\n",
    "for i in range(len(petersburg)):\n",
    "    petersburg[i] = [\"Спб\",petersburg[i]]\n",
    "for i in range(len(magadan)):\n",
    "    magadan[i] = [\"Магадан\",magadan[i]]\n",
    "\n",
    "#Объединим данные в единый вложенный список \n",
    "petersburg.extend(magadan) \n",
    "\n",
    "#Создадим наш датафрейм\n",
    "df = pd.DataFrame(\n",
    "    data = petersburg,\n",
    "    columns= ['Город', 'Диаметр']\n",
    ") \n",
    "\n",
    "df"
   ]
  },
  {
   "cell_type": "markdown",
   "metadata": {},
   "source": [
    "### Проверки на нормальность"
   ]
  },
  {
   "cell_type": "code",
   "execution_count": 137,
   "metadata": {},
   "outputs": [
    {
     "name": "stdout",
     "output_type": "stream",
     "text": [
      "p=0.115\n",
      "Данные распределены нормально (не можем отвергнуть гипотезу о нормальном распределении) в совокупности\n",
      "p=0.242\n",
      "Данные распределены нормально (не можем отвергнуть гипотезу о нормальном распределении) по СПб\n",
      "p=0.036\n",
      "Данные не распределены нормально (мы отвергаем H0) по Магадану\n"
     ]
    }
   ],
   "source": [
    "#Данные из разных городов (разные наборы данных). Поэтому будем считать их независимыми. \n",
    "#На нормальность выборки я проверю и в совокупности и отдельно. Просто, чтобы разобраться, что происходит.\n",
    "# Как я понял из рукододства тест shapiro все данные поданные на вход считает единой выборкой\n",
    "from scipy.stats import shapiro\n",
    "alpha = 0.05 #зададим точность\n",
    "H0 = 'Данные распределены нормально (не можем отвергнуть гипотезу о нормальном распределении)'\n",
    "Ha = 'Данные не распределены нормально (мы отвергаем H0)'\n",
    "\n",
    "#тестируем данные в совокупности тестом Шапиро-Уилка\n",
    "_, p = shapiro(df['Диаметр'])\n",
    "print('p=%.3f' % p)\n",
    "\n",
    "if p > alpha:\n",
    "\tprint(H0, 'в совокупности')\n",
    "else:\n",
    "\tprint(Ha, 'в совокупности')\n",
    " \n",
    "#тестируем данные Питера тестом Шапиро-Уилка\n",
    "_, p = shapiro(df[ df['Город'] == 'Спб' ]['Диаметр'])\n",
    "print('p=%.3f' % p)\n",
    "\n",
    "if p > alpha:\n",
    "\tprint(H0, 'по СПб')\n",
    "else:\n",
    "\tprint(Ha, 'по СПб')\n",
    " \n",
    " #тестируем данные Магадана тестом Шапиро-Уилка\n",
    "_, p = shapiro(df[ df['Город'] == 'Магадан' ]['Диаметр'])\n",
    "print('p=%.3f' % p)\n",
    "\n",
    "if p > alpha:\n",
    "\tprint(H0, 'по Магадану')\n",
    "else:\n",
    "\tprint(Ha, 'по Магадану')\n"
   ]
  },
  {
   "cell_type": "markdown",
   "metadata": {},
   "source": [
    "Данные меня удивили. Получается, что выборка в совокупности скорее нормальная (правда с достаточно низким p-value), данные по СПб нормальны, а вот по Магадану получается, что H0 опровергнута.\n",
    "\n",
    "Я даже решил посмотреть распределение на графике (ниже)\n",
    "\n",
    "Вообще, я думаю, что такие непонятки связаны с малым количеством наблюдений в СПб и Магадане отдельно. В реальных практических задачах дефицита наблюдений быть не должно по идее..."
   ]
  },
  {
   "cell_type": "code",
   "execution_count": 138,
   "metadata": {},
   "outputs": [
    {
     "data": {
      "application/vnd.plotly.v1+json": {
       "config": {
        "plotlyServerURL": "https://plot.ly"
       },
       "data": [
        {
         "alignmentgroup": "True",
         "bingroup": "x",
         "hovertemplate": "Город=Спб<br>Диаметр=%{x}<br>count=%{y}<extra></extra>",
         "legendgroup": "Спб",
         "marker": {
          "color": "#636efa",
          "pattern": {
           "shape": ""
          }
         },
         "name": "Спб",
         "nbinsx": 20,
         "offsetgroup": "Спб",
         "orientation": "v",
         "showlegend": true,
         "texttemplate": "%{value}",
         "type": "histogram",
         "x": [
          0.0974,
          0.1352,
          0.0817,
          0.1016,
          0.0968,
          0.1064,
          0.105
         ],
         "xaxis": "x",
         "yaxis": "y"
        },
        {
         "alignmentgroup": "True",
         "bingroup": "x",
         "hovertemplate": "Город=Магадан<br>Диаметр=%{x}<br>count=%{y}<extra></extra>",
         "legendgroup": "Магадан",
         "marker": {
          "color": "#EF553B",
          "pattern": {
           "shape": ""
          }
         },
         "name": "Магадан",
         "nbinsx": 20,
         "offsetgroup": "Магадан",
         "orientation": "v",
         "showlegend": true,
         "texttemplate": "%{value}",
         "type": "histogram",
         "x": [
          0.1033,
          0.0915,
          0.0781,
          0.0685,
          0.0677,
          0.0697,
          0.0764,
          0.0689
         ],
         "xaxis": "x",
         "yaxis": "y"
        }
       ],
       "layout": {
        "barmode": "relative",
        "legend": {
         "title": {
          "text": "Город"
         },
         "tracegroupgap": 0
        },
        "template": {
         "data": {
          "bar": [
           {
            "error_x": {
             "color": "#2a3f5f"
            },
            "error_y": {
             "color": "#2a3f5f"
            },
            "marker": {
             "line": {
              "color": "#E5ECF6",
              "width": 0.5
             },
             "pattern": {
              "fillmode": "overlay",
              "size": 10,
              "solidity": 0.2
             }
            },
            "type": "bar"
           }
          ],
          "barpolar": [
           {
            "marker": {
             "line": {
              "color": "#E5ECF6",
              "width": 0.5
             },
             "pattern": {
              "fillmode": "overlay",
              "size": 10,
              "solidity": 0.2
             }
            },
            "type": "barpolar"
           }
          ],
          "carpet": [
           {
            "aaxis": {
             "endlinecolor": "#2a3f5f",
             "gridcolor": "white",
             "linecolor": "white",
             "minorgridcolor": "white",
             "startlinecolor": "#2a3f5f"
            },
            "baxis": {
             "endlinecolor": "#2a3f5f",
             "gridcolor": "white",
             "linecolor": "white",
             "minorgridcolor": "white",
             "startlinecolor": "#2a3f5f"
            },
            "type": "carpet"
           }
          ],
          "choropleth": [
           {
            "colorbar": {
             "outlinewidth": 0,
             "ticks": ""
            },
            "type": "choropleth"
           }
          ],
          "contour": [
           {
            "colorbar": {
             "outlinewidth": 0,
             "ticks": ""
            },
            "colorscale": [
             [
              0,
              "#0d0887"
             ],
             [
              0.1111111111111111,
              "#46039f"
             ],
             [
              0.2222222222222222,
              "#7201a8"
             ],
             [
              0.3333333333333333,
              "#9c179e"
             ],
             [
              0.4444444444444444,
              "#bd3786"
             ],
             [
              0.5555555555555556,
              "#d8576b"
             ],
             [
              0.6666666666666666,
              "#ed7953"
             ],
             [
              0.7777777777777778,
              "#fb9f3a"
             ],
             [
              0.8888888888888888,
              "#fdca26"
             ],
             [
              1,
              "#f0f921"
             ]
            ],
            "type": "contour"
           }
          ],
          "contourcarpet": [
           {
            "colorbar": {
             "outlinewidth": 0,
             "ticks": ""
            },
            "type": "contourcarpet"
           }
          ],
          "heatmap": [
           {
            "colorbar": {
             "outlinewidth": 0,
             "ticks": ""
            },
            "colorscale": [
             [
              0,
              "#0d0887"
             ],
             [
              0.1111111111111111,
              "#46039f"
             ],
             [
              0.2222222222222222,
              "#7201a8"
             ],
             [
              0.3333333333333333,
              "#9c179e"
             ],
             [
              0.4444444444444444,
              "#bd3786"
             ],
             [
              0.5555555555555556,
              "#d8576b"
             ],
             [
              0.6666666666666666,
              "#ed7953"
             ],
             [
              0.7777777777777778,
              "#fb9f3a"
             ],
             [
              0.8888888888888888,
              "#fdca26"
             ],
             [
              1,
              "#f0f921"
             ]
            ],
            "type": "heatmap"
           }
          ],
          "heatmapgl": [
           {
            "colorbar": {
             "outlinewidth": 0,
             "ticks": ""
            },
            "colorscale": [
             [
              0,
              "#0d0887"
             ],
             [
              0.1111111111111111,
              "#46039f"
             ],
             [
              0.2222222222222222,
              "#7201a8"
             ],
             [
              0.3333333333333333,
              "#9c179e"
             ],
             [
              0.4444444444444444,
              "#bd3786"
             ],
             [
              0.5555555555555556,
              "#d8576b"
             ],
             [
              0.6666666666666666,
              "#ed7953"
             ],
             [
              0.7777777777777778,
              "#fb9f3a"
             ],
             [
              0.8888888888888888,
              "#fdca26"
             ],
             [
              1,
              "#f0f921"
             ]
            ],
            "type": "heatmapgl"
           }
          ],
          "histogram": [
           {
            "marker": {
             "pattern": {
              "fillmode": "overlay",
              "size": 10,
              "solidity": 0.2
             }
            },
            "type": "histogram"
           }
          ],
          "histogram2d": [
           {
            "colorbar": {
             "outlinewidth": 0,
             "ticks": ""
            },
            "colorscale": [
             [
              0,
              "#0d0887"
             ],
             [
              0.1111111111111111,
              "#46039f"
             ],
             [
              0.2222222222222222,
              "#7201a8"
             ],
             [
              0.3333333333333333,
              "#9c179e"
             ],
             [
              0.4444444444444444,
              "#bd3786"
             ],
             [
              0.5555555555555556,
              "#d8576b"
             ],
             [
              0.6666666666666666,
              "#ed7953"
             ],
             [
              0.7777777777777778,
              "#fb9f3a"
             ],
             [
              0.8888888888888888,
              "#fdca26"
             ],
             [
              1,
              "#f0f921"
             ]
            ],
            "type": "histogram2d"
           }
          ],
          "histogram2dcontour": [
           {
            "colorbar": {
             "outlinewidth": 0,
             "ticks": ""
            },
            "colorscale": [
             [
              0,
              "#0d0887"
             ],
             [
              0.1111111111111111,
              "#46039f"
             ],
             [
              0.2222222222222222,
              "#7201a8"
             ],
             [
              0.3333333333333333,
              "#9c179e"
             ],
             [
              0.4444444444444444,
              "#bd3786"
             ],
             [
              0.5555555555555556,
              "#d8576b"
             ],
             [
              0.6666666666666666,
              "#ed7953"
             ],
             [
              0.7777777777777778,
              "#fb9f3a"
             ],
             [
              0.8888888888888888,
              "#fdca26"
             ],
             [
              1,
              "#f0f921"
             ]
            ],
            "type": "histogram2dcontour"
           }
          ],
          "mesh3d": [
           {
            "colorbar": {
             "outlinewidth": 0,
             "ticks": ""
            },
            "type": "mesh3d"
           }
          ],
          "parcoords": [
           {
            "line": {
             "colorbar": {
              "outlinewidth": 0,
              "ticks": ""
             }
            },
            "type": "parcoords"
           }
          ],
          "pie": [
           {
            "automargin": true,
            "type": "pie"
           }
          ],
          "scatter": [
           {
            "fillpattern": {
             "fillmode": "overlay",
             "size": 10,
             "solidity": 0.2
            },
            "type": "scatter"
           }
          ],
          "scatter3d": [
           {
            "line": {
             "colorbar": {
              "outlinewidth": 0,
              "ticks": ""
             }
            },
            "marker": {
             "colorbar": {
              "outlinewidth": 0,
              "ticks": ""
             }
            },
            "type": "scatter3d"
           }
          ],
          "scattercarpet": [
           {
            "marker": {
             "colorbar": {
              "outlinewidth": 0,
              "ticks": ""
             }
            },
            "type": "scattercarpet"
           }
          ],
          "scattergeo": [
           {
            "marker": {
             "colorbar": {
              "outlinewidth": 0,
              "ticks": ""
             }
            },
            "type": "scattergeo"
           }
          ],
          "scattergl": [
           {
            "marker": {
             "colorbar": {
              "outlinewidth": 0,
              "ticks": ""
             }
            },
            "type": "scattergl"
           }
          ],
          "scattermapbox": [
           {
            "marker": {
             "colorbar": {
              "outlinewidth": 0,
              "ticks": ""
             }
            },
            "type": "scattermapbox"
           }
          ],
          "scatterpolar": [
           {
            "marker": {
             "colorbar": {
              "outlinewidth": 0,
              "ticks": ""
             }
            },
            "type": "scatterpolar"
           }
          ],
          "scatterpolargl": [
           {
            "marker": {
             "colorbar": {
              "outlinewidth": 0,
              "ticks": ""
             }
            },
            "type": "scatterpolargl"
           }
          ],
          "scatterternary": [
           {
            "marker": {
             "colorbar": {
              "outlinewidth": 0,
              "ticks": ""
             }
            },
            "type": "scatterternary"
           }
          ],
          "surface": [
           {
            "colorbar": {
             "outlinewidth": 0,
             "ticks": ""
            },
            "colorscale": [
             [
              0,
              "#0d0887"
             ],
             [
              0.1111111111111111,
              "#46039f"
             ],
             [
              0.2222222222222222,
              "#7201a8"
             ],
             [
              0.3333333333333333,
              "#9c179e"
             ],
             [
              0.4444444444444444,
              "#bd3786"
             ],
             [
              0.5555555555555556,
              "#d8576b"
             ],
             [
              0.6666666666666666,
              "#ed7953"
             ],
             [
              0.7777777777777778,
              "#fb9f3a"
             ],
             [
              0.8888888888888888,
              "#fdca26"
             ],
             [
              1,
              "#f0f921"
             ]
            ],
            "type": "surface"
           }
          ],
          "table": [
           {
            "cells": {
             "fill": {
              "color": "#EBF0F8"
             },
             "line": {
              "color": "white"
             }
            },
            "header": {
             "fill": {
              "color": "#C8D4E3"
             },
             "line": {
              "color": "white"
             }
            },
            "type": "table"
           }
          ]
         },
         "layout": {
          "annotationdefaults": {
           "arrowcolor": "#2a3f5f",
           "arrowhead": 0,
           "arrowwidth": 1
          },
          "autotypenumbers": "strict",
          "coloraxis": {
           "colorbar": {
            "outlinewidth": 0,
            "ticks": ""
           }
          },
          "colorscale": {
           "diverging": [
            [
             0,
             "#8e0152"
            ],
            [
             0.1,
             "#c51b7d"
            ],
            [
             0.2,
             "#de77ae"
            ],
            [
             0.3,
             "#f1b6da"
            ],
            [
             0.4,
             "#fde0ef"
            ],
            [
             0.5,
             "#f7f7f7"
            ],
            [
             0.6,
             "#e6f5d0"
            ],
            [
             0.7,
             "#b8e186"
            ],
            [
             0.8,
             "#7fbc41"
            ],
            [
             0.9,
             "#4d9221"
            ],
            [
             1,
             "#276419"
            ]
           ],
           "sequential": [
            [
             0,
             "#0d0887"
            ],
            [
             0.1111111111111111,
             "#46039f"
            ],
            [
             0.2222222222222222,
             "#7201a8"
            ],
            [
             0.3333333333333333,
             "#9c179e"
            ],
            [
             0.4444444444444444,
             "#bd3786"
            ],
            [
             0.5555555555555556,
             "#d8576b"
            ],
            [
             0.6666666666666666,
             "#ed7953"
            ],
            [
             0.7777777777777778,
             "#fb9f3a"
            ],
            [
             0.8888888888888888,
             "#fdca26"
            ],
            [
             1,
             "#f0f921"
            ]
           ],
           "sequentialminus": [
            [
             0,
             "#0d0887"
            ],
            [
             0.1111111111111111,
             "#46039f"
            ],
            [
             0.2222222222222222,
             "#7201a8"
            ],
            [
             0.3333333333333333,
             "#9c179e"
            ],
            [
             0.4444444444444444,
             "#bd3786"
            ],
            [
             0.5555555555555556,
             "#d8576b"
            ],
            [
             0.6666666666666666,
             "#ed7953"
            ],
            [
             0.7777777777777778,
             "#fb9f3a"
            ],
            [
             0.8888888888888888,
             "#fdca26"
            ],
            [
             1,
             "#f0f921"
            ]
           ]
          },
          "colorway": [
           "#636efa",
           "#EF553B",
           "#00cc96",
           "#ab63fa",
           "#FFA15A",
           "#19d3f3",
           "#FF6692",
           "#B6E880",
           "#FF97FF",
           "#FECB52"
          ],
          "font": {
           "color": "#2a3f5f"
          },
          "geo": {
           "bgcolor": "white",
           "lakecolor": "white",
           "landcolor": "#E5ECF6",
           "showlakes": true,
           "showland": true,
           "subunitcolor": "white"
          },
          "hoverlabel": {
           "align": "left"
          },
          "hovermode": "closest",
          "mapbox": {
           "style": "light"
          },
          "paper_bgcolor": "white",
          "plot_bgcolor": "#E5ECF6",
          "polar": {
           "angularaxis": {
            "gridcolor": "white",
            "linecolor": "white",
            "ticks": ""
           },
           "bgcolor": "#E5ECF6",
           "radialaxis": {
            "gridcolor": "white",
            "linecolor": "white",
            "ticks": ""
           }
          },
          "scene": {
           "xaxis": {
            "backgroundcolor": "#E5ECF6",
            "gridcolor": "white",
            "gridwidth": 2,
            "linecolor": "white",
            "showbackground": true,
            "ticks": "",
            "zerolinecolor": "white"
           },
           "yaxis": {
            "backgroundcolor": "#E5ECF6",
            "gridcolor": "white",
            "gridwidth": 2,
            "linecolor": "white",
            "showbackground": true,
            "ticks": "",
            "zerolinecolor": "white"
           },
           "zaxis": {
            "backgroundcolor": "#E5ECF6",
            "gridcolor": "white",
            "gridwidth": 2,
            "linecolor": "white",
            "showbackground": true,
            "ticks": "",
            "zerolinecolor": "white"
           }
          },
          "shapedefaults": {
           "line": {
            "color": "#2a3f5f"
           }
          },
          "ternary": {
           "aaxis": {
            "gridcolor": "white",
            "linecolor": "white",
            "ticks": ""
           },
           "baxis": {
            "gridcolor": "white",
            "linecolor": "white",
            "ticks": ""
           },
           "bgcolor": "#E5ECF6",
           "caxis": {
            "gridcolor": "white",
            "linecolor": "white",
            "ticks": ""
           }
          },
          "title": {
           "x": 0.05
          },
          "xaxis": {
           "automargin": true,
           "gridcolor": "white",
           "linecolor": "white",
           "ticks": "",
           "title": {
            "standoff": 15
           },
           "zerolinecolor": "white",
           "zerolinewidth": 2
          },
          "yaxis": {
           "automargin": true,
           "gridcolor": "white",
           "linecolor": "white",
           "ticks": "",
           "title": {
            "standoff": 15
           },
           "zerolinecolor": "white",
           "zerolinewidth": 2
          }
         }
        },
        "title": {
         "text": "Распеделение диаметра"
        },
        "xaxis": {
         "anchor": "y",
         "domain": [
          0,
          1
         ],
         "title": {
          "text": "Диаметр"
         }
        },
        "yaxis": {
         "anchor": "x",
         "domain": [
          0,
          1
         ],
         "title": {
          "text": "count"
         }
        }
       }
      }
     },
     "metadata": {},
     "output_type": "display_data"
    }
   ],
   "source": [
    "# Данные меня удивили. Получается, что выборка в совокупности скорее нормальная (правда с достаточно низким p-value), \n",
    "# данные по СПб нормальны, а вот по Магадану получается, что H0 опровергнута\n",
    "import plotly.express as px\n",
    "\n",
    "fig = px.histogram(df, x='Диаметр', title='Распеделение диаметра', text_auto=True, nbins=20, color = 'Город')\n",
    "fig.show()"
   ]
  },
  {
   "cell_type": "markdown",
   "metadata": {},
   "source": [
    "На всякий случай, до окончательных выводов по нормальности сделаем еще и тесты Д'Агостино:\n",
    "Там все также, но вот какой итог:\n",
    "1. По выборке в совокупности я получил сообщение, что данные валидны от 20 наблюдений, но получил результат.\n",
    "2. Маленькие же выборки Магадана и Питера тест даже не принял, с ошибкой, что значение слишком мало"
   ]
  },
  {
   "cell_type": "markdown",
   "metadata": {},
   "source": [
    "Итог:\n",
    "***Будем проводить исследование, как сработают разные методы***\n",
    "\n",
    "Начнем с подхода, как к нормальной выборке, а потом попробуем непараметрические тесты.\n",
    "\n",
    "Но в жизни, я бы сказал, что ***данных мало***, а ***на нормальность их надо проверять отдельно, а не в совокупности*** т.к. это независимые разные выборки, хоть и измерение одинаковое.\n",
    "\n",
    "*Проверяющему ментору: просьба указать в обратной связи, согласны ли вы с последним утверждением, и, если нет, то почему*"
   ]
  },
  {
   "cell_type": "markdown",
   "metadata": {},
   "source": [
    "### Определение корреляции\n",
    "\n",
    "Тут конечно у меня большой вопрос. Что такое корреляция? Это мера зависимости в парах параметров между друг с другом.\n",
    "Что в нашей задаче является наблюдением? Выбор города и измерение диаметра конкретной Мидии из этого города.\n",
    "\n",
    "Соответсвенно корреляцию мы можем измерять только между величинами \"Город\" и \"Диаметр\".\n",
    "\n",
    "Неверно было бы ставить вопрос о том коррелируют ли диаметры мидий из двух городов. Но это просте неверная потсановка вопроса: про разные города мы можем сказать, что это разные наблюдения только.\n",
    "\n",
    "Переведем параметр Город в Числовой (1 = Питер, 0 = Магадан) и составим матрицу корреляций.\n",
    " Т.к. вопрос о нормальности у нас полуоткрыт на этих данных, я сделаю и тест Писона и тест Спирмана. Я уверен, что они покажут похожие результаты, а проверка не сложная."
   ]
  },
  {
   "cell_type": "code",
   "execution_count": 139,
   "metadata": {},
   "outputs": [
    {
     "name": "stdout",
     "output_type": "stream",
     "text": [
      "Матрица корреляции города и диаметра по Пирсону\n"
     ]
    },
    {
     "data": {
      "text/html": [
       "<div>\n",
       "<style scoped>\n",
       "    .dataframe tbody tr th:only-of-type {\n",
       "        vertical-align: middle;\n",
       "    }\n",
       "\n",
       "    .dataframe tbody tr th {\n",
       "        vertical-align: top;\n",
       "    }\n",
       "\n",
       "    .dataframe thead th {\n",
       "        text-align: right;\n",
       "    }\n",
       "</style>\n",
       "<table border=\"1\" class=\"dataframe\">\n",
       "  <thead>\n",
       "    <tr style=\"text-align: right;\">\n",
       "      <th></th>\n",
       "      <th>Диаметр</th>\n",
       "      <th>id_города</th>\n",
       "    </tr>\n",
       "  </thead>\n",
       "  <tbody>\n",
       "    <tr>\n",
       "      <th>Диаметр</th>\n",
       "      <td>1.000000</td>\n",
       "      <td>0.683781</td>\n",
       "    </tr>\n",
       "    <tr>\n",
       "      <th>id_города</th>\n",
       "      <td>0.683781</td>\n",
       "      <td>1.000000</td>\n",
       "    </tr>\n",
       "  </tbody>\n",
       "</table>\n",
       "</div>"
      ],
      "text/plain": [
       "            Диаметр  id_города\n",
       "Диаметр    1.000000   0.683781\n",
       "id_города  0.683781   1.000000"
      ]
     },
     "metadata": {},
     "output_type": "display_data"
    },
    {
     "name": "stdout",
     "output_type": "stream",
     "text": [
      "Матрица корреляции города и диаметра по Спирману\n"
     ]
    },
    {
     "data": {
      "text/html": [
       "<div>\n",
       "<style scoped>\n",
       "    .dataframe tbody tr th:only-of-type {\n",
       "        vertical-align: middle;\n",
       "    }\n",
       "\n",
       "    .dataframe tbody tr th {\n",
       "        vertical-align: top;\n",
       "    }\n",
       "\n",
       "    .dataframe thead th {\n",
       "        text-align: right;\n",
       "    }\n",
       "</style>\n",
       "<table border=\"1\" class=\"dataframe\">\n",
       "  <thead>\n",
       "    <tr style=\"text-align: right;\">\n",
       "      <th></th>\n",
       "      <th>Диаметр</th>\n",
       "      <th>id_города</th>\n",
       "    </tr>\n",
       "  </thead>\n",
       "  <tbody>\n",
       "    <tr>\n",
       "      <th>Диаметр</th>\n",
       "      <td>1.000000</td>\n",
       "      <td>0.711378</td>\n",
       "    </tr>\n",
       "    <tr>\n",
       "      <th>id_города</th>\n",
       "      <td>0.711378</td>\n",
       "      <td>1.000000</td>\n",
       "    </tr>\n",
       "  </tbody>\n",
       "</table>\n",
       "</div>"
      ],
      "text/plain": [
       "            Диаметр  id_города\n",
       "Диаметр    1.000000   0.711378\n",
       "id_города  0.711378   1.000000"
      ]
     },
     "metadata": {},
     "output_type": "display_data"
    },
    {
     "name": "stdout",
     "output_type": "stream",
     "text": [
      "SpearmanrResult(correlation=0.711378010251503, pvalue=0.00294008557136221)\n",
      "PearsonRResult(statistic=0.6837806545855616, pvalue=0.004940324868384323)\n"
     ]
    }
   ],
   "source": [
    "df['id_города'] = df['Город'].apply(lambda x: 1 if x == 'Спб' else 0)\n",
    "print('Матрица корреляции города и диаметра по Пирсону')\n",
    "display(df.corr())\n",
    "print('Матрица корреляции города и диаметра по Спирману')\n",
    "display(df.corr(method='spearman'))\n",
    "\n",
    "# и ради интереса посчитаем спирмана через scipy.stats\n",
    "from scipy.stats import spearmanr\n",
    "from scipy.stats import pearsonr\n",
    "print(spearmanr(df['id_города'], df['Диаметр']))\n",
    "print(pearsonr(df['id_города'], df['Диаметр']))\n",
    "\n"
   ]
  },
  {
   "cell_type": "markdown",
   "metadata": {},
   "source": [
    "У нас есть условный порог 0.7, чтобы считать сильную корреляцию и среднюю. Наши исследования показали результат около этого числа с разных сторон. Но по факту мы можем сказать, что обоими методами корреляция около этого порога. А значит есть существенная и даже скорее сильная корреляция города и размера мидий. Причем она положительная. А Питер у нас с номеров 1, т.е. больше номера Магадана.\n",
    "\n",
    "Вывод:\n",
    "***Мидии в Питере в среднем больше мидий из Магадана***\n",
    "\n",
    "*не такой уж и великий вывод - все было видно на графике распределений сразу*"
   ]
  },
  {
   "cell_type": "markdown",
   "metadata": {},
   "source": [
    "### Определение разницы в среднем размере мидии в зависимости от города-производителя\n",
    "\n",
    "Ну первое что приходит в голову - вычислить эту разницу, как разницу средних значений выборок, а потом проверить гипотезу, что это то самое значение.\n",
    "Опять же общая выборка ведет себя как нормальная, но наблюдений мало, а тест на нормальность \"полупройден\".\n",
    "\n",
    "Поэтому делаем двумя подходами, что уж. Интересно будет понаблюдать разницу."
   ]
  },
  {
   "cell_type": "code",
   "execution_count": 140,
   "metadata": {},
   "outputs": [
    {
     "name": "stdout",
     "output_type": "stream",
     "text": [
      "Разница средних диаметров равна: 0.02543\n"
     ]
    }
   ],
   "source": [
    "delta = df[df['Город'] == 'Спб']['Диаметр'].mean() - df[df['Город'] == 'Магадан']['Диаметр'].mean() \n",
    "delta = round(delta,5)\n",
    "print(f'Разница средних диаметров равна: {delta}')"
   ]
  },
  {
   "cell_type": "markdown",
   "metadata": {},
   "source": [
    "Теперь сделаем так: \n",
    "\n",
    "добавим ко всем значениям Магадана нашу вероятную дельту (по сути получим то же распределение в выбоке, только со смещением на константу) и проверим этим два распределения на совпадение средних значений.\n",
    "\n",
    "Т.к. магадан распределен ненормально, а смещение на нормальность распределения не влияет, я бы делал тест уилкоксона (который сумма рангов) - буду искать его в документации\n",
    "\n",
    "Но для интереса, я решил провести тест на нормальность смещенных данных в совокупности, и если будет \"да\", то сделать через независимый t-тест (независимый, т.к. выборки из разных городов)"
   ]
  },
  {
   "cell_type": "code",
   "execution_count": 141,
   "metadata": {},
   "outputs": [
    {
     "name": "stdout",
     "output_type": "stream",
     "text": [
      "p=0.066\n",
      "Данные распределены нормально (не можем отвергнуть гипотезу о нормальном распределении) в совокупности\n"
     ]
    }
   ],
   "source": [
    "#Создадим поле Диам Центр - оцентрированный диаметр\n",
    "df['Диам Центр'] = df['Диаметр']*df['id_города'] + (df['Диаметр']+delta)*(1-df['id_города']) \n",
    "# для Спб (id =1) оставляем все как есть, а для Магадана (id = 0) смежаем на нашу дельту\n",
    "\n",
    "#Теперь сделаем тест на нормальность новой выборки в совокупности\n",
    "_, p = shapiro(df['Диам Центр'])\n",
    "print('p=%.3f' % p)\n",
    "\n",
    "if p > alpha:\n",
    "\tprint(H0, 'в совокупности')\n",
    "else:\n",
    "\tprint(Ha, 'в совокупности')"
   ]
  },
  {
   "cell_type": "markdown",
   "metadata": {},
   "source": [
    "Тест показал, что мы не можем отмести гипотезу о нормальности. Однако p-value конечно получилось очень маленькое - при другом выборе альфа (небольшом варьировании, например до 10%) уже мог быть другой результат. Тем интереснее будет провести оба варианта тестирования.\n",
    "\n",
    "Но по мне так, опять у нас звоночек, что нудно данные дособрать и их мало для реальной практической задачи.\n",
    "А в этой ситуации предпочел бы непараметрический тест Уилкоксона.\n",
    "\n",
    "Но начнем мы с т-теста, т.к. он был в примере и его не нужно искать в библиотеках:"
   ]
  },
  {
   "cell_type": "code",
   "execution_count": 142,
   "metadata": {},
   "outputs": [
    {
     "name": "stdout",
     "output_type": "stream",
     "text": [
      "\n",
      "*** Результаты независимого T-теста ***\n",
      "0.9999628603811013 > 0.05. Мы не можем отвергнуть нулевую гипотезу. Нет разницы между скорректированной выборкой Магадана и выборкой Питера в среднем диаметре мидии\n"
     ]
    }
   ],
   "source": [
    "# начнем с независимого t-теста\n",
    "H0 = 'Нет разницы между скорректированной выборкой Магадана и выборкой Питера в среднем диаметре мидии'\n",
    "Ha = 'Есть значимая между скорректированной выборкой Магадана и выборкой Питера в среднем диаметре мидии'\n",
    "\n",
    "from scipy.stats import ttest_ind\n",
    "\n",
    "print('\\n' + \"*** Результаты независимого T-теста ***\")\n",
    "test_results = ttest_ind(df[df['Город'] == 'Магадан']['Диам Центр'], df[df['Город'] == 'Спб']['Диам Центр'], equal_var=True)\n",
    "p = test_results[1]\n",
    "if p>alpha:\n",
    "    print(f\"{p} > {alpha}. Мы не можем отвергнуть нулевую гипотезу. {H0}\")\n",
    "else:\n",
    "    print(f\"{p} <= {alpha}. Мы отвергаем нулевую гипотезу. {Ha}\")\n"
   ]
  },
  {
   "cell_type": "markdown",
   "metadata": {},
   "source": [
    "p кстати получили очень близкий к 1.\n",
    "Вывод: \n",
    "\n",
    "***можно считать, что среднии мидии отличаются на 0.02543 в зависимости от города (в Спб крупнее)***\n",
    "\n",
    "На самом деле с учетом наших задаваемых параметров alpha, даже не смотря на мой скепсис к маленьким выборкам и p-value на нормальность близким к 7% в смещенной выборке, задача прошла чисто и можно это брать за достоверный ответ.\n",
    "\n",
    "Но вспомним что данные Магадана отдельно вряд ли нормальны и попробуем другой подход."
   ]
  },
  {
   "cell_type": "code",
   "execution_count": 143,
   "metadata": {},
   "outputs": [
    {
     "name": "stdout",
     "output_type": "stream",
     "text": [
      "0.6434288435636205 > 0.05. Мы не можем отвергнуть нулевую гипотезу. Нет разницы между скорректированной выборкой Магадана и выборкой Питера в среднем диаметре мидии\n"
     ]
    }
   ],
   "source": [
    "from scipy.stats import ranksums # нам нужен вариант именно про сумму рангов т.к. выборки разные\n",
    "w = ranksums(df[df['Город'] == 'Магадан']['Диам Центр'],df[df['Город'] == 'Спб']['Диам Центр'] , nan_policy='propagate')\n",
    "p = w[1]\n",
    "\n",
    "if p>alpha:\n",
    "    print(f\"{p} > {alpha}. Мы не можем отвергнуть нулевую гипотезу. {H0}\")\n",
    "else:\n",
    "    print(f\"{p} <= {alpha}. Мы отвергаем нулевую гипотезу. {Ha}\")"
   ]
  },
  {
   "cell_type": "markdown",
   "metadata": {},
   "source": [
    "Вывод:\n",
    "Непараметрический вариант теста тоже подтвердил гипотезу что delta = 0.02543 c высокой точностью.\n",
    "\n",
    "А я нашел, как в библиотеке scipy.stats отличаются **Знаковый ранговый критерий Уилкоксона** и **критерий суммы рангов Уилкоксона**\n",
    "\n",
    "А именно: *wiranksums* и *wilcoxon*"
   ]
  }
 ],
 "metadata": {
  "kernelspec": {
   "display_name": "Python 3.10.5 64-bit",
   "language": "python",
   "name": "python3"
  },
  "language_info": {
   "codemirror_mode": {
    "name": "ipython",
    "version": 3
   },
   "file_extension": ".py",
   "mimetype": "text/x-python",
   "name": "python",
   "nbconvert_exporter": "python",
   "pygments_lexer": "ipython3",
   "version": "3.10.5"
  },
  "orig_nbformat": 4,
  "vscode": {
   "interpreter": {
    "hash": "59f3ce7a90fd9c5194e90f4fe2f2e1960cf028f3e50f3d4c155c18077f9faa31"
   }
  }
 },
 "nbformat": 4,
 "nbformat_minor": 2
}
