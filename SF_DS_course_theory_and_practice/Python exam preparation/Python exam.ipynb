{
 "cells": [
  {
   "cell_type": "code",
   "execution_count": 1,
   "metadata": {},
   "outputs": [
    {
     "name": "stdout",
     "output_type": "stream",
     "text": [
      "Напечатаем сами переменные: (5, 5.5, [1, 2, 3, 4], {1: 'a', 2: 'b', 3: 'c'}, (1, 2, 'a', 'b'), {1, 3, 's', 'a'})\n",
      "Выведем типы переменных: [<class 'int'>, <class 'float'>, <class 'list'>, <class 'dict'>, <class 'tuple'>, <class 'set'>]\n",
      "Выведем идентификаторы переменных: [1723422108080, 1723505923824, 1723505928192, 1723507022528, 1723506454096, 1723506559680]\n",
      "1723422108080 1723422108080\n",
      "16807\n",
      "1.4\n",
      "1\n",
      "2\n",
      "2.333\n"
     ]
    }
   ],
   "source": [
    "# Основы\n",
    "x = 5\n",
    "y = 5.5\n",
    "z = [1,2,3,4]\n",
    "t = {1:'a', 2:'b', 3:'c'}\n",
    "u = (1,2,'a','b')\n",
    "v = {1,'s','a',3}\n",
    "\n",
    "var_list = [x,y,z,t,u,v]\n",
    "\n",
    "type_list = map(type, var_list) # type - выводит тип переменной\n",
    "id_list = list(map(id, var_list)) # id - уникальный идентификатор объекта. По сути, что это за объект в памяти\n",
    "\n",
    "\n",
    "print(f'Напечатаем сами переменные: {x,y,z,t,u,v}')\n",
    "print(f'Выведем типы переменных: {list(type_list)}')\n",
    "print(f'Выведем идентификаторы переменных: {id_list}')\n",
    "\n",
    "x1 = x\n",
    "print(id(x1),id(x)) #разными переменными назван один объект. Видим это с помощью id\n",
    "\n",
    "#Операции\n",
    "print(7**5) # ** - возведение в степень\n",
    "print(7/5) # / - деление\n",
    "print(7//5) # // - целочисленное деление\n",
    "print(7%5) # / - остаток от деления\n",
    "print(round(7/3,3)) # округение round(число, кол-во знаков после запятой=0)"
   ]
  },
  {
   "cell_type": "code",
   "execution_count": 2,
   "metadata": {},
   "outputs": [
    {
     "name": "stdout",
     "output_type": "stream",
     "text": [
      "He el Hell lo! o! Hlo\n",
      "Hellllllo!\n",
      "lollollollollol\n",
      "6\n",
      "3\n",
      "HELLO!\n",
      "hello!\n",
      "False\n",
      "False\n",
      "False\n",
      "['a', 'string', 'for', 'split']\n",
      "['a', 'string', 'for', ' ', 'split']\n",
      "a ! ! string ! ! for ! ! split\n"
     ]
    }
   ],
   "source": [
    "#Работа со строками\n",
    "\n",
    "s = 'Hello!'\n",
    "print(s[:2],s[1:3],s[:-2],s[3:],s[-2:],s[::2]) #Работа со срезами [первый : последний : шаг]\n",
    "print('Hel' + 'lllllo!') #конкатенация\n",
    "print('lol'*5) #умножение строки на число\n",
    "print(len(s)) # len() - длина строки\n",
    "print(s.find('lo')) # посик подстроки в строке (метод)\n",
    "print(s.upper())\n",
    "print(s.lower())\n",
    "print(s.isalpha()) #только ли буквы\n",
    "print(s.isdigit()) #только ли цифры\n",
    "print(s.isalnum()) #только ли буквы и цифры\n",
    " \n",
    "# раделение строки по разделетелю split\n",
    "s1 = 'a string for split'\n",
    "s2 = 'a,string,for, ,split'\n",
    "print(s1.split())\n",
    "print(s2.split(','))\n",
    "\n",
    "#склеить строки с разделителем 'разделитель'.join(список)\n",
    "str_list = s1.split()\n",
    "s2 = ' ! ! '\n",
    "print(s2.join(str_list))"
   ]
  },
  {
   "cell_type": "code",
   "execution_count": 3,
   "metadata": {},
   "outputs": [
    {
     "name": "stdout",
     "output_type": "stream",
     "text": [
      "f-СТОКА:\n",
      " Мы берем и вставляем переменные прям сюда. Например строка s = Hello!, \n",
      "А вот список: a ! ! string ! ! for ! ! split, \n",
      "А еще вот число: 2.33333\n",
      "\n",
      "format()\n",
      "Мы берем и вставляем переменные прям сюда. Например строка s = Hello!, \n",
      "А вот список: a ! ! string ! ! for ! ! split, \n",
      "А еще вот число: 2.33333\n"
     ]
    }
   ],
   "source": [
    "#Форматирование вывода строк\n",
    "#f-строка\n",
    "print(f'f-СТОКА:\\n Мы берем и вставляем переменные прям сюда. Например строка s = {s}, \\nА вот список: {s2.join(str_list)}, \\nА еще вот число: {round(7/3,5)}')\n",
    "\n",
    "#а можно еще через метод format\n",
    "print('\\nformat()\\nМы берем и вставляем переменные прям сюда. Например строка s = {}, \\nА вот список: {}, \\nА еще вот число: {}'.format(s, s2.join(str_list), round(7/3,5)))"
   ]
  },
  {
   "cell_type": "code",
   "execution_count": 4,
   "metadata": {},
   "outputs": [
    {
     "name": "stdout",
     "output_type": "stream",
     "text": [
      "\n",
      "СОЗДАНИЕ СПИСКОВ\n",
      "[]\n",
      "[]\n",
      "[1, 2, 3, 4, 5]\n",
      "['as', 'df', 'gh', 'jk']\n",
      "[0, 1, 2, 3, 4, 5, 6, 7, 8, 9]\n",
      "[10, 11, 12, 13, 14, 15, 16, 17, 18, 19]\n",
      "[10, 13, 16, 19]\n",
      "[[0, 1, 2, 3, 4, 5, 6, 7, 8, 9], 'в списке бывают разные объекты', [10, 13, 16, 19]]\n",
      "\n",
      "СРЕЗЫ\n",
      "[0, 5, 10, 15, 20, 25, 30, 35, 40, 45, 50, 55, 60, 65, 70, 75, 80, 85, 90, 95]\n",
      "[0, 2, 4, 6, 8]\n",
      "[90, 93, 96, 99]\n",
      "[99, 94, 89, 84, 79, 74, 69, 64, 59, 54, 49, 44, 39, 34, 29, 24, 19, 14, 9, 4]\n",
      "\n",
      "МЕТОДЫ ТИПА СПИСОК\n",
      "[0, 1, 2, 3, 4, 5, 6, 7, 8, 9]\n",
      "1\n",
      "[0, 1, 2, 3, 4, 5, 6, 7, 8, 9, 'добавили в список', 'добавили в список', 9, 8, 7, 6, 5, 4, 3, 2, 1, 0]\n",
      "[10, 9, 8, 7, 6, 5, 4, 3, 2, 1]\n",
      "[10, 9, 8, 6, 5, 4, 3, 2]\n",
      "[2, 3, 4, 5, 6, 8, 9, 10]\n",
      "[]\n"
     ]
    }
   ],
   "source": [
    "#Работа со списками\n",
    "#СОЗДАНИЕ СПИСКОВ\n",
    "print('\\nСОЗДАНИЕ СПИСКОВ')\n",
    "print([])\n",
    "print(list())\n",
    "print([1,2,3,4,5])\n",
    "print(['as','df','gh','jk'])\n",
    "print(list(range(10)))\n",
    "print(list(range(10,20)))\n",
    "print(list(range(10,20,3)))\n",
    "print([list(range(10)),'в списке бывают разные объекты',list(range(10,20,3))]) # в спсике бывают разные объекты\n",
    "\n",
    "#СРЕЗЫ СПИСКОВ\n",
    "print('\\nСРЕЗЫ')\n",
    "lst = list(range(100))\n",
    "print(lst[::5])\n",
    "print(lst[:10:2])\n",
    "print(lst[-10::3])\n",
    "print(lst[::-5])\n",
    "\n",
    "#МЕТОДЫ СПИСКОВ\n",
    "print('\\nМЕТОДЫ ТИПА СПИСОК')\n",
    "lst = list(range(10))\n",
    "print(lst)\n",
    "\n",
    "lst.append('добавили в список') #методы append изменяет объект который его вызывает\n",
    "print(lst.count(3)) #count считаем число элементов равных данному в списке\n",
    "\n",
    "lst2 = lst.copy() #копируем список в новый объект с новым id\n",
    "\n",
    "lst.extend(lst2[::-1]) #добавляем в список элементы другого списка в обратном порядке\n",
    "print(lst)\n",
    "\n",
    "lst = list(range(10,0,-1))\n",
    "print(lst)\n",
    "lst.pop() #eудалить элемент списка\n",
    "lst.pop(3) #удалить элемент с номером\n",
    "print(lst)\n",
    "lst.sort() #сортировка\n",
    "print(lst)\n",
    "lst.clear() #очистка\n",
    "print(lst)"
   ]
  },
  {
   "cell_type": "code",
   "execution_count": 5,
   "metadata": {},
   "outputs": [
    {
     "name": "stdout",
     "output_type": "stream",
     "text": [
      "()\n",
      "('a', 1, 5, [0, 1, 2, 3])\n"
     ]
    }
   ],
   "source": [
    "# КОРТЕЖИ - неизменяемые братья списков\n",
    "t = tuple()\n",
    "print(t)\n",
    "t = ('a',1,5,list(range(4)))\n",
    "print(t)"
   ]
  },
  {
   "cell_type": "code",
   "execution_count": 6,
   "metadata": {},
   "outputs": [
    {
     "name": "stdout",
     "output_type": "stream",
     "text": [
      "{} \n",
      " {'name': 'John', (2, 7): 6, 3.5: [5, 8, 5]}\n",
      "dict_keys(['name', (2, 7), 3.5])\n",
      "{'name', 3.5, (2, 7)}\n",
      "dict_values(['John', 6, [5, 8, 5]])\n",
      "['John', 6, [5, 8, 5]]\n",
      "работа со словарями\n",
      "John\n",
      "John\n",
      "{'name': 'John', (2, 7): 6, 3.5: [5, 8, 5], 'name2': 'Mike', 'name3': 'Helga'}\n",
      "{'name': 'John', (2, 7): 6, 3.5: [5, 8, 5], 'name3': 'Helga'}\n",
      "{'name': 'John', (2, 7): 6, 3.5: [5, 8, 5], 'name3': 'Helga', 'surname': 'Nikolaev'}\n",
      "{'name': 'John', (2, 7): 6, 3.5: [5, 8, 5], 'name3': 'Helga', 'surname': 'Nikolaev', 'new key': 'new value'}\n"
     ]
    }
   ],
   "source": [
    "# СЛОВАРИ\n",
    "dict1 = dict()\n",
    "dict2 = {'name':'John', (2,7):6, 3.5:[5,8,5]}\n",
    "print(dict1,'\\n',dict2)\n",
    "print(dict2.keys())\n",
    "print(set(dict2.keys())) #взять ключи\n",
    "print(dict2.values())\n",
    "print(list(dict2.values())) #взять значения\n",
    "\n",
    "#работа со словарями\n",
    "print('работа со словарями')\n",
    "print(dict2['name'])\n",
    "print(dict2.get('name'))\n",
    "dict2.update({'name2':'Mike','name3':'Helga'}) #Добавить словарь в словарь\n",
    "print(dict2)\n",
    "dict2.pop('name2') #удалить элемент по ключу\n",
    "print(dict2)\n",
    "dict2.setdefault('surname','Nikolaev') #добавление\n",
    "print(dict2)\n",
    "#А можно просто вот так добавить\n",
    "dict2['new key'] = 'new value'\n",
    "print(dict2)"
   ]
  },
  {
   "cell_type": "code",
   "execution_count": 7,
   "metadata": {},
   "outputs": [
    {
     "name": "stdout",
     "output_type": "stream",
     "text": [
      "{0, 1, 2, 3, 4, 5, 6, 7, 8, 9}\n",
      "{0, 1, 2, 3, 4, 5, 6, 7, 8, 9, 'a'}\n",
      "{1, 2, 3, 4, 5, 6, 7, 8, 9}\n",
      "{1, 2, 3, 4, 5, 6, 7, 8, 9, 10, 11, 12, 13, 14}\n",
      "{3, 4, 5, 6, 7, 8, 9, 10, 11, 12, 13, 14}\n",
      "{3, 4, 5, 6, 7, 8, 9}\n",
      "False\n",
      "True\n"
     ]
    }
   ],
   "source": [
    "#МНОЖЕСТВА\n",
    "s = set(range(10))\n",
    "print(s)\n",
    "s.add('a') #добавить элемент\n",
    "print(s)\n",
    "s.remove('a') #удалить элемент\n",
    "s.discard(0) #удалить еще элемент\n",
    "print(s)\n",
    "#объединение\n",
    "s=s.union(set(range(5,15)))\n",
    "print(s)\n",
    "s=s.intersection(set(range(3,20))) #пересечение\n",
    "print(s)\n",
    "s=s.difference(set(range(10,20))) #разность\n",
    "print(s)\n",
    "print(s.issubset(set(range(5,7)))) #проверка на подмножество\n",
    "print(set(range(5,7)).issubset(s)) #проверка на подмножество"
   ]
  },
  {
   "cell_type": "code",
   "execution_count": 8,
   "metadata": {},
   "outputs": [
    {
     "name": "stdout",
     "output_type": "stream",
     "text": [
      "wow 2\n",
      "3\n"
     ]
    }
   ],
   "source": [
    "# условные операторы\n",
    "x = 2\n",
    "if x/2 == 0.5:\n",
    "    print(f\"== works {x/2}\")\n",
    "elif x/3 > 1.3:\n",
    "    print(f'!!! {x/3}')\n",
    "else:\n",
    "    print(f'wow {x}')\n",
    "    \n",
    "#инлайновый\n",
    "y = 2 if x != 2 else 3\n",
    "print(y)\n"
   ]
  },
  {
   "cell_type": "code",
   "execution_count": 9,
   "metadata": {},
   "outputs": [
    {
     "name": "stdout",
     "output_type": "stream",
     "text": [
      "0\n",
      "1\n",
      "2\n",
      "3\n",
      "4\n",
      "5\n",
      "6\n",
      "7\n",
      "8\n",
      "9\n",
      "\n",
      "while\n",
      "2\n",
      "4\n",
      "6\n",
      "8\n",
      "10\n",
      "\n",
      "while True\n",
      "12\n",
      "14\n",
      "16\n",
      "18\n",
      "20\n",
      "22\n"
     ]
    }
   ],
   "source": [
    "#цикл for\n",
    "# for value in iterator - бегаем по итерируемуму объекту\n",
    "for i in range(10):\n",
    "    print(i)\n",
    "print('\\nwhile')\n",
    "i = 0\n",
    "while i<10:\n",
    "    i+=2\n",
    "    print(i)\n",
    "print('\\nwhile True')\n",
    "while True:\n",
    "    i+=2\n",
    "    print(i)\n",
    "    if i>20:\n",
    "        break"
   ]
  },
  {
   "cell_type": "code",
   "execution_count": 10,
   "metadata": {},
   "outputs": [
    {
     "name": "stdout",
     "output_type": "stream",
     "text": [
      "3125\n",
      "1.7320508075688772\n"
     ]
    },
    {
     "ename": "ValueError",
     "evalue": "Speed must be >0",
     "output_type": "error",
     "traceback": [
      "\u001b[1;31m---------------------------------------------------------------------------\u001b[0m",
      "\u001b[1;31mValueError\u001b[0m                                Traceback (most recent call last)",
      "Cell \u001b[1;32mIn[10], line 14\u001b[0m\n\u001b[0;32m     11\u001b[0m     \u001b[39mreturn\u001b[39;00m speed \u001b[39m*\u001b[39m\u001b[39m*\u001b[39m (\u001b[39m1\u001b[39m\u001b[39m/\u001b[39m\u001b[39m2\u001b[39m)\n\u001b[0;32m     13\u001b[0m \u001b[39mprint\u001b[39m(new_f(\u001b[39m3\u001b[39m))\n\u001b[1;32m---> 14\u001b[0m \u001b[39mprint\u001b[39m(new_f(\u001b[39m-\u001b[39;49m\u001b[39m3\u001b[39;49m))\n",
      "Cell \u001b[1;32mIn[10], line 10\u001b[0m, in \u001b[0;36mnew_f\u001b[1;34m(speed)\u001b[0m\n\u001b[0;32m      8\u001b[0m \u001b[39mdef\u001b[39;00m \u001b[39mnew_f\u001b[39m(speed\u001b[39m=\u001b[39m\u001b[39m0\u001b[39m):\n\u001b[0;32m      9\u001b[0m     \u001b[39mif\u001b[39;00m speed\u001b[39m<\u001b[39m\u001b[39m0\u001b[39m:\n\u001b[1;32m---> 10\u001b[0m         \u001b[39mraise\u001b[39;00m \u001b[39mValueError\u001b[39;00m(\u001b[39m'\u001b[39m\u001b[39mSpeed must be >0\u001b[39m\u001b[39m'\u001b[39m)\n\u001b[0;32m     11\u001b[0m     \u001b[39mreturn\u001b[39;00m speed \u001b[39m*\u001b[39m\u001b[39m*\u001b[39m (\u001b[39m1\u001b[39m\u001b[39m/\u001b[39m\u001b[39m2\u001b[39m)\n",
      "\u001b[1;31mValueError\u001b[0m: Speed must be >0"
     ]
    }
   ],
   "source": [
    "# функции\n",
    "\n",
    "def new_f(x):\n",
    "    return x**x\n",
    "\n",
    "print(new_f(5))\n",
    "\n",
    "def new_f(speed=0):\n",
    "    if speed<0:\n",
    "        raise ValueError('Speed must be >0')\n",
    "    return speed ** (1/2)\n",
    "\n",
    "print(new_f(3))\n",
    "print(new_f(-3))"
   ]
  },
  {
   "cell_type": "code",
   "execution_count": null,
   "metadata": {},
   "outputs": [
    {
     "name": "stdout",
     "output_type": "stream",
     "text": [
      "2.0\n",
      "1.5874010519681994\n",
      "1.2599210498948732\n",
      "1, 3, 5, 7, 9 !!!\n",
      "\n",
      "(1, 3, 5, 7, 9)\n",
      "{'sep': ', ', 'end': ' !!!'}\n"
     ]
    }
   ],
   "source": [
    "def root(x, n=2):\n",
    "    return x**(1/n)\n",
    "\n",
    "print(root(4))\n",
    "print(root(4,3))\n",
    "print(root(4, n=6))\n",
    "\n",
    "# def function(*args, **kwargs) #получение переменного числааргементов и переменных. Порядковые первые передаются\n",
    "new_list = list(range(1,10,2))\n",
    "how = {'sep':', ', 'end':' !!!'}\n",
    "print(*new_list, **how)\n",
    "\n",
    "def f(*args, **kwargs):\n",
    "    print(args)\n",
    "    print(kwargs)\n",
    "\n",
    "print('\\n')\n",
    "f(*new_list, **how)"
   ]
  },
  {
   "cell_type": "code",
   "execution_count": null,
   "metadata": {},
   "outputs": [
    {
     "name": "stdout",
     "output_type": "stream",
     "text": [
      "6\n",
      "8\n",
      "['a', 'aaa', 'b', 'bbbb', 'cc', 'dd', 'e']\n"
     ]
    }
   ],
   "source": [
    "# lambda\n",
    "get_len = lambda x: len(x)\n",
    "print(get_len('asdfgh'))\n",
    "\n",
    "mult = lambda x,y: x*y\n",
    "print(mult(2,4))\n",
    "\n",
    "\n",
    "#Сортировка по нескольким параметрам\n",
    "lst = ['a','b','cc','dd','aaa','bbbb','e']\n",
    "lst.sort(key = lambda x: (x, len(x))) #сначала алфавит, а потом длина\n",
    "print(lst)"
   ]
  },
  {
   "cell_type": "code",
   "execution_count": null,
   "metadata": {},
   "outputs": [
    {
     "name": "stdout",
     "output_type": "stream",
     "text": [
      "1\n",
      "4\n",
      "7\n",
      "10 100\n",
      "13 169\n",
      "16 256\n",
      "19 361\n",
      "22 484\n",
      "25 625\n",
      "28 784\n",
      "[1, 4, 7, 10, 13, 16, 19, 22, 25, 28]\n"
     ]
    }
   ],
   "source": [
    "# ИТЕРАТОРЫ\n",
    "my_list = list(range(1,30,3))\n",
    "iter_list = iter(my_list)\n",
    "elem = next(iter_list)\n",
    "print(elem)\n",
    "elem = next(iter_list)\n",
    "print(elem)\n",
    "elem = next(iter_list)\n",
    "print(elem)\n",
    "\n",
    "for el in iter_list:\n",
    "    print(el, el*el)\n",
    "\n",
    "my_list = list(range(1,30,3))\n",
    "iter_list = iter(my_list)\n",
    "new_list = list(iter_list)\n",
    "print(new_list) #выдаем в список все оставшиеся объекты итератора"
   ]
  },
  {
   "cell_type": "code",
   "execution_count": null,
   "metadata": {},
   "outputs": [
    {
     "name": "stdout",
     "output_type": "stream",
     "text": [
      "1\n",
      "4\n",
      "27\n",
      "256\n",
      "3125\n",
      "46656\n"
     ]
    }
   ],
   "source": [
    "#ГЕНЕРАТОРЫ\n",
    "def gen(num):\n",
    "    for i in range(1,num+1):\n",
    "        yield i**i\n",
    "# теперь мы сгенерировали итератор, который выдает квадраты в диапазоне от 1 до num вкл\n",
    "\n",
    "new_gen = gen(6)\n",
    "elem = next(new_gen)\n",
    "print(elem)\n",
    "elem = next(new_gen)\n",
    "print(elem)\n",
    "elem = next(new_gen)\n",
    "print(elem)\n",
    "\n",
    "for i in new_gen:\n",
    "    print(i)\n"
   ]
  },
  {
   "cell_type": "code",
   "execution_count": null,
   "metadata": {},
   "outputs": [
    {
     "name": "stdout",
     "output_type": "stream",
     "text": [
      "1\n",
      "4\n",
      "27\n",
      "256\n",
      "3125\n",
      "46656\n",
      "[1, 4, 27, 256, 3125, 46656, 823543, 16777216]\n",
      "{64, 1, 512, 8, 343, 216, 27, 125}\n",
      "(1, 32, 243, 1024, 3125, 7776, 16807, 32768)\n",
      "[4, 16, 36, 64, 100, 144, 196, 256, 324]\n",
      "{1: 1, 2: 4, 3: 9, 4: 16, 5: 25, 6: 36, 7: 49, 8: 64, 9: 81}\n",
      "{0: 1, 1: 2, 2: 3, 3: 4, 4: 5, 5: 6, 6: 7, 7: 8, 8: 9}\n"
     ]
    }
   ],
   "source": [
    "# СОКРАЩЕНИЯ\n",
    "# генератор в строку:\n",
    "gen = (x**x for x in range(1,7))\n",
    "for i in gen:\n",
    "    print(i)\n",
    "    \n",
    "# создадим список формулой\n",
    "gen_list = [x**x for x in range(1,9)]\n",
    "print(gen_list)\n",
    "\n",
    "# создадим множество формулой\n",
    "set_list = {x**3 for x in range(1,9)}\n",
    "print(set_list)\n",
    "\n",
    "# создадим множество формулой\n",
    "tuple_list = tuple(x**5 for x in range(1,9))\n",
    "print(tuple_list)\n",
    "\n",
    "#и добавим еще условие\n",
    "gen_list = [x**2 for x in range(1,19) if x%2 == 0]\n",
    "print(gen_list)\n",
    "\n",
    "# а можно и словарь создать\n",
    "dct = {key : key**2 for key in range(1,10)}\n",
    "print(dct)\n",
    "dct = {key : val for key,val in enumerate(range(1,10))}\n",
    "print(dct)"
   ]
  },
  {
   "cell_type": "code",
   "execution_count": null,
   "metadata": {},
   "outputs": [
    {
     "name": "stdout",
     "output_type": "stream",
     "text": [
      "[0, 1, 2, 3, 4, 5, 6, 7, 8, 9]\n",
      "[2, 1, 1, 2, 1, 1, 2, 1, 1, 2]\n",
      "[5, 6, 7, 8, 9]\n",
      "0 letter0\n",
      "1 letter1\n",
      "2 letter2\n",
      "3 letter3\n",
      "4 letter4\n",
      "5 letter5\n",
      "6 letter6\n",
      "7 letter7\n",
      "8 letter8\n",
      "9 letter9\n",
      "[(0, 'letter0'), (1, 'letter1'), (2, 'letter2'), (3, 'letter3'), (4, 'letter4'), (5, 'letter5'), (6, 'letter6'), (7, 'letter7'), (8, 'letter8'), (9, 'letter9')]\n"
     ]
    }
   ],
   "source": [
    "#функции для итераторов\n",
    "it = range(10) #range - это итерируемый объект\n",
    "print(list(it))\n",
    "\n",
    "#map\n",
    "mp = map(lambda x: 1 if x%3 else 2, it) #map(f, it) применяет функцию f к итерируемуму объекту it, получая итерируемый объект типа map\n",
    "print(list(mp))\n",
    "\n",
    "#filter\n",
    "fl = filter(lambda x: True if x >= 5 else False, it) #filter(f, it), только f булевы значения должны возвращать, когдые передадульсы в отфильтрованный итератор типа filter\n",
    "print(list(fl))\n",
    "\n",
    "#zip - пакует итераторы, чтобы по ним одновременно идти\n",
    "it = range(10)\n",
    "lst = []\n",
    "for i in it:\n",
    "    lst.append('letter' + str(i))\n",
    "\n",
    "for i, l in zip(it, lst):\n",
    "    print(i, l)\n",
    "    \n",
    "#enumerate - нумерует итератор\n",
    "print(list(enumerate(lst)))"
   ]
  },
  {
   "cell_type": "code",
   "execution_count": null,
   "metadata": {},
   "outputs": [
    {
     "name": "stdout",
     "output_type": "stream",
     "text": [
      "  *\n",
      " ***\n",
      "*****\n"
     ]
    }
   ],
   "source": [
    "def star_triangle(r):\n",
    "   for x in range(r):\n",
    "      print(' '*(r-x-1)+'*'*(2*x+1))\n",
    "\n",
    "star_triangle(3)"
   ]
  },
  {
   "cell_type": "code",
   "execution_count": null,
   "metadata": {},
   "outputs": [
    {
     "name": "stdout",
     "output_type": "stream",
     "text": [
      "deque([0, 1, 2, 3, 4, 5], maxlen=10)\n",
      "deque([0, 1, 2, 3, 4, 5, 10], maxlen=10)\n",
      "deque([-7, 0, 1, 2, 3, 4, 5, 10], maxlen=10)\n",
      "10 -7\n",
      "5 0\n",
      "deque([1, 2, 3, 4], maxlen=10)\n",
      "deque([30, 20, 10, 1, 2, 3, 4, 11, 22, 33], maxlen=10)\n",
      "deque([33, 22, 11, 4, 3, 2, 1, 10, 20, 30], maxlen=10)\n",
      "deque([10, 20, 30, 33, 22, 11, 4, 3, 2, 1], maxlen=10)\n",
      "deque([4, 3, 2, 1, 10, 20, 30, 33, 22, 11], maxlen=10)\n"
     ]
    }
   ],
   "source": [
    "#deque\n",
    "from collections import deque\n",
    "\n",
    "d = deque(list(range(6)),maxlen=10)\n",
    "print(d)\n",
    "\n",
    "#добавлять элементы можно слева или справа:\n",
    "d.append(10)\n",
    "print(d)\n",
    "d.appendleft(-7)\n",
    "print(d)\n",
    "#удалить элементы слева и справа\n",
    "print(d.pop(),d.popleft())\n",
    "print(d.pop(),d.popleft())\n",
    "print(d)\n",
    "# добавление групп элементов по типу extand\n",
    "d.extend([11,22,33])\n",
    "d.extendleft([10,20,30])\n",
    "print(d)\n",
    "\n",
    "#развезнуть\n",
    "d.reverse()\n",
    "print(d)\n",
    "#перемещение элементов в начало/конец очереди\n",
    "d.rotate(3)\n",
    "print(d)\n",
    "d.rotate(-6)\n",
    "print(d)"
   ]
  },
  {
   "cell_type": "code",
   "execution_count": null,
   "metadata": {},
   "outputs": [
    {
     "name": "stdout",
     "output_type": "stream",
     "text": [
      "[]\n",
      "defaultdict(<class 'list'>, {'1': [11, 22, 33], '2': []})\n"
     ]
    }
   ],
   "source": [
    "# defaultdict - словарь в котором новый ключ содержит объект по-умолчанию\n",
    "from collections import defaultdict\n",
    "\n",
    "d = defaultdict(list)\n",
    "d['1'] = [11,22,33]\n",
    "print(d['2']) #создасться пустой список\n",
    "print(d)"
   ]
  },
  {
   "cell_type": "code",
   "execution_count": null,
   "metadata": {},
   "outputs": [
    {
     "name": "stdout",
     "output_type": "stream",
     "text": [
      "Counter({1: 5, 2: 5, 3: 4, 4: 2})\n",
      "Counter({4: 4, 5: 4, 1: 2, 2: 2, 3: 2})\n",
      "Counter({1: 7, 2: 7, 3: 6, 4: 6, 5: 4})\n",
      "Counter({1: 3, 2: 3, 3: 2})\n",
      "Counter({1: 3, 2: 3, 3: 2, 4: -2, 5: -4})\n",
      "[(4, 4), (5, 4), (1, 2)]\n"
     ]
    }
   ],
   "source": [
    "# Счетчик counter\n",
    "from collections import Counter\n",
    "c1 = Counter([1,3,2,2,1,3,4,3,2,2,1,1,1,2,4,3])\n",
    "print(c1)\n",
    "c2 = Counter([1,1,2,2,3,3,4,4,4,4,5,5,5,5])\n",
    "print(c2)\n",
    "\n",
    "#счетчики складываются\n",
    "print(c1+c2)\n",
    "#счетчики вычитаются\n",
    "print(c1-c2) #но значения обнуляются если <=0\n",
    "c1.subtract(c2)\n",
    "print(c1) # отнимает с минусами\n",
    "\n",
    "print(c2.most_common(3)) #3 наиболее частных значения вывести\n"
   ]
  },
  {
   "cell_type": "code",
   "execution_count": null,
   "metadata": {},
   "outputs": [
    {
     "name": "stdout",
     "output_type": "stream",
     "text": [
      "4\n",
      "Machine parameters for int16\n",
      "---------------------------------------------------------------\n",
      "min = -32768\n",
      "max = 32767\n",
      "---------------------------------------------------------------\n",
      "\n",
      "567.987\n",
      "Machine parameters for float64\n",
      "---------------------------------------------------------------\n",
      "precision =  15   resolution = 1.0000000000000001e-15\n",
      "machep =    -52   eps =        2.2204460492503131e-16\n",
      "negep =     -53   epsneg =     1.1102230246251565e-16\n",
      "minexp =  -1022   tiny =       2.2250738585072014e-308\n",
      "maxexp =   1024   max =        1.7976931348623157e+308\n",
      "nexp =       11   min =        -max\n",
      "smallest_normal = 2.2250738585072014e-308   smallest_subnormal = 4.9406564584124654e-324\n",
      "---------------------------------------------------------------\n",
      "\n",
      "56\n",
      "Machine parameters for uint8\n",
      "---------------------------------------------------------------\n",
      "min = 0\n",
      "max = 255\n",
      "---------------------------------------------------------------\n",
      "\n"
     ]
    }
   ],
   "source": [
    "import numpy as np\n",
    "\n",
    "#Типы данных\n",
    "a = np.int16(4) #целые\n",
    "print(a)\n",
    "print(np.iinfo(a))\n",
    "\n",
    "b = np.float64(567.987) #с точкой\n",
    "print(b)\n",
    "print(np.finfo(b))\n",
    "\n",
    "с = np.uint8(56) #натуральные\n",
    "print(с)\n",
    "print(np.iinfo(с))"
   ]
  },
  {
   "cell_type": "code",
   "execution_count": null,
   "metadata": {},
   "outputs": [
    {
     "name": "stdout",
     "output_type": "stream",
     "text": [
      "[ 5 -6  4]\n",
      "[-3 10  2]\n",
      "[  4 -16   3]\n",
      "[3 6 9]\n",
      "[1 3 5 7 9]\n",
      "<class 'numpy.ndarray'>\n",
      "[ 1.          1.81818182  2.63636364  3.45454545  4.27272727  5.09090909\n",
      "  5.90909091  6.72727273  7.54545455  8.36363636  9.18181818 10.        ]\n",
      "3.7416573867739413\n",
      "10.63014581273465\n",
      "-9\n",
      "[-8  1  4]\n",
      "min -8\n",
      "max 4\n",
      "mean -1.0\n",
      "sum -3\n",
      "median 1.0\n",
      "std 5.0990195135927845\n"
     ]
    }
   ],
   "source": [
    "# векторы\n",
    "\n",
    "from pickletools import float8\n",
    "\n",
    "\n",
    "v = np.array([1,2,3])\n",
    "u = np.array([4,-8,1])\n",
    "print(v+u)\n",
    "print(v-u)\n",
    "print(v*u) #поэлементное умножение\n",
    "print(v*3) #умножение на скаляр\n",
    "v1 = np.arange(1,10,2, dtype=np.int8) #точно как range, только вектор\n",
    "print(v1)\n",
    "print(type(v1))\n",
    "u1 = np.linspace(1,10,12) #от до и cколько\n",
    "print(u1)\n",
    "\n",
    "print(np.linalg.norm(v)) #норма/длина\n",
    "print(np.linalg.norm(v-u)) #расстояние\n",
    "print(np.dot(u,v)) #скалярное произведение\n",
    "\n",
    "u.sort() #сортировка\n",
    "print(u)\n",
    "\n",
    "print(f'min {np.min(u)}')\n",
    "print(f'max {np.max(u)}')\n",
    "print(f'mean {np.mean(u)}')\n",
    "print(f'sum {np.sum(u)}')\n",
    "print(f'median {np.median(u)}')\n",
    "print(f'std {np.std(u)}')\n"
   ]
  },
  {
   "cell_type": "code",
   "execution_count": null,
   "metadata": {},
   "outputs": [
    {
     "name": "stdout",
     "output_type": "stream",
     "text": [
      "3\n",
      "[0. 0. 0. 0. 0.]\n",
      "[[0 0 0 0]\n",
      " [0 0 0 0]\n",
      " [0 0 0 0]\n",
      " [0 0 0 0]\n",
      " [0 0 0 0]]\n",
      "(5, 4)\n",
      "[[0 0 0 0 0]\n",
      " [0 0 0 0 0]\n",
      " [0 0 0 0 0]\n",
      " [0 0 0 0 0]]\n"
     ]
    }
   ],
   "source": [
    "matrix = np.array([[1,2,3],\n",
    "                  [2,3,4],\n",
    "                  [0,3,6]], dtype=np.int8)\n",
    "print(matrix[1,1])\n",
    "\n",
    "print(np.zeros(5)) #создать нулевой вектор\n",
    "arr = np.zeros((5,4), dtype=np.int8) #создать массив/матрицу\n",
    "print(arr)\n",
    "print(arr.shape)\n",
    "arrT = arr.transpose() #транспонировать\n",
    "print(arrT)\n",
    "\n"
   ]
  },
  {
   "cell_type": "code",
   "execution_count": null,
   "metadata": {},
   "outputs": [
    {
     "name": "stdout",
     "output_type": "stream",
     "text": [
      "0.14567975663243404 \n",
      "\n",
      "[0.37134616 0.61368171 0.52162943 0.95200145 0.66871663] \n",
      "\n",
      "[[0.88231144 0.78163607 0.12242812 0.40451954 0.50527055 0.03023957]\n",
      " [0.9862875  0.65252033 0.49077109 0.4154397  0.48429929 0.16352251]\n",
      " [0.03269759 0.40179654 0.74766105 0.20889711 0.40345594 0.34752832]] \n",
      "\n",
      "[[0.04906066 0.83110138]\n",
      " [0.03204295 0.46126495]] \n",
      "\n",
      "[[45.84090509 79.41424237 35.51400197]\n",
      " [25.69571009  3.25249323 17.91203859]\n",
      " [64.9326736  42.38560428 50.39502806]] \n",
      "\n",
      "[[29 59 35]\n",
      " [12 71 81]\n",
      " [ 2 38 72]] \n",
      "\n",
      "[[12 71 81]\n",
      " [29 59 35]\n",
      " [ 2 38 72]] \n",
      "\n",
      "[[ 2 38 72]\n",
      " [29 59 35]\n",
      " [12 71 81]] \n",
      "\n",
      "[[8 1 5]\n",
      " [7 9 4]\n",
      " [3 2 6]] \n",
      "\n",
      "[[3 8 5]\n",
      " [2 1 5]\n",
      " [1 2 8]] \n",
      "\n"
     ]
    }
   ],
   "source": [
    "# случайные числа\n",
    "\n",
    "#np.random.seed(34567)\n",
    "\n",
    "#случайные float от 0 до 1\n",
    "r = np.random.rand()\n",
    "print(r, '\\n')\n",
    "r = np.random.rand(5)\n",
    "print(r,'\\n')\n",
    "r = np.random.rand(3,6)\n",
    "print(r,'\\n')\n",
    "r = np.random.sample((2,2)) # ~rand, только подаем кортеж\n",
    "print(r,'\\n')\n",
    "\n",
    "# float из диапазона\n",
    "r = np.random.uniform(1,100,size=(3,3))\n",
    "print(r,'\\n')\n",
    "\n",
    "# int из диапазона\n",
    "r = np.random.randint(1,100,size=(3,3))\n",
    "print(r,'\\n')\n",
    "\n",
    "#shuffle - перемешать\n",
    "np.random.shuffle(r)\n",
    "print(r,'\\n')\n",
    "\n",
    "#permutation - получить перемешанный не меняя исходный\n",
    "r1 = np.random.permutation(r)\n",
    "print(r1, '\\n')\n",
    "\n",
    "#choice - случайный выбор с повторами и без\n",
    "r2 = np.random.choice(np.arange(1,10), [3,3], replace=False) #без повторов\n",
    "print(r2, '\\n')\n",
    "r2 = np.random.choice(np.arange(1,10), [3,3], replace=True) #с повторами\n",
    "print(r2, '\\n')"
   ]
  }
 ],
 "metadata": {
  "kernelspec": {
   "display_name": "Python 3",
   "language": "python",
   "name": "python3"
  },
  "language_info": {
   "codemirror_mode": {
    "name": "ipython",
    "version": 3
   },
   "file_extension": ".py",
   "mimetype": "text/x-python",
   "name": "python",
   "nbconvert_exporter": "python",
   "pygments_lexer": "ipython3",
   "version": "3.9.10"
  },
  "orig_nbformat": 4,
  "vscode": {
   "interpreter": {
    "hash": "1cc44eaf2648da4dace471d8319ba2090c8ead37982a56cf8a542a54c6d1597c"
   }
  }
 },
 "nbformat": 4,
 "nbformat_minor": 2
}
