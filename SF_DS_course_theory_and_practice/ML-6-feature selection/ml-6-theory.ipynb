{
 "cells": [
  {
   "cell_type": "code",
   "execution_count": 26,
   "metadata": {},
   "outputs": [],
   "source": [
    "import pandas as pd"
   ]
  },
  {
   "cell_type": "code",
   "execution_count": 27,
   "metadata": {},
   "outputs": [
    {
     "data": {
      "text/html": [
       "<div>\n",
       "<style scoped>\n",
       "    .dataframe tbody tr th:only-of-type {\n",
       "        vertical-align: middle;\n",
       "    }\n",
       "\n",
       "    .dataframe tbody tr th {\n",
       "        vertical-align: top;\n",
       "    }\n",
       "\n",
       "    .dataframe thead th {\n",
       "        text-align: right;\n",
       "    }\n",
       "</style>\n",
       "<table border=\"1\" class=\"dataframe\">\n",
       "  <thead>\n",
       "    <tr style=\"text-align: right;\">\n",
       "      <th></th>\n",
       "      <th>price</th>\n",
       "      <th>year</th>\n",
       "      <th>condition</th>\n",
       "      <th>cylinders</th>\n",
       "      <th>odometer</th>\n",
       "      <th>title_status</th>\n",
       "      <th>transmission</th>\n",
       "      <th>drive</th>\n",
       "      <th>size</th>\n",
       "      <th>lat</th>\n",
       "      <th>long</th>\n",
       "      <th>weather</th>\n",
       "    </tr>\n",
       "  </thead>\n",
       "  <tbody>\n",
       "    <tr>\n",
       "      <th>0</th>\n",
       "      <td>43900</td>\n",
       "      <td>2016</td>\n",
       "      <td>4</td>\n",
       "      <td>6</td>\n",
       "      <td>43500</td>\n",
       "      <td>clean</td>\n",
       "      <td>automatic</td>\n",
       "      <td>4wd</td>\n",
       "      <td>full-size</td>\n",
       "      <td>36.471500</td>\n",
       "      <td>-82.483400</td>\n",
       "      <td>59.0</td>\n",
       "    </tr>\n",
       "    <tr>\n",
       "      <th>1</th>\n",
       "      <td>15490</td>\n",
       "      <td>2009</td>\n",
       "      <td>2</td>\n",
       "      <td>8</td>\n",
       "      <td>98131</td>\n",
       "      <td>clean</td>\n",
       "      <td>automatic</td>\n",
       "      <td>4wd</td>\n",
       "      <td>full-size</td>\n",
       "      <td>40.468826</td>\n",
       "      <td>-74.281734</td>\n",
       "      <td>52.0</td>\n",
       "    </tr>\n",
       "    <tr>\n",
       "      <th>2</th>\n",
       "      <td>2495</td>\n",
       "      <td>2002</td>\n",
       "      <td>2</td>\n",
       "      <td>8</td>\n",
       "      <td>201803</td>\n",
       "      <td>clean</td>\n",
       "      <td>automatic</td>\n",
       "      <td>4wd</td>\n",
       "      <td>full-size</td>\n",
       "      <td>42.477134</td>\n",
       "      <td>-82.949564</td>\n",
       "      <td>45.0</td>\n",
       "    </tr>\n",
       "    <tr>\n",
       "      <th>3</th>\n",
       "      <td>1300</td>\n",
       "      <td>2000</td>\n",
       "      <td>1</td>\n",
       "      <td>8</td>\n",
       "      <td>170305</td>\n",
       "      <td>rebuilt</td>\n",
       "      <td>automatic</td>\n",
       "      <td>4wd</td>\n",
       "      <td>full-size</td>\n",
       "      <td>40.764373</td>\n",
       "      <td>-82.349503</td>\n",
       "      <td>49.0</td>\n",
       "    </tr>\n",
       "    <tr>\n",
       "      <th>4</th>\n",
       "      <td>13865</td>\n",
       "      <td>2010</td>\n",
       "      <td>3</td>\n",
       "      <td>8</td>\n",
       "      <td>166062</td>\n",
       "      <td>clean</td>\n",
       "      <td>automatic</td>\n",
       "      <td>4wd</td>\n",
       "      <td>NaN</td>\n",
       "      <td>49.210949</td>\n",
       "      <td>-123.114720</td>\n",
       "      <td>NaN</td>\n",
       "    </tr>\n",
       "  </tbody>\n",
       "</table>\n",
       "</div>"
      ],
      "text/plain": [
       "   price  year  condition  cylinders  odometer title_status transmission  \\\n",
       "0  43900  2016          4          6     43500        clean    automatic   \n",
       "1  15490  2009          2          8     98131        clean    automatic   \n",
       "2   2495  2002          2          8    201803        clean    automatic   \n",
       "3   1300  2000          1          8    170305      rebuilt    automatic   \n",
       "4  13865  2010          3          8    166062        clean    automatic   \n",
       "\n",
       "  drive       size        lat        long  weather  \n",
       "0   4wd  full-size  36.471500  -82.483400     59.0  \n",
       "1   4wd  full-size  40.468826  -74.281734     52.0  \n",
       "2   4wd  full-size  42.477134  -82.949564     45.0  \n",
       "3   4wd  full-size  40.764373  -82.349503     49.0  \n",
       "4   4wd        NaN  49.210949 -123.114720      NaN  "
      ]
     },
     "execution_count": 27,
     "metadata": {},
     "output_type": "execute_result"
    }
   ],
   "source": [
    "data = pd.read_excel('data_ford_price.xlsx')\n",
    "data.head()"
   ]
  },
  {
   "cell_type": "code",
   "execution_count": 28,
   "metadata": {},
   "outputs": [],
   "source": [
    "y = data['price']\n",
    "x = data.drop(columns='price')"
   ]
  },
  {
   "attachments": {},
   "cell_type": "markdown",
   "metadata": {},
   "source": [
    "### Кодирование признаков"
   ]
  },
  {
   "attachments": {},
   "cell_type": "markdown",
   "metadata": {},
   "source": [
    "Для реализации данных методов мы использовали библиотеку category_encoders. Однако вы уже знаете и такой мощный инструмент, как scikit-learn. Данная библиотека содержит набор реализованных алгоритмов машинного обучения, метрик для оценки их качества, а также  класс preprocessing для предобработки данных, в частности — для кодирования категориальных признаков.\n",
    "\n",
    "Представленная ниже таблица показывает соответствие типа кодирования классу в sklearn.processing."
   ]
  },
  {
   "attachments": {},
   "cell_type": "markdown",
   "metadata": {},
   "source": [
    "ТИП КОДИРОВКИ -\tКЛАСС БИБЛИОТЕКИ SKLEARN\n",
    "* Порядковое кодирование -\tLabelEncoder\n",
    "* Двоичное кодирование -\tLabelBinarizer\n",
    "* Однократное кодирование -\tOneHotEncoder"
   ]
  },
  {
   "attachments": {},
   "cell_type": "markdown",
   "metadata": {},
   "source": [
    "Преимущество использования одной библиотеки состоит в типичности методов. Например, вы знаете, что для обучения модели в sklearn используется метод fit(). При кодировании признаков здесь также применяют fit() для подгонки кодировщика под выборку и transform() — для преобразования данных в числа."
   ]
  },
  {
   "attachments": {},
   "cell_type": "markdown",
   "metadata": {},
   "source": [
    "Из предыдущих модулей мы знаем, что при решении задач машинного обучения данные разбираются на обучающую (train) и валидационную (validation) выборки (последняя также может быть тестовой (test) выборкой). По аналогии подгонка кодировщика происходит на обучающей выборке, а трансформация — на обучающей и на тестовой.\n",
    "\n",
    "Почему так? Потому что наша обученная модель не должна видеть данные, которые подаются в неё на тесте. Только так мы можем судить о том, что модель обучена качественно. То же самое и с кодировкой.\n",
    "\n",
    "Давайте посмотрим на кодирование признака Образование способом «один-против-всех» (one vs all):"
   ]
  },
  {
   "cell_type": "code",
   "execution_count": 29,
   "metadata": {},
   "outputs": [
    {
     "name": "stdout",
     "output_type": "stream",
     "text": [
      "категории: ['BSc' 'MSc' 'PhD' 'начальное' 'нет' 'среднее']\n"
     ]
    },
    {
     "data": {
      "text/plain": [
       "array([[0, 0, 0, 0, 1, 0],\n",
       "       [0, 1, 0, 0, 0, 0]])"
      ]
     },
     "execution_count": 29,
     "metadata": {},
     "output_type": "execute_result"
    }
   ],
   "source": [
    "from sklearn.preprocessing  import LabelBinarizer\n",
    " \n",
    "lb = LabelBinarizer()\n",
    " \n",
    "education = ['нет', 'начальное', 'среднее', 'BSc', 'MSc', 'начальное', 'PhD']\n",
    " \n",
    "lb.fit(education)\n",
    " \n",
    "print('категории:', lb.classes_)\n",
    " \n",
    "lb.transform(['нет', 'MSc'])"
   ]
  },
  {
   "attachments": {},
   "cell_type": "markdown",
   "metadata": {},
   "source": [
    "У класса LabelBinarizer, как и у двух остальных, есть атрибут classes_, который выводит список уникальных значений признака.\n",
    "\n",
    "Вернёмся к нашей выборке. В ней присутствуют следующие категориальные признаки: condition, cylinders, title_status, transmission, drive, size.\n",
    "\n",
    "При этом, признаки condition и cylinders — числовые, а title_status, transmission, drive, size — текстовые."
   ]
  },
  {
   "cell_type": "code",
   "execution_count": 30,
   "metadata": {},
   "outputs": [
    {
     "name": "stdout",
     "output_type": "stream",
     "text": [
      "<class 'pandas.core.frame.DataFrame'>\n",
      "RangeIndex: 7017 entries, 0 to 7016\n",
      "Data columns (total 12 columns):\n",
      " #   Column        Non-Null Count  Dtype  \n",
      "---  ------        --------------  -----  \n",
      " 0   price         7017 non-null   int64  \n",
      " 1   year          7017 non-null   int64  \n",
      " 2   condition     7017 non-null   int64  \n",
      " 3   cylinders     7017 non-null   int64  \n",
      " 4   odometer      7017 non-null   int64  \n",
      " 5   title_status  7017 non-null   object \n",
      " 6   transmission  7017 non-null   object \n",
      " 7   drive         6626 non-null   object \n",
      " 8   size          5453 non-null   object \n",
      " 9   lat           7017 non-null   float64\n",
      " 10  long          7017 non-null   float64\n",
      " 11  weather       6837 non-null   float64\n",
      "dtypes: float64(3), int64(5), object(4)\n",
      "memory usage: 658.0+ KB\n"
     ]
    }
   ],
   "source": [
    "data.info()"
   ]
  },
  {
   "attachments": {},
   "cell_type": "markdown",
   "metadata": {},
   "source": [
    "Важно производить кодирование номинальных признаков, даже если они уже представлены в числовом формате, так как, в отличие от порядковых признаков, категории номинальных являются независимыми. В случае порядкового кодирования таких признаков мы вносим искусственные закономерности в данные (например, чем больше числовой код цилиндров, тем лучше, хотя это необязательно так)."
   ]
  },
  {
   "attachments": {},
   "cell_type": "markdown",
   "metadata": {},
   "source": [
    "Посмотрим на число уникальных значений номинальных признаков title_status, transmission, drive, size и cylinders:"
   ]
  },
  {
   "cell_type": "code",
   "execution_count": 31,
   "metadata": {},
   "outputs": [
    {
     "name": "stdout",
     "output_type": "stream",
     "text": [
      "Число уникальных значений признака cylinders:  6\n",
      "Число уникальных значений признака title_status:  5\n",
      "Число уникальных значений признака transmission:  3\n",
      "Число уникальных значений признака drive:  3\n",
      "Число уникальных значений признака size:  4\n"
     ]
    }
   ],
   "source": [
    "columns_to_change = ['cylinders', 'title_status', 'transmission', 'drive', 'size']\n",
    " \n",
    "for column in columns_to_change:\n",
    " print('Число уникальных значений признака {}: '.format(column), data[column].nunique())"
   ]
  },
  {
   "attachments": {},
   "cell_type": "markdown",
   "metadata": {},
   "source": [
    "Итак, нам подходит однократное кодирование. Применим его к выбранным столбцам. Так как у нас нет отдельной тестовой выборки, то мы используем только один метод — fit_transform(). В качестве аргумента передаём таблицу с выбранными для преобразования признаками.\n",
    "\n",
    "С помощью метода get_feature_names() получим список новых названий колонок:"
   ]
  },
  {
   "cell_type": "code",
   "execution_count": 32,
   "metadata": {},
   "outputs": [
    {
     "name": "stdout",
     "output_type": "stream",
     "text": [
      "['cylinders_3' 'cylinders_4' 'cylinders_5' 'cylinders_6' 'cylinders_8'\n",
      " 'cylinders_10' 'title_status_clean' 'title_status_lien'\n",
      " 'title_status_missing' 'title_status_rebuilt' 'title_status_salvage'\n",
      " 'transmission_automatic' 'transmission_manual' 'transmission_other'\n",
      " 'drive_4wd' 'drive_fwd' 'drive_rwd' 'drive_nan' 'size_compact'\n",
      " 'size_full-size' 'size_mid-size' 'size_sub-compact' 'size_nan']\n"
     ]
    },
    {
     "name": "stderr",
     "output_type": "stream",
     "text": [
      "c:\\Users\\killr\\AppData\\Local\\Programs\\Python\\Python39\\lib\\site-packages\\sklearn\\utils\\deprecation.py:87: FutureWarning: Function get_feature_names is deprecated; get_feature_names is deprecated in 1.0 and will be removed in 1.2. Please use get_feature_names_out instead.\n",
      "  warnings.warn(msg, category=FutureWarning)\n"
     ]
    }
   ],
   "source": [
    "from sklearn.preprocessing import OneHotEncoder\n",
    " \n",
    "one_hot_encoder = OneHotEncoder()\n",
    " \n",
    "# 'учим' и сразу применяем преобразование к выборке, результат переводим в массив\n",
    "data_onehot = one_hot_encoder.fit_transform(data[columns_to_change]).toarray()\n",
    " \n",
    "# запишем полученные названия новых колонок в отдельную переменную\n",
    "column_names = one_hot_encoder.get_feature_names(columns_to_change)\n",
    "print(column_names)"
   ]
  },
  {
   "cell_type": "code",
   "execution_count": 33,
   "metadata": {},
   "outputs": [],
   "source": [
    "data_onehot = pd.DataFrame(data_onehot, index=data.index, columns=column_names)"
   ]
  },
  {
   "cell_type": "code",
   "execution_count": 34,
   "metadata": {},
   "outputs": [],
   "source": [
    "data_new = pd.concat([data, data_onehot], axis=1)"
   ]
  },
  {
   "cell_type": "code",
   "execution_count": 35,
   "metadata": {},
   "outputs": [],
   "source": [
    "data_new = data_new.drop(columns=columns_to_change)"
   ]
  },
  {
   "cell_type": "code",
   "execution_count": 36,
   "metadata": {},
   "outputs": [
    {
     "data": {
      "text/plain": [
       "(7017, 30)"
      ]
     },
     "execution_count": 36,
     "metadata": {},
     "output_type": "execute_result"
    }
   ],
   "source": [
    "data_new.shape"
   ]
  },
  {
   "attachments": {},
   "cell_type": "markdown",
   "metadata": {},
   "source": [
    "### Обработка пропусков и выбросов"
   ]
  },
  {
   "attachments": {},
   "cell_type": "markdown",
   "metadata": {},
   "source": [
    "Первым делом воспользуемся методом удаления строк с пропусками. Плюс данного метода состоит в том, что модель, обученная с удалением всех пропущенных значений, является надёжной, то есть имеет сравнительно хорошее качество на тесте. Среди минусов — потеря большого количества информации, а также плохое качество работы, если процент отсутствующих значений слишком велик по сравнению с полным набором данных."
   ]
  },
  {
   "cell_type": "code",
   "execution_count": 37,
   "metadata": {},
   "outputs": [
    {
     "data": {
      "text/html": [
       "<div>\n",
       "<style scoped>\n",
       "    .dataframe tbody tr th:only-of-type {\n",
       "        vertical-align: middle;\n",
       "    }\n",
       "\n",
       "    .dataframe tbody tr th {\n",
       "        vertical-align: top;\n",
       "    }\n",
       "\n",
       "    .dataframe thead th {\n",
       "        text-align: right;\n",
       "    }\n",
       "</style>\n",
       "<table border=\"1\" class=\"dataframe\">\n",
       "  <thead>\n",
       "    <tr style=\"text-align: right;\">\n",
       "      <th></th>\n",
       "      <th>price</th>\n",
       "      <th>year</th>\n",
       "      <th>condition</th>\n",
       "      <th>cylinders</th>\n",
       "      <th>odometer</th>\n",
       "      <th>title_status</th>\n",
       "      <th>transmission</th>\n",
       "      <th>drive</th>\n",
       "      <th>size</th>\n",
       "      <th>lat</th>\n",
       "      <th>long</th>\n",
       "      <th>weather</th>\n",
       "    </tr>\n",
       "  </thead>\n",
       "  <tbody>\n",
       "    <tr>\n",
       "      <th>0</th>\n",
       "      <td>43900</td>\n",
       "      <td>2016</td>\n",
       "      <td>4</td>\n",
       "      <td>6</td>\n",
       "      <td>43500</td>\n",
       "      <td>clean</td>\n",
       "      <td>automatic</td>\n",
       "      <td>4wd</td>\n",
       "      <td>full-size</td>\n",
       "      <td>36.471500</td>\n",
       "      <td>-82.483400</td>\n",
       "      <td>59.0</td>\n",
       "    </tr>\n",
       "    <tr>\n",
       "      <th>1</th>\n",
       "      <td>15490</td>\n",
       "      <td>2009</td>\n",
       "      <td>2</td>\n",
       "      <td>8</td>\n",
       "      <td>98131</td>\n",
       "      <td>clean</td>\n",
       "      <td>automatic</td>\n",
       "      <td>4wd</td>\n",
       "      <td>full-size</td>\n",
       "      <td>40.468826</td>\n",
       "      <td>-74.281734</td>\n",
       "      <td>52.0</td>\n",
       "    </tr>\n",
       "    <tr>\n",
       "      <th>2</th>\n",
       "      <td>2495</td>\n",
       "      <td>2002</td>\n",
       "      <td>2</td>\n",
       "      <td>8</td>\n",
       "      <td>201803</td>\n",
       "      <td>clean</td>\n",
       "      <td>automatic</td>\n",
       "      <td>4wd</td>\n",
       "      <td>full-size</td>\n",
       "      <td>42.477134</td>\n",
       "      <td>-82.949564</td>\n",
       "      <td>45.0</td>\n",
       "    </tr>\n",
       "    <tr>\n",
       "      <th>3</th>\n",
       "      <td>1300</td>\n",
       "      <td>2000</td>\n",
       "      <td>1</td>\n",
       "      <td>8</td>\n",
       "      <td>170305</td>\n",
       "      <td>rebuilt</td>\n",
       "      <td>automatic</td>\n",
       "      <td>4wd</td>\n",
       "      <td>full-size</td>\n",
       "      <td>40.764373</td>\n",
       "      <td>-82.349503</td>\n",
       "      <td>49.0</td>\n",
       "    </tr>\n",
       "    <tr>\n",
       "      <th>5</th>\n",
       "      <td>6995</td>\n",
       "      <td>2003</td>\n",
       "      <td>3</td>\n",
       "      <td>8</td>\n",
       "      <td>167662</td>\n",
       "      <td>clean</td>\n",
       "      <td>automatic</td>\n",
       "      <td>4wd</td>\n",
       "      <td>full-size</td>\n",
       "      <td>45.518031</td>\n",
       "      <td>-122.578752</td>\n",
       "      <td>50.0</td>\n",
       "    </tr>\n",
       "    <tr>\n",
       "      <th>...</th>\n",
       "      <td>...</td>\n",
       "      <td>...</td>\n",
       "      <td>...</td>\n",
       "      <td>...</td>\n",
       "      <td>...</td>\n",
       "      <td>...</td>\n",
       "      <td>...</td>\n",
       "      <td>...</td>\n",
       "      <td>...</td>\n",
       "      <td>...</td>\n",
       "      <td>...</td>\n",
       "      <td>...</td>\n",
       "    </tr>\n",
       "    <tr>\n",
       "      <th>7012</th>\n",
       "      <td>22500</td>\n",
       "      <td>2015</td>\n",
       "      <td>3</td>\n",
       "      <td>6</td>\n",
       "      <td>23500</td>\n",
       "      <td>clean</td>\n",
       "      <td>automatic</td>\n",
       "      <td>rwd</td>\n",
       "      <td>full-size</td>\n",
       "      <td>32.680700</td>\n",
       "      <td>-117.169800</td>\n",
       "      <td>59.0</td>\n",
       "    </tr>\n",
       "    <tr>\n",
       "      <th>7013</th>\n",
       "      <td>5975</td>\n",
       "      <td>2005</td>\n",
       "      <td>2</td>\n",
       "      <td>8</td>\n",
       "      <td>0</td>\n",
       "      <td>clean</td>\n",
       "      <td>automatic</td>\n",
       "      <td>rwd</td>\n",
       "      <td>full-size</td>\n",
       "      <td>38.213303</td>\n",
       "      <td>-85.785762</td>\n",
       "      <td>50.0</td>\n",
       "    </tr>\n",
       "    <tr>\n",
       "      <th>7014</th>\n",
       "      <td>9999</td>\n",
       "      <td>2006</td>\n",
       "      <td>3</td>\n",
       "      <td>8</td>\n",
       "      <td>161514</td>\n",
       "      <td>clean</td>\n",
       "      <td>automatic</td>\n",
       "      <td>NaN</td>\n",
       "      <td>full-size</td>\n",
       "      <td>37.609783</td>\n",
       "      <td>-120.995406</td>\n",
       "      <td>59.0</td>\n",
       "    </tr>\n",
       "    <tr>\n",
       "      <th>7015</th>\n",
       "      <td>10900</td>\n",
       "      <td>2011</td>\n",
       "      <td>2</td>\n",
       "      <td>8</td>\n",
       "      <td>164000</td>\n",
       "      <td>clean</td>\n",
       "      <td>automatic</td>\n",
       "      <td>4wd</td>\n",
       "      <td>full-size</td>\n",
       "      <td>43.140600</td>\n",
       "      <td>-93.385000</td>\n",
       "      <td>47.0</td>\n",
       "    </tr>\n",
       "    <tr>\n",
       "      <th>7016</th>\n",
       "      <td>18000</td>\n",
       "      <td>2010</td>\n",
       "      <td>2</td>\n",
       "      <td>8</td>\n",
       "      <td>104000</td>\n",
       "      <td>clean</td>\n",
       "      <td>automatic</td>\n",
       "      <td>4wd</td>\n",
       "      <td>full-size</td>\n",
       "      <td>37.987200</td>\n",
       "      <td>-84.178900</td>\n",
       "      <td>50.0</td>\n",
       "    </tr>\n",
       "  </tbody>\n",
       "</table>\n",
       "<p>6837 rows × 12 columns</p>\n",
       "</div>"
      ],
      "text/plain": [
       "      price  year  condition  cylinders  odometer title_status transmission  \\\n",
       "0     43900  2016          4          6     43500        clean    automatic   \n",
       "1     15490  2009          2          8     98131        clean    automatic   \n",
       "2      2495  2002          2          8    201803        clean    automatic   \n",
       "3      1300  2000          1          8    170305      rebuilt    automatic   \n",
       "5      6995  2003          3          8    167662        clean    automatic   \n",
       "...     ...   ...        ...        ...       ...          ...          ...   \n",
       "7012  22500  2015          3          6     23500        clean    automatic   \n",
       "7013   5975  2005          2          8         0        clean    automatic   \n",
       "7014   9999  2006          3          8    161514        clean    automatic   \n",
       "7015  10900  2011          2          8    164000        clean    automatic   \n",
       "7016  18000  2010          2          8    104000        clean    automatic   \n",
       "\n",
       "     drive       size        lat        long  weather  \n",
       "0      4wd  full-size  36.471500  -82.483400     59.0  \n",
       "1      4wd  full-size  40.468826  -74.281734     52.0  \n",
       "2      4wd  full-size  42.477134  -82.949564     45.0  \n",
       "3      4wd  full-size  40.764373  -82.349503     49.0  \n",
       "5      4wd  full-size  45.518031 -122.578752     50.0  \n",
       "...    ...        ...        ...         ...      ...  \n",
       "7012   rwd  full-size  32.680700 -117.169800     59.0  \n",
       "7013   rwd  full-size  38.213303  -85.785762     50.0  \n",
       "7014   NaN  full-size  37.609783 -120.995406     59.0  \n",
       "7015   4wd  full-size  43.140600  -93.385000     47.0  \n",
       "7016   4wd  full-size  37.987200  -84.178900     50.0  \n",
       "\n",
       "[6837 rows x 12 columns]"
      ]
     },
     "execution_count": 37,
     "metadata": {},
     "output_type": "execute_result"
    }
   ],
   "source": [
    "data[~data['weather'].isna()]"
   ]
  },
  {
   "attachments": {},
   "cell_type": "markdown",
   "metadata": {},
   "source": [
    "Символ ~ (тильда) означает, что мы выбираем все строки датасета data, где не выполняется условие data['weather'].isna(), то есть где нет пропусков в столбце 'weather'."
   ]
  },
  {
   "cell_type": "code",
   "execution_count": 38,
   "metadata": {},
   "outputs": [
    {
     "data": {
      "text/plain": [
       "0.7771127262362834"
      ]
     },
     "execution_count": 38,
     "metadata": {},
     "output_type": "execute_result"
    }
   ],
   "source": [
    "#Задание 4.2\n",
    "\n",
    "#Какая доля строк в датасете останется, если убрать пропуски в столбце size? Ответ округлите до двух знаков после точки-разделителя.\n",
    "\n",
    "data[~data['size'].isna()].shape[0]/data.shape[0]"
   ]
  },
  {
   "cell_type": "code",
   "execution_count": 39,
   "metadata": {},
   "outputs": [],
   "source": [
    "from sklearn.linear_model import LinearRegression\n",
    "from sklearn.metrics import r2_score\n",
    "from sklearn.model_selection import train_test_split"
   ]
  },
  {
   "cell_type": "code",
   "execution_count": 40,
   "metadata": {},
   "outputs": [],
   "source": [
    "x = x.dropna()"
   ]
  },
  {
   "cell_type": "code",
   "execution_count": 41,
   "metadata": {},
   "outputs": [],
   "source": [
    "y = y.iloc[x.index]"
   ]
  },
  {
   "cell_type": "code",
   "execution_count": 42,
   "metadata": {},
   "outputs": [],
   "source": [
    "X_train, X_test, y_train, y_test = train_test_split(x, y, test_size=0.2, random_state=30)"
   ]
  },
  {
   "cell_type": "code",
   "execution_count": 43,
   "metadata": {},
   "outputs": [],
   "source": [
    "from sklearn.preprocessing import OneHotEncoder\n",
    "one_hot_encoder = OneHotEncoder()"
   ]
  },
  {
   "cell_type": "code",
   "execution_count": 44,
   "metadata": {},
   "outputs": [],
   "source": [
    "X_train_onehot = one_hot_encoder.fit_transform(X_train[columns_to_change]).toarray()"
   ]
  },
  {
   "cell_type": "code",
   "execution_count": 45,
   "metadata": {},
   "outputs": [],
   "source": [
    "X_test_onehot = one_hot_encoder.transform(X_test[columns_to_change]).toarray()"
   ]
  },
  {
   "cell_type": "code",
   "execution_count": 46,
   "metadata": {},
   "outputs": [
    {
     "name": "stderr",
     "output_type": "stream",
     "text": [
      "c:\\Users\\killr\\AppData\\Local\\Programs\\Python\\Python39\\lib\\site-packages\\sklearn\\utils\\deprecation.py:87: FutureWarning: Function get_feature_names is deprecated; get_feature_names is deprecated in 1.0 and will be removed in 1.2. Please use get_feature_names_out instead.\n",
      "  warnings.warn(msg, category=FutureWarning)\n"
     ]
    },
    {
     "data": {
      "text/plain": [
       "array(['cylinders_3', 'cylinders_4', 'cylinders_5', 'cylinders_6',\n",
       "       'cylinders_8', 'cylinders_10', 'title_status_clean',\n",
       "       'title_status_lien', 'title_status_missing',\n",
       "       'title_status_rebuilt'], dtype=object)"
      ]
     },
     "execution_count": 46,
     "metadata": {},
     "output_type": "execute_result"
    }
   ],
   "source": [
    "columns = one_hot_encoder.get_feature_names(columns_to_change)\n",
    "columns[:10]"
   ]
  },
  {
   "attachments": {},
   "cell_type": "markdown",
   "metadata": {},
   "source": [
    "Теперь у нас есть массив закодированных признаков и наша изначальная таблица. Чтобы соединить эти данные, переведём массив в формат DataFrame."
   ]
  },
  {
   "cell_type": "code",
   "execution_count": 47,
   "metadata": {},
   "outputs": [],
   "source": [
    "X_train_onehot_df = pd.DataFrame(X_train_onehot, columns=columns)\n",
    "X_test_onehot_df = pd.DataFrame(X_test_onehot, columns=columns)"
   ]
  },
  {
   "attachments": {},
   "cell_type": "markdown",
   "metadata": {},
   "source": [
    "Переустановим индексацию в таблицах, применив подряд сразу два метода: reset_index() — для изменения индексов с рандомных на последовательные от 0 до n и drop(['index'], axis = 1) — для удаления образовавшегося столбца 'index'."
   ]
  },
  {
   "cell_type": "code",
   "execution_count": 48,
   "metadata": {},
   "outputs": [],
   "source": [
    "X_train = X_train.reset_index().drop(['index'], axis = 1)\n",
    "X_test = X_test.reset_index().drop(['index'], axis = 1)\n",
    " \n",
    "y_train = y_train.reset_index().drop(['index'], axis = 1)\n",
    "y_test = y_test.reset_index().drop(['index'], axis = 1)"
   ]
  },
  {
   "attachments": {},
   "cell_type": "markdown",
   "metadata": {},
   "source": [
    "Объединяем таблицы и удаляем старые категориальные признаки:"
   ]
  },
  {
   "cell_type": "code",
   "execution_count": 49,
   "metadata": {},
   "outputs": [],
   "source": [
    "X_train_new = pd.concat([X_train, X_train_onehot_df], axis=1)\n",
    "X_test_new = pd.concat([X_test, X_test_onehot_df], axis=1)\n",
    " \n",
    "X_train_new = X_train_new.drop(columns=columns_to_change)\n",
    "X_test_new = X_test_new.drop(columns=columns_to_change)"
   ]
  },
  {
   "cell_type": "code",
   "execution_count": 50,
   "metadata": {},
   "outputs": [
    {
     "name": "stdout",
     "output_type": "stream",
     "text": [
      "Train R^2: 0.647\n",
      "Test R^2: 0.693\n"
     ]
    }
   ],
   "source": [
    "lr_model = LinearRegression()\n",
    "lr_model.fit(X_train_new, y_train)\n",
    "y_train_predict = lr_model.predict(X_train_new)\n",
    "y_test_predict = lr_model.predict(X_test_new)\n",
    "print(\"Train R^2: {:.3f}\".format(r2_score(y_train, y_train_predict)))\n",
    "print(\"Test R^2: {:.3f}\".format(r2_score(y_test, y_test_predict)))"
   ]
  },
  {
   "attachments": {},
   "cell_type": "markdown",
   "metadata": {},
   "source": [
    "Теперь давайте попробуем заполнить пропуски константными значениями и обучить модель заново. Плюс такого подхода состоит в том, что мы предотвращаем потерю данных, которая происходит при удалении строк или столбцов. Основной минус — в снижении разброса (разнообразия) признаков."
   ]
  },
  {
   "attachments": {},
   "cell_type": "markdown",
   "metadata": {},
   "source": [
    "Заполним числовой столбец средним значением, округлив его до целого числа:"
   ]
  },
  {
   "cell_type": "code",
   "execution_count": 51,
   "metadata": {},
   "outputs": [],
   "source": [
    "import numpy as np\n",
    " \n",
    "X_train['weather'] = X_train['weather'].fillna(np.round(np.mean(X_train['weather']),0))\n",
    "X_test['weather'] = X_test['weather'].fillna(np.round(np.mean(X_train['weather']),0))"
   ]
  }
 ],
 "metadata": {
  "kernelspec": {
   "display_name": "Python 3",
   "language": "python",
   "name": "python3"
  },
  "language_info": {
   "codemirror_mode": {
    "name": "ipython",
    "version": 3
   },
   "file_extension": ".py",
   "mimetype": "text/x-python",
   "name": "python",
   "nbconvert_exporter": "python",
   "pygments_lexer": "ipython3",
   "version": "3.9.10"
  },
  "orig_nbformat": 4,
  "vscode": {
   "interpreter": {
    "hash": "1cc44eaf2648da4dace471d8319ba2090c8ead37982a56cf8a542a54c6d1597c"
   }
  }
 },
 "nbformat": 4,
 "nbformat_minor": 2
}
