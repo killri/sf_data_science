{
 "cells": [
  {
   "cell_type": "code",
   "execution_count": 2,
   "metadata": {},
   "outputs": [],
   "source": [
    "import pandas as pd\n",
    "import matplotlib.pyplot as plt\n",
    "import seaborn as sns"
   ]
  },
  {
   "cell_type": "code",
   "execution_count": 3,
   "metadata": {},
   "outputs": [],
   "source": [
    "ab_data = pd.read_csv('ab_data.csv')"
   ]
  },
  {
   "cell_type": "code",
   "execution_count": 4,
   "metadata": {},
   "outputs": [
    {
     "data": {
      "text/html": [
       "<div>\n",
       "<style scoped>\n",
       "    .dataframe tbody tr th:only-of-type {\n",
       "        vertical-align: middle;\n",
       "    }\n",
       "\n",
       "    .dataframe tbody tr th {\n",
       "        vertical-align: top;\n",
       "    }\n",
       "\n",
       "    .dataframe thead th {\n",
       "        text-align: right;\n",
       "    }\n",
       "</style>\n",
       "<table border=\"1\" class=\"dataframe\">\n",
       "  <thead>\n",
       "    <tr style=\"text-align: right;\">\n",
       "      <th></th>\n",
       "      <th>user_id</th>\n",
       "      <th>timestamp</th>\n",
       "      <th>group</th>\n",
       "      <th>converted</th>\n",
       "    </tr>\n",
       "  </thead>\n",
       "  <tbody>\n",
       "    <tr>\n",
       "      <th>0</th>\n",
       "      <td>851104</td>\n",
       "      <td>2017-01-21</td>\n",
       "      <td>A</td>\n",
       "      <td>0</td>\n",
       "    </tr>\n",
       "    <tr>\n",
       "      <th>1</th>\n",
       "      <td>804228</td>\n",
       "      <td>2017-01-12</td>\n",
       "      <td>A</td>\n",
       "      <td>0</td>\n",
       "    </tr>\n",
       "    <tr>\n",
       "      <th>2</th>\n",
       "      <td>661590</td>\n",
       "      <td>2017-01-11</td>\n",
       "      <td>B</td>\n",
       "      <td>0</td>\n",
       "    </tr>\n",
       "    <tr>\n",
       "      <th>3</th>\n",
       "      <td>853541</td>\n",
       "      <td>2017-01-08</td>\n",
       "      <td>B</td>\n",
       "      <td>0</td>\n",
       "    </tr>\n",
       "    <tr>\n",
       "      <th>4</th>\n",
       "      <td>864975</td>\n",
       "      <td>2017-01-21</td>\n",
       "      <td>A</td>\n",
       "      <td>1</td>\n",
       "    </tr>\n",
       "  </tbody>\n",
       "</table>\n",
       "</div>"
      ],
      "text/plain": [
       "   user_id   timestamp group  converted\n",
       "0   851104  2017-01-21     A          0\n",
       "1   804228  2017-01-12     A          0\n",
       "2   661590  2017-01-11     B          0\n",
       "3   853541  2017-01-08     B          0\n",
       "4   864975  2017-01-21     A          1"
      ]
     },
     "execution_count": 4,
     "metadata": {},
     "output_type": "execute_result"
    }
   ],
   "source": [
    "ab_data.head()"
   ]
  },
  {
   "cell_type": "code",
   "execution_count": 5,
   "metadata": {},
   "outputs": [],
   "source": [
    "ab_data['timestamp'] = pd.to_datetime(ab_data['timestamp'], format='%Y-%m-%d')"
   ]
  },
  {
   "cell_type": "code",
   "execution_count": 6,
   "metadata": {},
   "outputs": [
    {
     "data": {
      "text/html": [
       "<div>\n",
       "<style scoped>\n",
       "    .dataframe tbody tr th:only-of-type {\n",
       "        vertical-align: middle;\n",
       "    }\n",
       "\n",
       "    .dataframe tbody tr th {\n",
       "        vertical-align: top;\n",
       "    }\n",
       "\n",
       "    .dataframe thead th {\n",
       "        text-align: right;\n",
       "    }\n",
       "</style>\n",
       "<table border=\"1\" class=\"dataframe\">\n",
       "  <thead>\n",
       "    <tr style=\"text-align: right;\">\n",
       "      <th></th>\n",
       "      <th>timestamp</th>\n",
       "      <th>group</th>\n",
       "      <th>users_count</th>\n",
       "      <th>converted</th>\n",
       "    </tr>\n",
       "  </thead>\n",
       "  <tbody>\n",
       "    <tr>\n",
       "      <th>0</th>\n",
       "      <td>2017-01-02</td>\n",
       "      <td>A</td>\n",
       "      <td>2851</td>\n",
       "      <td>357</td>\n",
       "    </tr>\n",
       "    <tr>\n",
       "      <th>1</th>\n",
       "      <td>2017-01-02</td>\n",
       "      <td>B</td>\n",
       "      <td>2848</td>\n",
       "      <td>339</td>\n",
       "    </tr>\n",
       "    <tr>\n",
       "      <th>2</th>\n",
       "      <td>2017-01-03</td>\n",
       "      <td>A</td>\n",
       "      <td>6584</td>\n",
       "      <td>749</td>\n",
       "    </tr>\n",
       "    <tr>\n",
       "      <th>3</th>\n",
       "      <td>2017-01-03</td>\n",
       "      <td>B</td>\n",
       "      <td>6620</td>\n",
       "      <td>754</td>\n",
       "    </tr>\n",
       "    <tr>\n",
       "      <th>4</th>\n",
       "      <td>2017-01-04</td>\n",
       "      <td>A</td>\n",
       "      <td>6573</td>\n",
       "      <td>797</td>\n",
       "    </tr>\n",
       "  </tbody>\n",
       "</table>\n",
       "</div>"
      ],
      "text/plain": [
       "   timestamp group  users_count  converted\n",
       "0 2017-01-02     A         2851        357\n",
       "1 2017-01-02     B         2848        339\n",
       "2 2017-01-03     A         6584        749\n",
       "3 2017-01-03     B         6620        754\n",
       "4 2017-01-04     A         6573        797"
      ]
     },
     "execution_count": 6,
     "metadata": {},
     "output_type": "execute_result"
    }
   ],
   "source": [
    "daily_data = ab_data.groupby(['timestamp','group']).agg({\n",
    "    'user_id':'count',\n",
    "    'converted':'sum'\n",
    "}).reset_index().rename(columns={'user_id': 'users_count'})\n",
    "daily_data.head()"
   ]
  },
  {
   "cell_type": "code",
   "execution_count": 7,
   "metadata": {},
   "outputs": [
    {
     "data": {
      "text/html": [
       "<div>\n",
       "<style scoped>\n",
       "    .dataframe tbody tr th:only-of-type {\n",
       "        vertical-align: middle;\n",
       "    }\n",
       "\n",
       "    .dataframe tbody tr th {\n",
       "        vertical-align: top;\n",
       "    }\n",
       "\n",
       "    .dataframe thead th {\n",
       "        text-align: right;\n",
       "    }\n",
       "</style>\n",
       "<table border=\"1\" class=\"dataframe\">\n",
       "  <thead>\n",
       "    <tr style=\"text-align: right;\">\n",
       "      <th></th>\n",
       "      <th>timestamp</th>\n",
       "      <th>group</th>\n",
       "      <th>users_count</th>\n",
       "      <th>converted</th>\n",
       "      <th>conversion</th>\n",
       "    </tr>\n",
       "  </thead>\n",
       "  <tbody>\n",
       "    <tr>\n",
       "      <th>6</th>\n",
       "      <td>2017-01-05</td>\n",
       "      <td>A</td>\n",
       "      <td>6419</td>\n",
       "      <td>791</td>\n",
       "      <td>12.322792</td>\n",
       "    </tr>\n",
       "    <tr>\n",
       "      <th>7</th>\n",
       "      <td>2017-01-05</td>\n",
       "      <td>B</td>\n",
       "      <td>6509</td>\n",
       "      <td>743</td>\n",
       "      <td>11.414964</td>\n",
       "    </tr>\n",
       "  </tbody>\n",
       "</table>\n",
       "</div>"
      ],
      "text/plain": [
       "   timestamp group  users_count  converted  conversion\n",
       "6 2017-01-05     A         6419        791   12.322792\n",
       "7 2017-01-05     B         6509        743   11.414964"
      ]
     },
     "execution_count": 7,
     "metadata": {},
     "output_type": "execute_result"
    }
   ],
   "source": [
    "#Задание 4.1\n",
    "#Рассчитайте конверсию на каждый день по приведённой формуле. Результат занесите в столбец conversion. \n",
    "# Чему была равна конверсия (в процентах) в группе А 5 января 2017 года? Ответ округлите до второго знака после запятой.\n",
    "\n",
    "daily_data['conversion'] = daily_data['converted']/daily_data['users_count']*100\n",
    "daily_data[daily_data['timestamp'] == '2017-01-05']"
   ]
  },
  {
   "cell_type": "code",
   "execution_count": 8,
   "metadata": {},
   "outputs": [
    {
     "data": {
      "image/png": "[encoded data removed]",
      "text/plain": [
       "<Figure size 576x288 with 1 Axes>"
      ]
     },
     "metadata": {
      "needs_background": "light"
     },
     "output_type": "display_data"
    }
   ],
   "source": [
    "# создаём фигуру размером 8x4\n",
    "fig = plt.figure(figsize=(8, 4)) \n",
    "# добавляем систему координат\n",
    "ax = fig.add_axes([1, 1, 1, 1]) \n",
    "# строим boxplot для conversion по признаку group\n",
    "sns.boxplot(data=daily_data, x='conversion', y='group', ax=ax) \n",
    "# задаём подпись к графику\n",
    "ax.set_title('Сравнение конверсии в группах')\n",
    "# задаём отображение сетки\n",
    "ax.grid();"
   ]
  },
  {
   "cell_type": "code",
   "execution_count": 9,
   "metadata": {},
   "outputs": [
    {
     "data": {
      "text/html": [
       "<div>\n",
       "<style scoped>\n",
       "    .dataframe tbody tr th:only-of-type {\n",
       "        vertical-align: middle;\n",
       "    }\n",
       "\n",
       "    .dataframe tbody tr th {\n",
       "        vertical-align: top;\n",
       "    }\n",
       "\n",
       "    .dataframe thead th {\n",
       "        text-align: right;\n",
       "    }\n",
       "</style>\n",
       "<table border=\"1\" class=\"dataframe\">\n",
       "  <thead>\n",
       "    <tr style=\"text-align: right;\">\n",
       "      <th></th>\n",
       "      <th>mean</th>\n",
       "      <th>median</th>\n",
       "    </tr>\n",
       "    <tr>\n",
       "      <th>group</th>\n",
       "      <th></th>\n",
       "      <th></th>\n",
       "    </tr>\n",
       "  </thead>\n",
       "  <tbody>\n",
       "    <tr>\n",
       "      <th>A</th>\n",
       "      <td>12.032876</td>\n",
       "      <td>12.024261</td>\n",
       "    </tr>\n",
       "    <tr>\n",
       "      <th>B</th>\n",
       "      <td>11.872697</td>\n",
       "      <td>11.829582</td>\n",
       "    </tr>\n",
       "  </tbody>\n",
       "</table>\n",
       "</div>"
      ],
      "text/plain": [
       "            mean     median\n",
       "group                      \n",
       "A      12.032876  12.024261\n",
       "B      11.872697  11.829582"
      ]
     },
     "metadata": {},
     "output_type": "display_data"
    }
   ],
   "source": [
    "conversion_piv = daily_data.groupby('group')['conversion'].agg(\n",
    "    ['mean', 'median']\n",
    ")\n",
    "display(conversion_piv)"
   ]
  },
  {
   "attachments": {},
   "cell_type": "markdown",
   "metadata": {},
   "source": [
    "### КУМУЛЯТИВНЫЕ МЕТРИКИ\n",
    "\n",
    "Кумулятивная метрика — это отображение целевой метрики, когда вы отслеживаете её поведение за каждый день — накопленным итогом по дням. \n",
    "\n",
    "для начала ради эксперимента посмотрим, как вообще изменялись показатели ежедневной конверсии в каждой группе во времени. Для этого построим линейные графики для каждой группы: по оси абсцисс отложим дату, а по оси ординат — показатель конверсии:"
   ]
  },
  {
   "cell_type": "code",
   "execution_count": 10,
   "metadata": {},
   "outputs": [
    {
     "data": {
      "image/png": "[encoded data removed]",
      "text/plain": [
       "<Figure size 576x288 with 1 Axes>"
      ]
     },
     "metadata": {
      "needs_background": "light"
     },
     "output_type": "display_data"
    }
   ],
   "source": [
    "# создаём фигуру размером 8x4\n",
    "fig = plt.figure(figsize=(8, 4))\n",
    "# добавляем систему координат\n",
    "ax = fig.add_axes([1, 1, 1, 1])\n",
    "# строим lineplot для конверсии во времени в каждой группе\n",
    "sns.lineplot(\n",
    "    data=daily_data,\n",
    "    x='timestamp',\n",
    "    y='conversion',\n",
    "    hue='group', \n",
    "    ax=ax\n",
    ")\n",
    "# задаём подпись к графику\n",
    "ax.set_title('График конверсии по дням')\n",
    "# задаём поворот меток на оси абсцисс\n",
    "ax.xaxis.set_tick_params(rotation=45)\n",
    "# задаём отображение сетки\n",
    "ax.grid();"
   ]
  },
  {
   "attachments": {},
   "cell_type": "markdown",
   "metadata": {},
   "source": [
    "Для расчёта кумулятивного показателя суммы в Pandas есть специальный метод cumsum(). Давайте посмотрим, как он работает — сначала на данных о ежедневном количестве посетителей для группы А. "
   ]
  },
  {
   "cell_type": "code",
   "execution_count": 11,
   "metadata": {},
   "outputs": [
    {
     "name": "stderr",
     "output_type": "stream",
     "text": [
      "C:\\Users\\Кирилл Шемонаев\\AppData\\Local\\Temp\\ipykernel_8872\\906787284.py:4: SettingWithCopyWarning: \n",
      "A value is trying to be set on a copy of a slice from a DataFrame.\n",
      "Try using .loc[row_indexer,col_indexer] = value instead\n",
      "\n",
      "See the caveats in the documentation: https://pandas.pydata.org/pandas-docs/stable/user_guide/indexing.html#returning-a-view-versus-a-copy\n",
      "  daily_data_a.loc[:, 'cum_users_count'] = daily_data_a['users_count'].cumsum()\n"
     ]
    },
    {
     "data": {
      "text/html": [
       "<div>\n",
       "<style scoped>\n",
       "    .dataframe tbody tr th:only-of-type {\n",
       "        vertical-align: middle;\n",
       "    }\n",
       "\n",
       "    .dataframe tbody tr th {\n",
       "        vertical-align: top;\n",
       "    }\n",
       "\n",
       "    .dataframe thead th {\n",
       "        text-align: right;\n",
       "    }\n",
       "</style>\n",
       "<table border=\"1\" class=\"dataframe\">\n",
       "  <thead>\n",
       "    <tr style=\"text-align: right;\">\n",
       "      <th></th>\n",
       "      <th>timestamp</th>\n",
       "      <th>users_count</th>\n",
       "      <th>cum_users_count</th>\n",
       "    </tr>\n",
       "  </thead>\n",
       "  <tbody>\n",
       "    <tr>\n",
       "      <th>0</th>\n",
       "      <td>2017-01-02</td>\n",
       "      <td>2851</td>\n",
       "      <td>2851</td>\n",
       "    </tr>\n",
       "    <tr>\n",
       "      <th>2</th>\n",
       "      <td>2017-01-03</td>\n",
       "      <td>6584</td>\n",
       "      <td>9435</td>\n",
       "    </tr>\n",
       "    <tr>\n",
       "      <th>4</th>\n",
       "      <td>2017-01-04</td>\n",
       "      <td>6573</td>\n",
       "      <td>16008</td>\n",
       "    </tr>\n",
       "    <tr>\n",
       "      <th>6</th>\n",
       "      <td>2017-01-05</td>\n",
       "      <td>6419</td>\n",
       "      <td>22427</td>\n",
       "    </tr>\n",
       "    <tr>\n",
       "      <th>8</th>\n",
       "      <td>2017-01-06</td>\n",
       "      <td>6604</td>\n",
       "      <td>29031</td>\n",
       "    </tr>\n",
       "  </tbody>\n",
       "</table>\n",
       "</div>"
      ],
      "text/plain": [
       "   timestamp  users_count  cum_users_count\n",
       "0 2017-01-02         2851             2851\n",
       "2 2017-01-03         6584             9435\n",
       "4 2017-01-04         6573            16008\n",
       "6 2017-01-05         6419            22427\n",
       "8 2017-01-06         6604            29031"
      ]
     },
     "metadata": {},
     "output_type": "display_data"
    }
   ],
   "source": [
    "# выделяем данные группы А\n",
    "daily_data_a = daily_data[daily_data['group'] == 'A']\n",
    "# считаем кумулятивное количество посетителей\n",
    "daily_data_a.loc[:, 'cum_users_count'] = daily_data_a['users_count'].cumsum()\n",
    "# выводим время, количество посетителей и кумулятивное количество посетителей\n",
    "display(daily_data_a[['timestamp', 'users_count', 'cum_users_count']].head())"
   ]
  },
  {
   "attachments": {},
   "cell_type": "markdown",
   "metadata": {},
   "source": [
    "рассчитаем кумулятивную конверсию — это отношение ежедневной кумулятивной суммы количества посетителей к ежедневной кумулятивной сумме количества совершённых целевых действий:"
   ]
  },
  {
   "cell_type": "code",
   "execution_count": 12,
   "metadata": {},
   "outputs": [
    {
     "data": {
      "text/html": [
       "<div>\n",
       "<style scoped>\n",
       "    .dataframe tbody tr th:only-of-type {\n",
       "        vertical-align: middle;\n",
       "    }\n",
       "\n",
       "    .dataframe tbody tr th {\n",
       "        vertical-align: top;\n",
       "    }\n",
       "\n",
       "    .dataframe thead th {\n",
       "        text-align: right;\n",
       "    }\n",
       "</style>\n",
       "<table border=\"1\" class=\"dataframe\">\n",
       "  <thead>\n",
       "    <tr style=\"text-align: right;\">\n",
       "      <th></th>\n",
       "      <th>timestamp</th>\n",
       "      <th>group</th>\n",
       "      <th>users_count</th>\n",
       "      <th>converted</th>\n",
       "      <th>conversion</th>\n",
       "      <th>cum_users_count</th>\n",
       "      <th>cum_converted</th>\n",
       "      <th>cum_conversion</th>\n",
       "    </tr>\n",
       "  </thead>\n",
       "  <tbody>\n",
       "    <tr>\n",
       "      <th>0</th>\n",
       "      <td>2017-01-02</td>\n",
       "      <td>A</td>\n",
       "      <td>2851</td>\n",
       "      <td>357</td>\n",
       "      <td>12.521922</td>\n",
       "      <td>2851</td>\n",
       "      <td>357</td>\n",
       "      <td>12.521922</td>\n",
       "    </tr>\n",
       "    <tr>\n",
       "      <th>1</th>\n",
       "      <td>2017-01-02</td>\n",
       "      <td>B</td>\n",
       "      <td>2848</td>\n",
       "      <td>339</td>\n",
       "      <td>11.903090</td>\n",
       "      <td>2848</td>\n",
       "      <td>339</td>\n",
       "      <td>11.903090</td>\n",
       "    </tr>\n",
       "    <tr>\n",
       "      <th>2</th>\n",
       "      <td>2017-01-03</td>\n",
       "      <td>A</td>\n",
       "      <td>6584</td>\n",
       "      <td>749</td>\n",
       "      <td>11.376063</td>\n",
       "      <td>9435</td>\n",
       "      <td>1106</td>\n",
       "      <td>11.722311</td>\n",
       "    </tr>\n",
       "    <tr>\n",
       "      <th>3</th>\n",
       "      <td>2017-01-03</td>\n",
       "      <td>B</td>\n",
       "      <td>6620</td>\n",
       "      <td>754</td>\n",
       "      <td>11.389728</td>\n",
       "      <td>9468</td>\n",
       "      <td>1093</td>\n",
       "      <td>11.544149</td>\n",
       "    </tr>\n",
       "    <tr>\n",
       "      <th>4</th>\n",
       "      <td>2017-01-04</td>\n",
       "      <td>A</td>\n",
       "      <td>6573</td>\n",
       "      <td>797</td>\n",
       "      <td>12.125361</td>\n",
       "      <td>16008</td>\n",
       "      <td>1903</td>\n",
       "      <td>11.887806</td>\n",
       "    </tr>\n",
       "  </tbody>\n",
       "</table>\n",
       "</div>"
      ],
      "text/plain": [
       "   timestamp group  users_count  converted  conversion  cum_users_count  \\\n",
       "0 2017-01-02     A         2851        357   12.521922             2851   \n",
       "1 2017-01-02     B         2848        339   11.903090             2848   \n",
       "2 2017-01-03     A         6584        749   11.376063             9435   \n",
       "3 2017-01-03     B         6620        754   11.389728             9468   \n",
       "4 2017-01-04     A         6573        797   12.125361            16008   \n",
       "\n",
       "   cum_converted  cum_conversion  \n",
       "0            357       12.521922  \n",
       "1            339       11.903090  \n",
       "2           1106       11.722311  \n",
       "3           1093       11.544149  \n",
       "4           1903       11.887806  "
      ]
     },
     "metadata": {},
     "output_type": "display_data"
    }
   ],
   "source": [
    "# вычисляем кумулятивную сумму количества посетителей\n",
    "daily_data['cum_users_count'] = daily_data.groupby(['group'])['users_count'].cumsum()\n",
    "# вычисляем кумулятивную сумму количества совершённых целевых действий\n",
    "daily_data['cum_converted'] = daily_data.groupby(['group'])['converted'].cumsum()\n",
    "# вычисляем кумулятивную конверсию\n",
    "daily_data['cum_conversion'] = daily_data['cum_converted']/daily_data['cum_users_count'] * 100\n",
    "display(daily_data.head())"
   ]
  },
  {
   "attachments": {},
   "cell_type": "markdown",
   "metadata": {},
   "source": [
    "А теперь построим графики кумулятивной конверсии по дням в каждой группе:"
   ]
  },
  {
   "cell_type": "code",
   "execution_count": 13,
   "metadata": {},
   "outputs": [
    {
     "data": {
      "image/png": "[encoded data removed]",
      "text/plain": [
       "<Figure size 576x288 with 1 Axes>"
      ]
     },
     "metadata": {
      "needs_background": "light"
     },
     "output_type": "display_data"
    }
   ],
   "source": [
    "# создаём фигуру размером 8x4\n",
    "fig = plt.figure(figsize=(8, 4))\n",
    "# добавляем систему координат\n",
    "ax = fig.add_axes([1, 1, 1, 1])\n",
    "# строим lineplot для кумулятивной конверсии во времени в каждой группе\n",
    "sns.lineplot(x='timestamp', y='cum_conversion', data=daily_data, hue='group', ax=ax)\n",
    "# задаём подпись к графику\n",
    "ax.set_title('График кумулятивной конверсии по дням')\n",
    "# задаём поворот меток на оси абсцисс\n",
    "ax.xaxis.set_tick_params(rotation = 45)\n",
    "# задаём отображение сетки\n",
    "ax.grid(True);"
   ]
  },
  {
   "attachments": {},
   "cell_type": "markdown",
   "metadata": {},
   "source": [
    "ЗАДАЧИ 4.6–4.9"
   ]
  },
  {
   "cell_type": "code",
   "execution_count": 14,
   "metadata": {},
   "outputs": [
    {
     "name": "stdout",
     "output_type": "stream",
     "text": [
      "<class 'pandas.core.frame.DataFrame'>\n",
      "RangeIndex: 61571 entries, 0 to 61570\n",
      "Data columns (total 5 columns):\n",
      " #   Column        Non-Null Count  Dtype  \n",
      "---  ------        --------------  -----  \n",
      " 0   date          61571 non-null  object \n",
      " 1   cid           61571 non-null  float64\n",
      " 2   transactions  61571 non-null  int64  \n",
      " 3   revenue       61571 non-null  int64  \n",
      " 4   group         61571 non-null  object \n",
      "dtypes: float64(1), int64(2), object(2)\n",
      "memory usage: 2.3+ MB\n"
     ]
    }
   ],
   "source": [
    "sample_a = pd.read_csv('ab_test-redesign_sample_a.csv')\n",
    "sample_b = pd.read_csv('ab_test-redesign_sample_b.csv')\n",
    "sample_a.info()"
   ]
  },
  {
   "cell_type": "code",
   "execution_count": 15,
   "metadata": {},
   "outputs": [],
   "source": [
    "#Задание 4.6\n",
    "#Постройте таблицу со следующими ежедневными показателями:\n",
    "    #количество посетителей сайта;\n",
    "    #суммарное число транзакций;\n",
    "    #общая сумма покупок (выручка).\n",
    "#Для этого сгруппируйте данные по признаку date, предварительно преобразовав его к типу datetime."
   ]
  },
  {
   "cell_type": "code",
   "execution_count": 16,
   "metadata": {},
   "outputs": [],
   "source": [
    "#Объеденим таблицы гурпп А и В\n",
    "df = pd.concat([sample_a, sample_b], axis = 0).reset_index()"
   ]
  },
  {
   "cell_type": "code",
   "execution_count": 17,
   "metadata": {},
   "outputs": [],
   "source": [
    "#превратим date к datetime\n",
    "df['date'] = pd.to_datetime(df['date'], format='%Y-%m-%d')\n"
   ]
  },
  {
   "cell_type": "code",
   "execution_count": 18,
   "metadata": {},
   "outputs": [
    {
     "data": {
      "text/html": [
       "<div>\n",
       "<style scoped>\n",
       "    .dataframe tbody tr th:only-of-type {\n",
       "        vertical-align: middle;\n",
       "    }\n",
       "\n",
       "    .dataframe tbody tr th {\n",
       "        vertical-align: top;\n",
       "    }\n",
       "\n",
       "    .dataframe thead th {\n",
       "        text-align: right;\n",
       "    }\n",
       "</style>\n",
       "<table border=\"1\" class=\"dataframe\">\n",
       "  <thead>\n",
       "    <tr style=\"text-align: right;\">\n",
       "      <th></th>\n",
       "      <th>date</th>\n",
       "      <th>group</th>\n",
       "      <th>users_count</th>\n",
       "      <th>transactions</th>\n",
       "      <th>revenue</th>\n",
       "    </tr>\n",
       "  </thead>\n",
       "  <tbody>\n",
       "    <tr>\n",
       "      <th>4</th>\n",
       "      <td>2020-11-08</td>\n",
       "      <td>A</td>\n",
       "      <td>3354</td>\n",
       "      <td>25</td>\n",
       "      <td>846051</td>\n",
       "    </tr>\n",
       "    <tr>\n",
       "      <th>5</th>\n",
       "      <td>2020-11-08</td>\n",
       "      <td>B</td>\n",
       "      <td>3291</td>\n",
       "      <td>24</td>\n",
       "      <td>3044842</td>\n",
       "    </tr>\n",
       "  </tbody>\n",
       "</table>\n",
       "</div>"
      ],
      "text/plain": [
       "        date group  users_count  transactions  revenue\n",
       "4 2020-11-08     A         3354            25   846051\n",
       "5 2020-11-08     B         3291            24  3044842"
      ]
     },
     "execution_count": 18,
     "metadata": {},
     "output_type": "execute_result"
    }
   ],
   "source": [
    "#сгруппируем данные по заданию\n",
    "daily_df = df.groupby(['date','group']).agg({\n",
    "    'cid':'nunique',\n",
    "    'transactions':'sum',\n",
    "    'revenue':'sum'\n",
    "}).reset_index().rename(columns={'cid': 'users_count'})\n",
    "\n",
    "daily_df[daily_df['date'] == '2020-11-08']"
   ]
  },
  {
   "cell_type": "code",
   "execution_count": 19,
   "metadata": {},
   "outputs": [
    {
     "data": {
      "text/plain": [
       "group\n",
       "A    0.712755\n",
       "B    0.762178\n",
       "Name: cum_convertion, dtype: float64"
      ]
     },
     "execution_count": 19,
     "metadata": {},
     "output_type": "execute_result"
    }
   ],
   "source": [
    "#Задание 4.7\n",
    "#Добавьте в каждую из таблиц кумулятивные метрики:\n",
    "\n",
    "#кумулятивное количество посетителей сайта;\n",
    "#кумулятивное суммарное число транзакций;\n",
    "#кумулятивная общая сумма покупок (кумулятивная выручка).\n",
    "#Рассчитайте кумулятивную конверсию действия покупки (в процентах) и кумулятивный средний чек \n",
    "#(кумулятивная выручка/кумулятивное суммарное число транзакций).\n",
    "\n",
    "# вычисляем кумулятивную сумму количества посетителей\n",
    "daily_df['cum_users_count'] = daily_df.groupby(['group'])['users_count'].cumsum()\n",
    "# вычисляем кумулятивную сумму количества числа транзакций\n",
    "daily_df['cum_transactions'] = daily_df.groupby(['group'])['transactions'].cumsum()\n",
    "# вычисляем кумулятивную сумму покупок\n",
    "daily_df['cum_revenue'] = daily_df.groupby(['group'])['revenue'].cumsum()\n",
    "# Рассчитайте кумулятивную конверсию действия покупки (в процентах) \n",
    "daily_df['cum_convertion'] = daily_df['cum_transactions']/daily_df['cum_users_count']*100\n",
    "# Рассчитайте кумулятивный средний чек\n",
    "daily_df['cum_mean_revenue'] = daily_df['cum_revenue']/daily_df['cum_users_count']\n",
    "\n",
    "#Чему равна средняя кумулятивная конверсия в группах за весь период проведения A/B-теста?\n",
    "# Ответ округлите до сотых, знаки процентов не вводите.\n",
    "daily_df.groupby(['group'])['cum_convertion'].mean()"
   ]
  },
  {
   "cell_type": "code",
   "execution_count": 20,
   "metadata": {},
   "outputs": [
    {
     "data": {
      "image/png": "[encoded data removed]",
      "text/plain": [
       "<Figure size 576x288 with 1 Axes>"
      ]
     },
     "metadata": {
      "needs_background": "light"
     },
     "output_type": "display_data"
    }
   ],
   "source": [
    "#Задание 4.8\n",
    "#Постройте графики кумулятивной конверсии в каждой группе. Какие выводы по ним вы можете сделать?\n",
    "# создаём фигуру размером 8x4\n",
    "fig = plt.figure(figsize=(8, 4))\n",
    "# добавляем систему координат\n",
    "ax = fig.add_axes([1, 1, 1, 1])\n",
    "# строим lineplot для кумулятивной конверсии во времени в каждой группе\n",
    "sns.lineplot(x='date', y='cum_convertion', data=daily_df, hue='group', ax=ax)\n",
    "# задаём подпись к графику\n",
    "ax.set_title('График кумулятивной конверсии по дням')\n",
    "# задаём поворот меток на оси абсцисс\n",
    "ax.xaxis.set_tick_params(rotation = 45)\n",
    "# задаём отображение сетки\n",
    "ax.grid(True);"
   ]
  },
  {
   "cell_type": "code",
   "execution_count": 21,
   "metadata": {},
   "outputs": [
    {
     "data": {
      "image/png": "[encoded data removed]",
      "text/plain": [
       "<Figure size 576x288 with 1 Axes>"
      ]
     },
     "metadata": {
      "needs_background": "light"
     },
     "output_type": "display_data"
    }
   ],
   "source": [
    "#Задание 4.9\n",
    "#Постройте графики кумулятивного среднего чека в каждой группе. Какие выводы по ним вы можете сделать?\n",
    "# создаём фигуру размером 8x4\n",
    "fig = plt.figure(figsize=(8, 4))\n",
    "# добавляем систему координат\n",
    "ax = fig.add_axes([1, 1, 1, 1])\n",
    "# строим lineplot для кумулятивной конверсии во времени в каждой группе\n",
    "sns.lineplot(x='date', y='cum_mean_revenue', data=daily_df, hue='group', ax=ax)\n",
    "# задаём подпись к графику\n",
    "ax.set_title('График кумулятивного среднего чека по дням')\n",
    "# задаём поворот меток на оси абсцисс\n",
    "ax.xaxis.set_tick_params(rotation = 45)\n",
    "# задаём отображение сетки\n",
    "ax.grid(True);"
   ]
  },
  {
   "attachments": {},
   "cell_type": "markdown",
   "metadata": {},
   "source": [
    "### Анализ результатов A/B-тестирования: статистические тесты\n",
    "#### СТАТИСТИЧЕСКИЙ ТЕСТ ДЛЯ КОНВЕРСИИ"
   ]
  },
  {
   "cell_type": "code",
   "execution_count": 22,
   "metadata": {},
   "outputs": [],
   "source": [
    "# Применим z-тест для пропорций на примере конверсии нашего интернет-магазина. \n",
    "from statsmodels.stats.proportion import proportions_ztest"
   ]
  },
  {
   "attachments": {},
   "cell_type": "markdown",
   "metadata": {},
   "source": [
    "Напомним, что для получения z-статистики и p-value нам необходимо передать в функцию следующие аргументы:\n",
    "\n",
    "* count — количество «успехов» (в каждой из групп). В нашем случае — количество пользователей, которые совершили целевое действие в каждой группе.\n",
    "* nobs — количество наблюдений (в каждой из групп), то есть размер выборки.\n",
    "* alternative — альтернативная гипотеза. Может быть: 'two-sided' — двусторонняя, 'smaller' — левосторонняя, 'larger' — правосторонняя. По умолчанию параметр равен 'two-sided'. "
   ]
  },
  {
   "cell_type": "code",
   "execution_count": 23,
   "metadata": {},
   "outputs": [
    {
     "data": {
      "text/html": [
       "<div>\n",
       "<style scoped>\n",
       "    .dataframe tbody tr th:only-of-type {\n",
       "        vertical-align: middle;\n",
       "    }\n",
       "\n",
       "    .dataframe tbody tr th {\n",
       "        vertical-align: top;\n",
       "    }\n",
       "\n",
       "    .dataframe thead th {\n",
       "        text-align: right;\n",
       "    }\n",
       "</style>\n",
       "<table border=\"1\" class=\"dataframe\">\n",
       "  <thead>\n",
       "    <tr style=\"text-align: right;\">\n",
       "      <th></th>\n",
       "      <th>sum</th>\n",
       "      <th>count</th>\n",
       "    </tr>\n",
       "    <tr>\n",
       "      <th>group</th>\n",
       "      <th></th>\n",
       "      <th></th>\n",
       "    </tr>\n",
       "  </thead>\n",
       "  <tbody>\n",
       "    <tr>\n",
       "      <th>A</th>\n",
       "      <td>17467</td>\n",
       "      <td>145241</td>\n",
       "    </tr>\n",
       "    <tr>\n",
       "      <th>B</th>\n",
       "      <td>17238</td>\n",
       "      <td>145241</td>\n",
       "    </tr>\n",
       "  </tbody>\n",
       "</table>\n",
       "</div>"
      ],
      "text/plain": [
       "         sum   count\n",
       "group               \n",
       "A      17467  145241\n",
       "B      17238  145241"
      ]
     },
     "metadata": {},
     "output_type": "display_data"
    }
   ],
   "source": [
    "converted_piv= ab_data.groupby('group')['converted'].agg(\n",
    "    ['sum', 'count']\n",
    ")\n",
    "display(converted_piv)"
   ]
  },
  {
   "cell_type": "code",
   "execution_count": 24,
   "metadata": {},
   "outputs": [
    {
     "name": "stdout",
     "output_type": "stream",
     "text": [
      "p-value:  0.1\n",
      "Принимаем нулевую гипотезу. Конверсии в группах А и B равны\n"
     ]
    }
   ],
   "source": [
    "# нулевая и альтернативная гипотезы\n",
    "H0 = 'Конверсии в группах А и B равны'\n",
    "H1 = 'Конверсия в группе А выше, чем конверсия в группе B'\n",
    "alpha = 0.05 # уровень значимости\n",
    "# вычисляем значение p-value для z-теста для пропорций\n",
    "_, p_value = proportions_ztest(\n",
    "    count=converted_piv['sum'], #число \"успехов\"\n",
    "    nobs=converted_piv['count'], #общее число наблюдений\n",
    "    alternative='larger',\n",
    ")\n",
    "# выводим результат на экран\n",
    "print('p-value: ', round(p_value, 2))\n",
    "# сравниваем полученное p-value с уровнем значимости\n",
    "if (p_value < alpha): \n",
    "    print(\"Отвергаем нулевую гипотезу. {}\".format(H0))\n",
    "    print(\"Альтернативная гипотеза. H1: {}\".format(H1))\n",
    "else:\n",
    "    print(\"Принимаем нулевую гипотезу. {}\".format(H0))\n",
    " \n",
    "# p-value:  0.1\n",
    "# Принимаем нулевую гипотезу. Конверсии в группах А и B равны"
   ]
  },
  {
   "attachments": {},
   "cell_type": "markdown",
   "metadata": {},
   "source": [
    "#### СТАТИСТИЧЕСКИЕ ТЕСТЫ ДЛЯ ДРУГИХ МЕТРИК"
   ]
  },
  {
   "attachments": {},
   "cell_type": "markdown",
   "metadata": {},
   "source": [
    "Мы проводим A/B-тест, чтобы оценить, влияет ли тема оформления на привлекательность сайта для пользователя. Гипотеза заключается в том, что тёмная тема более привлекательная для наших посетителей, поэтому их сильнее заинтересует наш сайт, следовательно, они проведут на нём больше времени. Уровень значимости равен 5 %."
   ]
  },
  {
   "cell_type": "code",
   "execution_count": 25,
   "metadata": {},
   "outputs": [
    {
     "data": {
      "text/html": [
       "<div>\n",
       "<style scoped>\n",
       "    .dataframe tbody tr th:only-of-type {\n",
       "        vertical-align: middle;\n",
       "    }\n",
       "\n",
       "    .dataframe tbody tr th {\n",
       "        vertical-align: top;\n",
       "    }\n",
       "\n",
       "    .dataframe thead th {\n",
       "        text-align: right;\n",
       "    }\n",
       "</style>\n",
       "<table border=\"1\" class=\"dataframe\">\n",
       "  <thead>\n",
       "    <tr style=\"text-align: right;\">\n",
       "      <th></th>\n",
       "      <th>time(A)</th>\n",
       "      <th>time(B)</th>\n",
       "    </tr>\n",
       "  </thead>\n",
       "  <tbody>\n",
       "    <tr>\n",
       "      <th>0</th>\n",
       "      <td>435.0</td>\n",
       "      <td>549.2</td>\n",
       "    </tr>\n",
       "    <tr>\n",
       "      <th>1</th>\n",
       "      <td>454.5</td>\n",
       "      <td>630.2</td>\n",
       "    </tr>\n",
       "    <tr>\n",
       "      <th>2</th>\n",
       "      <td>447.0</td>\n",
       "      <td>437.2</td>\n",
       "    </tr>\n",
       "    <tr>\n",
       "      <th>3</th>\n",
       "      <td>480.0</td>\n",
       "      <td>637.2</td>\n",
       "    </tr>\n",
       "    <tr>\n",
       "      <th>4</th>\n",
       "      <td>561.0</td>\n",
       "      <td>712.4</td>\n",
       "    </tr>\n",
       "  </tbody>\n",
       "</table>\n",
       "</div>"
      ],
      "text/plain": [
       "   time(A)  time(B)\n",
       "0    435.0    549.2\n",
       "1    454.5    630.2\n",
       "2    447.0    437.2\n",
       "3    480.0    637.2\n",
       "4    561.0    712.4"
      ]
     },
     "metadata": {},
     "output_type": "display_data"
    }
   ],
   "source": [
    "time_data = pd.read_excel('time_data.xlsx')\n",
    "display(time_data.head())"
   ]
  },
  {
   "cell_type": "code",
   "execution_count": 26,
   "metadata": {},
   "outputs": [
    {
     "data": {
      "image/png": "[encoded data removed]",
      "text/plain": [
       "<Figure size 864x288 with 2 Axes>"
      ]
     },
     "metadata": {
      "needs_background": "light"
     },
     "output_type": "display_data"
    }
   ],
   "source": [
    "# Построим гистограмму времени, проведённом пользователями на сайте в каждой из групп:\n",
    "#создаём 2 графика размером 12x4\n",
    "fig, axes = plt.subplots(1, 2, figsize=(12, 4))\n",
    "#строим гистограмму для времени на сайте в каждой группе\n",
    "sns.histplot(x='time(A)', data=time_data, ax=axes[0])\n",
    "sns.histplot(x='time(B)', data=time_data, ax=axes[1])\n",
    "#задаём названия графикам\n",
    "axes[0].set_title('Распределение времени на сайте в группе А');\n",
    "axes[1].set_title('Распределение времени на сайте в группе B');"
   ]
  },
  {
   "attachments": {},
   "cell_type": "markdown",
   "metadata": {},
   "source": [
    "Гистограммы напоминают нормальное распределение. Давайте проверим гипотезу о нормальности обоих распределений с помощью критерия Шапиро-Уилка. Для этого используем функцию shapiro() из модуля scipy.stats:"
   ]
  },
  {
   "cell_type": "code",
   "execution_count": 27,
   "metadata": {},
   "outputs": [
    {
     "name": "stdout",
     "output_type": "stream",
     "text": [
      "p-value группы А 0.43\n",
      "p-value группы B 0.12\n",
      "Принимаем нулевую гипотезу. Распределения в обеих группах нормальные\n"
     ]
    }
   ],
   "source": [
    "from scipy.stats import shapiro\n",
    "# нулевая и альтернативная гипотезы\n",
    "H0 = 'Распределения в обеих группах нормальные'\n",
    "H1 = 'Распределение в одной или обеих группах отлично от нормального'\n",
    "alpha = 0.05 # уровень значимости\n",
    "# вычисляем результат теста Шапиро-Уилка для выборок\n",
    "shapiro_result_a = shapiro(time_data['time(A)'])\n",
    "shapiro_result_b = shapiro(time_data['time(B)'])\n",
    "print('p-value группы А', round(shapiro_result_a.pvalue, 2))\n",
    "print('p-value группы B', round(shapiro_result_b.pvalue, 2))\n",
    "# сравниваем полученное p-value с уровнем значимости\n",
    "if shapiro_result_a.pvalue < alpha or shapiro_result_b.pvalue < alpha:\n",
    "    print(\"Отвергаем нулевую гипотезу. {}\".format(H0))\n",
    "    print(\"Альтернативная гипотеза. H1: {}\".format(H1))\n",
    "else:\n",
    "    print(\"Принимаем нулевую гипотезу. {}\".format(H0))\n",
    " \n",
    "# p-value группы А 0.43\n",
    "# p-value группы B 0.12\n",
    "# Принимаем нулевую гипотезу. Распределения в обеих группах нормальные"
   ]
  },
  {
   "attachments": {},
   "cell_type": "markdown",
   "metadata": {},
   "source": [
    "Итак, распределение в обеих группах нормальное, а значит, мы можем воспользоваться T-тестом для того, чтобы сравнить среднее время посещения сайта в группах."
   ]
  },
  {
   "cell_type": "code",
   "execution_count": 28,
   "metadata": {},
   "outputs": [
    {
     "name": "stdout",
     "output_type": "stream",
     "text": [
      "p-value: 0.0\n",
      "Отвергаем нулевую гипотезу. Среднее время в группах одинаково\n",
      "Альтернативная гипотеза. H1: Среднее время в группе А меньше, чем в группе B\n"
     ]
    }
   ],
   "source": [
    "from scipy.stats import ttest_ind\n",
    "# нулевая и альтернативная гипотезы\n",
    "H0 = 'Среднее время в группах одинаково'\n",
    "H1 = 'Среднее время в группе А меньше, чем в группе B'\n",
    "alpha = 0.05 #уровень значимости\n",
    "#вычисляем результат T-теста для выборок\n",
    "results = ttest_ind(\n",
    "    a=time_data['time(A)'],\n",
    "    b=time_data['time(B)'], \n",
    "    alternative='less'\n",
    ")\n",
    "print('p-value:', round(results.pvalue, 2))\n",
    " \n",
    "if results.pvalue < alpha:\n",
    "    print(\"Отвергаем нулевую гипотезу. {}\".format(H0))\n",
    "    print(\"Альтернативная гипотеза. H1: {}\".format(H1))\n",
    "else:\n",
    "    print(\"Принимаем нулевую гипотезу. {}\".format(H0))\n",
    " \n",
    "# p-value: 0.0\n",
    "# Отвергаем нулевую гипотезу. Среднее время в группах одинаково\n",
    "# Альтернативная гипотеза. H1: Среднее время в группе А меньше, чем в группе B"
   ]
  },
  {
   "attachments": {},
   "cell_type": "markdown",
   "metadata": {},
   "source": [
    "### Задания по проверке стат гипотез"
   ]
  },
  {
   "attachments": {},
   "cell_type": "markdown",
   "metadata": {},
   "source": [
    "Для решения следующих заданий используйте наборы данных sample_a и sample_b из прошлого юнита."
   ]
  },
  {
   "cell_type": "code",
   "execution_count": 29,
   "metadata": {},
   "outputs": [
    {
     "data": {
      "text/html": [
       "<div>\n",
       "<style scoped>\n",
       "    .dataframe tbody tr th:only-of-type {\n",
       "        vertical-align: middle;\n",
       "    }\n",
       "\n",
       "    .dataframe tbody tr th {\n",
       "        vertical-align: top;\n",
       "    }\n",
       "\n",
       "    .dataframe thead th {\n",
       "        text-align: right;\n",
       "    }\n",
       "</style>\n",
       "<table border=\"1\" class=\"dataframe\">\n",
       "  <thead>\n",
       "    <tr style=\"text-align: right;\">\n",
       "      <th></th>\n",
       "      <th>group</th>\n",
       "      <th>users_count</th>\n",
       "      <th>transactions</th>\n",
       "      <th>revenue</th>\n",
       "    </tr>\n",
       "  </thead>\n",
       "  <tbody>\n",
       "    <tr>\n",
       "      <th>0</th>\n",
       "      <td>A</td>\n",
       "      <td>46434</td>\n",
       "      <td>441</td>\n",
       "      <td>25909066</td>\n",
       "    </tr>\n",
       "    <tr>\n",
       "      <th>1</th>\n",
       "      <td>B</td>\n",
       "      <td>46126</td>\n",
       "      <td>463</td>\n",
       "      <td>32454342</td>\n",
       "    </tr>\n",
       "  </tbody>\n",
       "</table>\n",
       "</div>"
      ],
      "text/plain": [
       "  group  users_count  transactions   revenue\n",
       "0     A        46434           441  25909066\n",
       "1     B        46126           463  32454342"
      ]
     },
     "execution_count": 29,
     "metadata": {},
     "output_type": "execute_result"
    }
   ],
   "source": [
    "#Задание 5.2\n",
    "#Проверьте гипотезу о равенстве конверсий в группах А и B при альтернативной гипотезе: \n",
    "# Конверсия в группе А меньше, чем конверсия в группе B. Используйте функцию proportions_ztest() \n",
    "# из модуля statsmodels.stats.proportion. В качестве уровня значимости возьмите 10%.\n",
    "\n",
    "#Каковы результаты тестирования?\n",
    "\n",
    "# Сгруппируем заново таблицу по группам, чтобы получить суммарное число сделок и суммарное число посетителей\n",
    "df_piv = df.groupby('group').agg({\n",
    "    'cid':'nunique',\n",
    "    'transactions':'sum',\n",
    "    'revenue':'sum'\n",
    "}).reset_index().rename(columns={'cid': 'users_count'})\n",
    "\n",
    "df_piv"
   ]
  },
  {
   "cell_type": "code",
   "execution_count": 30,
   "metadata": {},
   "outputs": [
    {
     "name": "stdout",
     "output_type": "stream",
     "text": [
      "p-value:  0.2\n",
      "Принимаем нулевую гипотезу. Конверсии в группах А и B равны\n"
     ]
    }
   ],
   "source": [
    "#проведем z-тест\n",
    "# нулевая и альтернативная гипотезы\n",
    "H0 = 'Конверсии в группах А и B равны'\n",
    "H1 = 'Конверсия в группе А ниже, чем конверсия в группе B'\n",
    "alpha = 0.1 # уровень значимости\n",
    "# вычисляем значение p-value для z-теста для пропорций\n",
    "_, p_value = proportions_ztest(\n",
    "    count=df_piv['transactions'], #число \"успехов\"\n",
    "    nobs=df_piv['users_count'], #общее число наблюдений\n",
    "    alternative='smaller',\n",
    ")\n",
    "# выводим результат на экран\n",
    "print('p-value: ', round(p_value, 2))\n",
    "# сравниваем полученное p-value с уровнем значимости\n",
    "if (p_value < alpha): \n",
    "    print(\"Отвергаем нулевую гипотезу. {}\".format(H0))\n",
    "    print(\"Альтернативная гипотеза. H1: {}\".format(H1))\n",
    "else:\n",
    "    print(\"Принимаем нулевую гипотезу. {}\".format(H0))\n",
    " \n",
    "# p-value:  0.1\n",
    "# Принимаем нулевую гипотезу. Конверсии в группах А и B равны"
   ]
  },
  {
   "cell_type": "code",
   "execution_count": 31,
   "metadata": {},
   "outputs": [
    {
     "data": {
      "text/html": [
       "<div>\n",
       "<style scoped>\n",
       "    .dataframe tbody tr th:only-of-type {\n",
       "        vertical-align: middle;\n",
       "    }\n",
       "\n",
       "    .dataframe tbody tr th {\n",
       "        vertical-align: top;\n",
       "    }\n",
       "\n",
       "    .dataframe thead th {\n",
       "        text-align: right;\n",
       "    }\n",
       "</style>\n",
       "<table border=\"1\" class=\"dataframe\">\n",
       "  <thead>\n",
       "    <tr style=\"text-align: right;\">\n",
       "      <th></th>\n",
       "      <th>date</th>\n",
       "      <th>group</th>\n",
       "      <th>users_count</th>\n",
       "      <th>transactions</th>\n",
       "      <th>revenue</th>\n",
       "      <th>mean_revenue</th>\n",
       "    </tr>\n",
       "  </thead>\n",
       "  <tbody>\n",
       "    <tr>\n",
       "      <th>0</th>\n",
       "      <td>2020-11-06</td>\n",
       "      <td>A</td>\n",
       "      <td>2576</td>\n",
       "      <td>16</td>\n",
       "      <td>1577279</td>\n",
       "      <td>98579.937500</td>\n",
       "    </tr>\n",
       "    <tr>\n",
       "      <th>1</th>\n",
       "      <td>2020-11-06</td>\n",
       "      <td>B</td>\n",
       "      <td>2499</td>\n",
       "      <td>19</td>\n",
       "      <td>996645</td>\n",
       "      <td>52455.000000</td>\n",
       "    </tr>\n",
       "    <tr>\n",
       "      <th>2</th>\n",
       "      <td>2020-11-07</td>\n",
       "      <td>A</td>\n",
       "      <td>2704</td>\n",
       "      <td>23</td>\n",
       "      <td>1721886</td>\n",
       "      <td>74864.608696</td>\n",
       "    </tr>\n",
       "    <tr>\n",
       "      <th>3</th>\n",
       "      <td>2020-11-07</td>\n",
       "      <td>B</td>\n",
       "      <td>2804</td>\n",
       "      <td>19</td>\n",
       "      <td>555499</td>\n",
       "      <td>29236.789474</td>\n",
       "    </tr>\n",
       "    <tr>\n",
       "      <th>4</th>\n",
       "      <td>2020-11-08</td>\n",
       "      <td>A</td>\n",
       "      <td>3354</td>\n",
       "      <td>25</td>\n",
       "      <td>846051</td>\n",
       "      <td>33842.040000</td>\n",
       "    </tr>\n",
       "  </tbody>\n",
       "</table>\n",
       "</div>"
      ],
      "text/plain": [
       "        date group  users_count  transactions  revenue  mean_revenue\n",
       "0 2020-11-06     A         2576            16  1577279  98579.937500\n",
       "1 2020-11-06     B         2499            19   996645  52455.000000\n",
       "2 2020-11-07     A         2704            23  1721886  74864.608696\n",
       "3 2020-11-07     B         2804            19   555499  29236.789474\n",
       "4 2020-11-08     A         3354            25   846051  33842.040000"
      ]
     },
     "execution_count": 31,
     "metadata": {},
     "output_type": "execute_result"
    }
   ],
   "source": [
    "#Задание 5.3\n",
    "#Проверьте гипотезу о нормальности распределений ежедневного среднего чека с помощью критерия Шапиро-Уилка. \n",
    "# В качестве уровня значимости возьмите .\n",
    "\n",
    "#Каковы результаты тестирования?\n",
    "\n",
    "# Сгруппируем заново таблицу по группам, чтобы получить суммарное число сделок и суммарное число посетителей\n",
    "df_piv = df.groupby(['date','group']).agg({\n",
    "    'cid':'nunique',\n",
    "    'transactions':'sum',\n",
    "    'revenue':'sum'\n",
    "}).reset_index().rename(columns={'cid': 'users_count'})\n",
    "df_piv['mean_revenue'] = df_piv['revenue'] / df_piv['transactions']\n",
    "df_piv.head()\n",
    "\n"
   ]
  },
  {
   "cell_type": "code",
   "execution_count": 32,
   "metadata": {},
   "outputs": [
    {
     "name": "stdout",
     "output_type": "stream",
     "text": [
      "p-value группы А 0.01\n",
      "p-value группы B 0.02\n",
      "Отвергаем нулевую гипотезу. Распределения в обеих группах нормальные\n",
      "Альтернативная гипотеза. H1: Распределение в одной или обеих группах отлично от нормального\n"
     ]
    }
   ],
   "source": [
    "\n",
    "#проведем проверку на нормальность тестом Шапиро-Уилка\n",
    "H0 = 'Распределения в обеих группах нормальные'\n",
    "H1 = 'Распределение в одной или обеих группах отлично от нормального'\n",
    "alpha = 0.1 # уровень значимости\n",
    "# вычисляем результат теста Шапиро-Уилка для выборок\n",
    "shapiro_result_a = shapiro(df_piv[df_piv['group'] == 'A']['mean_revenue'])\n",
    "shapiro_result_b = shapiro(df_piv[df_piv['group'] == 'B']['mean_revenue'])\n",
    "print('p-value группы А', round(shapiro_result_a.pvalue, 2))\n",
    "print('p-value группы B', round(shapiro_result_b.pvalue, 2))\n",
    "# сравниваем полученное p-value с уровнем значимости\n",
    "if shapiro_result_a.pvalue < alpha or shapiro_result_b.pvalue < alpha:\n",
    "    print(\"Отвергаем нулевую гипотезу. {}\".format(H0))\n",
    "    print(\"Альтернативная гипотеза. H1: {}\".format(H1))\n",
    "else:\n",
    "    print(\"Принимаем нулевую гипотезу. {}\".format(H0))"
   ]
  },
  {
   "cell_type": "code",
   "execution_count": 33,
   "metadata": {},
   "outputs": [
    {
     "name": "stdout",
     "output_type": "stream",
     "text": [
      "p-value: 0.09\n",
      "Отвергаем нулевую гипотезу. Средней чек одинаков\n",
      "Альтернативная гипотеза. H1: Средней чек разный\n"
     ]
    }
   ],
   "source": [
    "#Задание 5.4\n",
    "\n",
    "#Проверьте гипотезу о равенстве ежедневных средних чеков с помощью критерия Манна-Уитни при альтернативной гипотезе: \n",
    "# Ежедневный средний чек в группе А меньше, чем в группе B. Используйте функцию mannwhitneyu() из модуля scipy.stats.\n",
    "# В качестве уровня значимости возьмите 10%.\n",
    "\n",
    "#Каковы результаты тестирования?\n",
    "\n",
    "from scipy.stats import mannwhitneyu\n",
    "# нулевая и альтернативная гипотезы\n",
    "H0 = 'Средней чек одинаков'\n",
    "H1 = 'Средней чек разный'\n",
    "alpha = 0.1 #уровень значимости\n",
    "#вычисляем результат T-теста для выборок\n",
    "results = mannwhitneyu(\n",
    "    x=df_piv[df_piv['group'] == 'A']['mean_revenue'],\n",
    "    y=df_piv[df_piv['group'] == 'B']['mean_revenue'],\n",
    "    alternative = 'less'\n",
    ")\n",
    "print('p-value:', round(results.pvalue, 2))\n",
    " \n",
    "if results.pvalue < alpha:\n",
    "    print(\"Отвергаем нулевую гипотезу. {}\".format(H0))\n",
    "    print(\"Альтернативная гипотеза. H1: {}\".format(H1))\n",
    "else:\n",
    "    print(\"Принимаем нулевую гипотезу. {}\".format(H0))"
   ]
  },
  {
   "attachments": {},
   "cell_type": "markdown",
   "metadata": {},
   "source": [
    "### Анализ результатов A/B-тестирования: доверительные интервалы\n",
    "\n",
    "Доверительный интервал — интервал, который с заданной надёжностью покрывает значение неизвестного параметра. \n",
    "\n",
    "Например, если вам говорят, что построен 90 %-ый доверительный интервал для среднего роста и имеет вид: (170, 179), то это означает, что с надёжностью в 90 % истинный средний рост (его математическое ожидание) лежит в пределах от 170 см до 179 см. То есть с вероятностью в 90 % ожидается (в среднем), что любой человек из рассматриваемой генеральной совокупности имеет рост от 170 до 179 см."
   ]
  },
  {
   "attachments": {},
   "cell_type": "markdown",
   "metadata": {},
   "source": [
    "#### ДОВЕРИТЕЛЬНЫЙ ИНТЕРВАЛ ДЛЯ СРЕДНЕГО ПРИ ИЗВЕСТНОМ ИСТИННОМ СТАНДАРТНОМ ОТКЛОНЕНИИ"
   ]
  },
  {
   "attachments": {},
   "cell_type": "markdown",
   "metadata": {},
   "source": [
    "Была опрошена случайная выборка из 36 жителей региона об их затратах на продукты питания за последний месяц. Выборочное среднее оказалось равным 16 100 рублей.\n",
    "Допустим, откуда-то известно, что истинное стандартное отклонение расходов равно 12 000 рублей.\n",
    "Нам нужно построить доверительный интервал для истинных средних расходов жителя данного региона на продукты питания в месяц. Интервал должен определять истинное значение с надежностью в 95 %."
   ]
  },
  {
   "attachments": {},
   "cell_type": "markdown",
   "metadata": {},
   "source": [
    "$\\mu$ = Среднее по выборке +/- z-критическое * ($\\sigma / sqrt(n)$)\n",
    "\n",
    "где сигма - это известное стандартное отклонение"
   ]
  },
  {
   "cell_type": "code",
   "execution_count": 34,
   "metadata": {},
   "outputs": [],
   "source": [
    "n = 36 # размер выборки\n",
    "x_mean = 16100 # выборочное среднее\n",
    "sigma = 12000 # истинное стандартное отклонение\n",
    "gamma = 0.95 # уровень надёжности\n",
    "alpha = 1 - gamma # уровень значимости"
   ]
  },
  {
   "attachments": {},
   "cell_type": "markdown",
   "metadata": {},
   "source": [
    "Найти значение z-критического для любого уровня значимости можно при помощи функции norm.ppf() из модуля scipy.stats. По специфическим причинам реализации функция возвращает не совсем z-критическое, а его отрицательный модуль, поэтому мы берём его со знаком минус."
   ]
  },
  {
   "cell_type": "code",
   "execution_count": 35,
   "metadata": {},
   "outputs": [],
   "source": [
    "from scipy.stats import norm\n",
    "z_crit = -norm.ppf(alpha/2) # z критическое"
   ]
  },
  {
   "cell_type": "code",
   "execution_count": 36,
   "metadata": {},
   "outputs": [
    {
     "name": "stdout",
     "output_type": "stream",
     "text": [
      "Доверительный интервал: (12180, 20020)\n"
     ]
    }
   ],
   "source": [
    "eps = z_crit * sigma/(n ** 0.5) #погрешность\n",
    "lower_bound = x_mean - eps # левая (нижняя) граница\n",
    "upper_bound = x_mean + eps # правая (верхняя) граница\n",
    "confidence_interval = (round(lower_bound), round(upper_bound)) # создаём кортеж из округлённых границ интервала\n",
    "print('Доверительный интервал: {}'.format(confidence_interval)) # выводим результат"
   ]
  },
  {
   "cell_type": "code",
   "execution_count": 37,
   "metadata": {},
   "outputs": [
    {
     "name": "stdout",
     "output_type": "stream",
     "text": [
      "z-крит: 1.6448536269514729 Доверительный интервал: 11.86, 12.84\n"
     ]
    }
   ],
   "source": [
    "#Задание 6.5\n",
    "#Аккумуляторный завод производит батарейки, срок службы которых имеет истинное стандартное отклонение в 2.4 месяца.\n",
    "# Средний срок службы батареек в случайной выборке из 64 штук составил 12.35 месяца. \n",
    "# Необходимо построить 90 %-ный доверительный интервал для истинного среднего срока службы \n",
    "# производимой батарейки и ответить на вопросы заданий ниже.\n",
    "\n",
    "#Чему равно значение z-критического для такого интервала? Введите число с двумя знаками после разделительного знака.\n",
    "\n",
    "#Теперь постройте 90 %-ный доверительный интервал. Используйте критическое значение, округлённое до двух знаков. \n",
    "# Ответ введите в виде нижней и верхней границы интервала, округляя результат до двух знаков после разделительной точки.\n",
    "\n",
    "n = 64 # размер выборки\n",
    "x_mean = 12.35 # выборочное среднее\n",
    "sigma = 2.4 # истинное стандартное отклонение\n",
    "gamma = 0.90 # уровень надёжности\n",
    "alpha = 1 - gamma # уровень значимости\n",
    "z_crit = -norm.ppf(alpha/2) # z критическое\n",
    "eps = z_crit * sigma/(n ** 0.5) #погрешность\n",
    "lower_bound = x_mean - eps # левая (нижняя) граница\n",
    "upper_bound = x_mean + eps # правая (верхняя) граница\n",
    "confidence_interval = (round(lower_bound), round(upper_bound)) # создаём кортеж из округлённых границ интервала\n",
    "print(f'z-крит: {z_crit} Доверительный интервал: {round(lower_bound,2)}, {round(upper_bound,2)}') # выводим результат\n",
    "\n"
   ]
  },
  {
   "attachments": {},
   "cell_type": "markdown",
   "metadata": {},
   "source": [
    "### ДОВЕРИТЕЛЬНЫЙ ИНТЕРВАЛ ДЛЯ СРЕДНЕГО ПРИ НЕИЗВЕСТНОМ СТАНДАРТНОМ ОТКЛОНЕНИИ"
   ]
  },
  {
   "attachments": {},
   "cell_type": "markdown",
   "metadata": {},
   "source": [
    "Вместо z-крит которое определяется через стандартное нормальное распределение, у нас будет t-критическое, которое определяется через распределение Стюарта с n-1 степенью свободы. Его плолность - такая же шапочка, но чем больше выорка (чем больше степеней свободы), тем оно ближе к нормальному"
   ]
  },
  {
   "attachments": {},
   "cell_type": "markdown",
   "metadata": {},
   "source": [
    "Задача:\n",
    "Управляющий супермаркета хочет оценить, сколько денег покупатели тратят за один поход в супермаркет в среднем. На основании ранее собранных данных известно, что расходы одного покупателя распределены приблизительно нормально. Управляющий взял случайную выборку из 15 покупателей и выяснил, что их средние расходы равны 2 000 рублей, а выборочное стандартное отклонение равно 400 рублей.\n",
    "Для оценки управляющий хочет построить доверительный интервал с надёжностью в 95 %."
   ]
  },
  {
   "cell_type": "code",
   "execution_count": 38,
   "metadata": {},
   "outputs": [],
   "source": [
    "n = 15 # размер выборки\n",
    "k = n - 1 # число степеней свободы\n",
    "x_mean = 2000 # выборочное среднее\n",
    "x_std = 400 # выборочное стандартное отклонение\n",
    "gamma = 0.95 # уровень надёжности\n",
    "alpha = 1 - gamma # уровень значимости"
   ]
  },
  {
   "attachments": {},
   "cell_type": "markdown",
   "metadata": {},
   "source": [
    "Найти значение t-критического для любого уровня значимости можно, используя функцию t.ppf() из модуля scipy.stats."
   ]
  },
  {
   "cell_type": "code",
   "execution_count": 39,
   "metadata": {},
   "outputs": [
    {
     "name": "stdout",
     "output_type": "stream",
     "text": [
      "Доверительный интервал: (1778, 2222)\n"
     ]
    }
   ],
   "source": [
    "from scipy.stats import t\n",
    "t_crit = -t.ppf(alpha/2, k) # t-критическое\n",
    "\n",
    "eps = t_crit * x_std/(n ** 0.5) # погрешность\n",
    "lower_bound = x_mean - eps # левая (нижняя) граница\n",
    "upper_bound = x_mean + eps # правая (верхняя) граница\n",
    "confidence_interval = (round(lower_bound), round(upper_bound)) # создаём кортеж из округлённых границ интервала\n",
    "print('Доверительный интервал: {}'.format(confidence_interval)) # выводим результат"
   ]
  },
  {
   "attachments": {},
   "cell_type": "markdown",
   "metadata": {},
   "source": [
    "Примечание. Важно отметить, что при достаточной выборке (примерно более 30 наблюдений) распределение Стьюдента очень похоже на стандартное нормальное распределение. В этом случае можно использовать первую формулу (z-критическое) даже при неизвестном стандартном отклонении. Однако используя вторую формулу при оценке среднего, вы не ошибётесь."
   ]
  },
  {
   "cell_type": "code",
   "execution_count": 40,
   "metadata": {},
   "outputs": [
    {
     "name": "stdout",
     "output_type": "stream",
     "text": [
      "t-crit = 1.7108820799094284\n",
      "Доверительный интервал: (3146, 3934)\n"
     ]
    }
   ],
   "source": [
    "#Задание 6.6\n",
    "#Чиновника интересует сумма подоходного налога, выплачиваемого домохозяйствами за год. \n",
    "#На случайной выборке из 25 домохозяйств был посчитан средний размер выплаченного налога,\n",
    "#и он составил $ 3 540. Также известно выборочное отклонение величины подоходного налога, равное $ 1 150.\n",
    "\n",
    "#Необходимо найти 90 %-ый доверительный интервал для истинного среднего значения налоговых выплат за год. \n",
    "#Используйте формулу с t-критическим.\n",
    "\n",
    "#Укажите границы построенного доверительного интервала для истинного среднего. Ответ округлите до целого.\n",
    "\n",
    "n = 25 # размер выборки\n",
    "k = n - 1 # число степеней свободы\n",
    "x_mean = 3540 # выборочное среднее\n",
    "x_std = 1150 # выборочное стандартное отклонение\n",
    "gamma = 0.90 # уровень надёжности\n",
    "alpha = 1 - gamma # уровень значимости\n",
    "\n",
    "t_crit = -t.ppf(alpha/2, k) # t-критическое\n",
    "print(f't-crit = {t_crit}')\n",
    "eps = t_crit * x_std/(n ** 0.5) # погрешность\n",
    "lower_bound = x_mean - eps # левая (нижняя) граница\n",
    "upper_bound = x_mean + eps # правая (верхняя) граница\n",
    "confidence_interval = (round(lower_bound), round(upper_bound)) # создаём кортеж из округлённых границ интервала\n",
    "\n",
    "print('Доверительный интервал: {}'.format(confidence_interval)) # выводим результат"
   ]
  },
  {
   "attachments": {},
   "cell_type": "markdown",
   "metadata": {},
   "source": [
    "### ДОВЕРИТЕЛЬНЫЙ ИНТЕРВАЛ ДЛЯ ПРОПОРЦИИ"
   ]
  },
  {
   "cell_type": "code",
   "execution_count": 42,
   "metadata": {},
   "outputs": [
    {
     "data": {
      "text/html": [
       "<div>\n",
       "<style scoped>\n",
       "    .dataframe tbody tr th:only-of-type {\n",
       "        vertical-align: middle;\n",
       "    }\n",
       "\n",
       "    .dataframe tbody tr th {\n",
       "        vertical-align: top;\n",
       "    }\n",
       "\n",
       "    .dataframe thead th {\n",
       "        text-align: right;\n",
       "    }\n",
       "</style>\n",
       "<table border=\"1\" class=\"dataframe\">\n",
       "  <thead>\n",
       "    <tr style=\"text-align: right;\">\n",
       "      <th></th>\n",
       "      <th>user_id</th>\n",
       "      <th>timestamp</th>\n",
       "      <th>group</th>\n",
       "      <th>converted</th>\n",
       "    </tr>\n",
       "  </thead>\n",
       "  <tbody>\n",
       "    <tr>\n",
       "      <th>0</th>\n",
       "      <td>851104</td>\n",
       "      <td>2017-01-21</td>\n",
       "      <td>A</td>\n",
       "      <td>0</td>\n",
       "    </tr>\n",
       "    <tr>\n",
       "      <th>1</th>\n",
       "      <td>804228</td>\n",
       "      <td>2017-01-12</td>\n",
       "      <td>A</td>\n",
       "      <td>0</td>\n",
       "    </tr>\n",
       "    <tr>\n",
       "      <th>2</th>\n",
       "      <td>661590</td>\n",
       "      <td>2017-01-11</td>\n",
       "      <td>B</td>\n",
       "      <td>0</td>\n",
       "    </tr>\n",
       "    <tr>\n",
       "      <th>3</th>\n",
       "      <td>853541</td>\n",
       "      <td>2017-01-08</td>\n",
       "      <td>B</td>\n",
       "      <td>0</td>\n",
       "    </tr>\n",
       "    <tr>\n",
       "      <th>4</th>\n",
       "      <td>864975</td>\n",
       "      <td>2017-01-21</td>\n",
       "      <td>A</td>\n",
       "      <td>1</td>\n",
       "    </tr>\n",
       "  </tbody>\n",
       "</table>\n",
       "</div>"
      ],
      "text/plain": [
       "   user_id   timestamp group  converted\n",
       "0   851104  2017-01-21     A          0\n",
       "1   804228  2017-01-12     A          0\n",
       "2   661590  2017-01-11     B          0\n",
       "3   853541  2017-01-08     B          0\n",
       "4   864975  2017-01-21     A          1"
      ]
     },
     "execution_count": 42,
     "metadata": {},
     "output_type": "execute_result"
    }
   ],
   "source": [
    "ab_data = pd.read_csv('ab_data.csv')\n",
    "ab_data.head()"
   ]
  },
  {
   "cell_type": "code",
   "execution_count": 43,
   "metadata": {},
   "outputs": [],
   "source": [
    "#фильтруем данные группы А\n",
    "a_data = ab_data[ab_data['group'] == 'A']\n",
    "#фильтруем данные группы B\n",
    "b_data = ab_data[ab_data['group'] == 'B']"
   ]
  },
  {
   "cell_type": "code",
   "execution_count": 44,
   "metadata": {},
   "outputs": [],
   "source": [
    "def proportions_conf_interval(n, x_p, gamma=0.95):   #n — размер выборки, x_p — выборочная пропорция и gamma — уровень надёжности (по умолчанию он равен 0.95)\n",
    "    alpha = 1 - gamma # уровень значимости\n",
    "    z_crit = -norm.ppf(alpha/2) # z критическое\n",
    "    eps = z_crit * (x_p * (1 - x_p) / n) ** 0.5 #погрешность\n",
    "    lower_bound = x_p - eps # левая (нижняя) граница\n",
    "    upper_bound = x_p + eps # правая (верхняя) граница\n",
    "    # возвращаем кортеж из округлённых границ интервала\n",
    "    return round(lower_bound * 100, 2), round(upper_bound * 100, 2)"
   ]
  },
  {
   "cell_type": "code",
   "execution_count": 45,
   "metadata": {},
   "outputs": [
    {
     "name": "stdout",
     "output_type": "stream",
     "text": [
      "Доверительный интервал для конверсии группы А: (11.86, 12.19)\n",
      "Доверительный интервал для конверсии группы B: (11.7, 12.03)\n"
     ]
    }
   ],
   "source": [
    "conf_interval_a = proportions_conf_interval(\n",
    "n=a_data['user_id'].count(), # размер выборки\n",
    "x_p=a_data['converted'].mean() # выборочная пропорция\n",
    ")\n",
    "conf_interval_b = proportions_conf_interval(\n",
    "n=b_data['user_id'].count(), # размер выборки\n",
    "x_p=b_data['converted'].mean() # выборочная пропорция\n",
    ")\n",
    "print('Доверительный интервал для конверсии группы А: {}'.format(conf_interval_a))\n",
    "print('Доверительный интервал для конверсии группы B: {}'.format(conf_interval_b))"
   ]
  },
  {
   "attachments": {},
   "cell_type": "markdown",
   "metadata": {},
   "source": [
    "Создадим функцию diff_proportions_conf_interval() со следующими аргументами: n — список из размеров выборки для групп А и B соответственно, xp — список из выборочных пропорций для групп А и B соответственно и gamma — уровень надёжности (по умолчанию он равен 0.95). Функция будет возвращать кортеж из вычисленных границ доверительного интервала разницы конверсий, умноженных на 100 % и округлённых до второго знака после запятой."
   ]
  },
  {
   "cell_type": "code",
   "execution_count": 47,
   "metadata": {},
   "outputs": [
    {
     "name": "stdout",
     "output_type": "stream",
     "text": [
      "Доверительный интервал для разности конверсий: (-0.39, 0.08)\n"
     ]
    }
   ],
   "source": [
    "def diff_proportions_conf_interval(n, xp, gamma=0.95):\n",
    "    alpha = 1 - gamma # уровень значимости\n",
    "    diff = xp[1] - xp[0] # выборочная разница конверсий групп B и A\n",
    "    z_crit = -norm.ppf(alpha/2) # z критическое\n",
    "    eps = z_crit * (xp[0] * (1 - xp[0])/n[0] + xp[1] * (1 - xp[1])/n[1]) ** 0.5 # погрешность\n",
    "    lower_bound = diff - eps # левая (нижняя) граница\n",
    "    upper_bound = diff + eps # правая (верхняя) граница\n",
    "    # возвращаем кортеж из округлённых границ интервала\n",
    "    return round(lower_bound *100, 2), round(upper_bound * 100, 2)\n",
    "\n",
    "# размеры выборок групп А и B\n",
    "n = [a_data['user_id'].count(), b_data['user_id'].count()]\n",
    "# выборочная пропорция групп A и B\n",
    "xp = [a_data['converted'].mean(), b_data['converted'].mean()]\n",
    "# строим доверительный интервал для разности конверсий\n",
    "diff_inverval = diff_proportions_conf_interval(n, xp)\n",
    "print('Доверительный интервал для разности конверсий: {}'.format(diff_inverval))"
   ]
  },
  {
   "attachments": {},
   "cell_type": "markdown",
   "metadata": {},
   "source": [
    "Итак, что можно сказать теперь? Построенный доверительный интервал с 95 %-ой надёжностью говорит нам, что разница в конверсии между вариантом B и вариантом А лежит в интервале от -0.39 % до 0.08 %. \n",
    "То есть разница в конверсии с 95 %-ой надёжностью может быть как положительной, так и отрицательной. Мы имеем дело с третьим случаем — интервал охватывает точку 0.\n",
    "Отсюда можно сделать вывод, что статистической разницы в конверсии между вариантами А и B не существует, то есть они являются равнозначными по данной метрике."
   ]
  },
  {
   "cell_type": "code",
   "execution_count": 48,
   "metadata": {},
   "outputs": [
    {
     "name": "stdout",
     "output_type": "stream",
     "text": [
      "(64.35, 75.33)\n"
     ]
    }
   ],
   "source": [
    "# Задание 6.9\n",
    "#Чтобы оценить удовлетворённость клиентов сети отелей, менеджер взял случайную выборку из 189 комментариев, \n",
    "# оставленных посетителями на онлайн-платформе по бронированию, и провёл анализ их содержания. \n",
    "# Выяснилось, что 132 комментария были положительными, остальные — негативными.\n",
    "\n",
    "# Чему равна выборочная пропорция положительных комментариев? Укажите с точностью до трёх знаков после разделительной точки.\n",
    "\n",
    "#Найдите 90 % доверительный интервал для истинной пропорции положительных комментариев. \n",
    "# Ответ приведите в процентах и округлите до двух знаков после запятой. При расчёте используйте z-критическое.\n",
    "\n",
    "print(proportions_conf_interval(n=189, x_p=132/189, gamma=0.9))"
   ]
  },
  {
   "cell_type": "code",
   "execution_count": 49,
   "metadata": {},
   "outputs": [
    {
     "name": "stdout",
     "output_type": "stream",
     "text": [
      "(-1.36, 2.36)\n"
     ]
    }
   ],
   "source": [
    "#Задание 6.10\n",
    "print(diff_proportions_conf_interval([1000,1000], xp=[45/1000, 50/1000], gamma=0.95))"
   ]
  }
 ],
 "metadata": {
  "kernelspec": {
   "display_name": "Python 3.10.5 64-bit",
   "language": "python",
   "name": "python3"
  },
  "language_info": {
   "codemirror_mode": {
    "name": "ipython",
    "version": 3
   },
   "file_extension": ".py",
   "mimetype": "text/x-python",
   "name": "python",
   "nbconvert_exporter": "python",
   "pygments_lexer": "ipython3",
   "version": "3.10.5"
  },
  "orig_nbformat": 4,
  "vscode": {
   "interpreter": {
    "hash": "59f3ce7a90fd9c5194e90f4fe2f2e1960cf028f3e50f3d4c155c18077f9faa31"
   }
  }
 },
 "nbformat": 4,
 "nbformat_minor": 2
}
