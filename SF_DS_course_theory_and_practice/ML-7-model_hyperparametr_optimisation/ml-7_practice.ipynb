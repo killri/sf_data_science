{
 "cells": [
  {
   "cell_type": "code",
   "execution_count": 1,
   "metadata": {},
   "outputs": [
    {
     "name": "stderr",
     "output_type": "stream",
     "text": [
      "C:\\Users\\killr\\AppData\\Local\\Temp\\ipykernel_11956\\4230976023.py:15: MatplotlibDeprecationWarning: The seaborn styles shipped by Matplotlib are deprecated since 3.6, as they no longer correspond to the styles shipped by seaborn. However, they will remain available as 'seaborn-v0_8-<style>'. Alternatively, directly use the seaborn API instead.\n",
      "  plt.style.use('seaborn')\n"
     ]
    }
   ],
   "source": [
    "#импорт библиотек\n",
    "import numpy as np #для матричных вычислений\n",
    "import pandas as pd #для анализа и предобработки данных\n",
    "import matplotlib.pyplot as plt #для визуализации\n",
    "import seaborn as sns #для визуализации\n",
    "\n",
    "from sklearn import linear_model #линейные моделиё\n",
    "from sklearn import tree #деревья решений\n",
    "from sklearn import ensemble #ансамбли\n",
    "from sklearn import metrics #метрики\n",
    "from sklearn import preprocessing #предобработка\n",
    "from sklearn.model_selection import train_test_split #сплитование выборки\n",
    "\n",
    "%matplotlib inline\n",
    "plt.style.use('seaborn')\n",
    "\n",
    "#импорт библиотек по подбору гиперпаратемтов\n",
    "from sklearn.model_selection import GridSearchCV\n",
    "from sklearn.model_selection import RandomizedSearchCV\n",
    "from sklearn.model_selection import cross_val_score\n",
    "import hyperopt\n",
    "from hyperopt import hp, fmin, tpe, Trials\n",
    "import optuna\n",
    "\n",
    "#Зафиксируем сразу randomstate\n",
    "RandomState = 42\n"
   ]
  },
  {
   "cell_type": "code",
   "execution_count": 2,
   "metadata": {},
   "outputs": [
    {
     "data": {
      "text/html": [
       "<div>\n",
       "<style scoped>\n",
       "    .dataframe tbody tr th:only-of-type {\n",
       "        vertical-align: middle;\n",
       "    }\n",
       "\n",
       "    .dataframe tbody tr th {\n",
       "        vertical-align: top;\n",
       "    }\n",
       "\n",
       "    .dataframe thead th {\n",
       "        text-align: right;\n",
       "    }\n",
       "</style>\n",
       "<table border=\"1\" class=\"dataframe\">\n",
       "  <thead>\n",
       "    <tr style=\"text-align: right;\">\n",
       "      <th></th>\n",
       "      <th>Activity</th>\n",
       "      <th>D1</th>\n",
       "      <th>D2</th>\n",
       "      <th>D3</th>\n",
       "      <th>D4</th>\n",
       "      <th>D5</th>\n",
       "      <th>D6</th>\n",
       "      <th>D7</th>\n",
       "      <th>D8</th>\n",
       "      <th>D9</th>\n",
       "      <th>...</th>\n",
       "      <th>D1767</th>\n",
       "      <th>D1768</th>\n",
       "      <th>D1769</th>\n",
       "      <th>D1770</th>\n",
       "      <th>D1771</th>\n",
       "      <th>D1772</th>\n",
       "      <th>D1773</th>\n",
       "      <th>D1774</th>\n",
       "      <th>D1775</th>\n",
       "      <th>D1776</th>\n",
       "    </tr>\n",
       "  </thead>\n",
       "  <tbody>\n",
       "    <tr>\n",
       "      <th>0</th>\n",
       "      <td>1</td>\n",
       "      <td>0.000000</td>\n",
       "      <td>0.497009</td>\n",
       "      <td>0.10</td>\n",
       "      <td>0.0</td>\n",
       "      <td>0.132956</td>\n",
       "      <td>0.678031</td>\n",
       "      <td>0.273166</td>\n",
       "      <td>0.585445</td>\n",
       "      <td>0.743663</td>\n",
       "      <td>...</td>\n",
       "      <td>0</td>\n",
       "      <td>0</td>\n",
       "      <td>0</td>\n",
       "      <td>0</td>\n",
       "      <td>0</td>\n",
       "      <td>0</td>\n",
       "      <td>0</td>\n",
       "      <td>0</td>\n",
       "      <td>0</td>\n",
       "      <td>0</td>\n",
       "    </tr>\n",
       "    <tr>\n",
       "      <th>1</th>\n",
       "      <td>1</td>\n",
       "      <td>0.366667</td>\n",
       "      <td>0.606291</td>\n",
       "      <td>0.05</td>\n",
       "      <td>0.0</td>\n",
       "      <td>0.111209</td>\n",
       "      <td>0.803455</td>\n",
       "      <td>0.106105</td>\n",
       "      <td>0.411754</td>\n",
       "      <td>0.836582</td>\n",
       "      <td>...</td>\n",
       "      <td>1</td>\n",
       "      <td>1</td>\n",
       "      <td>1</td>\n",
       "      <td>1</td>\n",
       "      <td>0</td>\n",
       "      <td>1</td>\n",
       "      <td>0</td>\n",
       "      <td>0</td>\n",
       "      <td>1</td>\n",
       "      <td>0</td>\n",
       "    </tr>\n",
       "    <tr>\n",
       "      <th>2</th>\n",
       "      <td>1</td>\n",
       "      <td>0.033300</td>\n",
       "      <td>0.480124</td>\n",
       "      <td>0.00</td>\n",
       "      <td>0.0</td>\n",
       "      <td>0.209791</td>\n",
       "      <td>0.610350</td>\n",
       "      <td>0.356453</td>\n",
       "      <td>0.517720</td>\n",
       "      <td>0.679051</td>\n",
       "      <td>...</td>\n",
       "      <td>0</td>\n",
       "      <td>0</td>\n",
       "      <td>0</td>\n",
       "      <td>0</td>\n",
       "      <td>0</td>\n",
       "      <td>0</td>\n",
       "      <td>0</td>\n",
       "      <td>0</td>\n",
       "      <td>0</td>\n",
       "      <td>0</td>\n",
       "    </tr>\n",
       "    <tr>\n",
       "      <th>3</th>\n",
       "      <td>1</td>\n",
       "      <td>0.000000</td>\n",
       "      <td>0.538825</td>\n",
       "      <td>0.00</td>\n",
       "      <td>0.5</td>\n",
       "      <td>0.196344</td>\n",
       "      <td>0.724230</td>\n",
       "      <td>0.235606</td>\n",
       "      <td>0.288764</td>\n",
       "      <td>0.805110</td>\n",
       "      <td>...</td>\n",
       "      <td>0</td>\n",
       "      <td>0</td>\n",
       "      <td>0</td>\n",
       "      <td>0</td>\n",
       "      <td>0</td>\n",
       "      <td>0</td>\n",
       "      <td>0</td>\n",
       "      <td>0</td>\n",
       "      <td>0</td>\n",
       "      <td>0</td>\n",
       "    </tr>\n",
       "    <tr>\n",
       "      <th>4</th>\n",
       "      <td>0</td>\n",
       "      <td>0.100000</td>\n",
       "      <td>0.517794</td>\n",
       "      <td>0.00</td>\n",
       "      <td>0.0</td>\n",
       "      <td>0.494734</td>\n",
       "      <td>0.781422</td>\n",
       "      <td>0.154361</td>\n",
       "      <td>0.303809</td>\n",
       "      <td>0.812646</td>\n",
       "      <td>...</td>\n",
       "      <td>0</td>\n",
       "      <td>0</td>\n",
       "      <td>0</td>\n",
       "      <td>0</td>\n",
       "      <td>0</td>\n",
       "      <td>0</td>\n",
       "      <td>0</td>\n",
       "      <td>0</td>\n",
       "      <td>0</td>\n",
       "      <td>0</td>\n",
       "    </tr>\n",
       "  </tbody>\n",
       "</table>\n",
       "<p>5 rows × 1777 columns</p>\n",
       "</div>"
      ],
      "text/plain": [
       "   Activity        D1        D2    D3   D4        D5        D6        D7  \\\n",
       "0         1  0.000000  0.497009  0.10  0.0  0.132956  0.678031  0.273166   \n",
       "1         1  0.366667  0.606291  0.05  0.0  0.111209  0.803455  0.106105   \n",
       "2         1  0.033300  0.480124  0.00  0.0  0.209791  0.610350  0.356453   \n",
       "3         1  0.000000  0.538825  0.00  0.5  0.196344  0.724230  0.235606   \n",
       "4         0  0.100000  0.517794  0.00  0.0  0.494734  0.781422  0.154361   \n",
       "\n",
       "         D8        D9  ...  D1767  D1768  D1769  D1770  D1771  D1772  D1773  \\\n",
       "0  0.585445  0.743663  ...      0      0      0      0      0      0      0   \n",
       "1  0.411754  0.836582  ...      1      1      1      1      0      1      0   \n",
       "2  0.517720  0.679051  ...      0      0      0      0      0      0      0   \n",
       "3  0.288764  0.805110  ...      0      0      0      0      0      0      0   \n",
       "4  0.303809  0.812646  ...      0      0      0      0      0      0      0   \n",
       "\n",
       "   D1774  D1775  D1776  \n",
       "0      0      0      0  \n",
       "1      0      1      0  \n",
       "2      0      0      0  \n",
       "3      0      0      0  \n",
       "4      0      0      0  \n",
       "\n",
       "[5 rows x 1777 columns]"
      ]
     },
     "execution_count": 2,
     "metadata": {},
     "output_type": "execute_result"
    }
   ],
   "source": [
    "data = pd.read_csv('_train_sem09 (1).csv')\n",
    "data.head()"
   ]
  },
  {
   "attachments": {},
   "cell_type": "markdown",
   "metadata": {},
   "source": [
    "Т.к. данные предобработаны, перейдем сразу к выполнению задания. Структура будет следующая: сначала построим логистическую регрессию и на ней подберем гиперпараметры всеми методами. А потом перейдем к случайному лесу."
   ]
  },
  {
   "attachments": {},
   "cell_type": "markdown",
   "metadata": {},
   "source": [
    "Однако, проверим сначала выборку на сбалансированность:"
   ]
  },
  {
   "cell_type": "code",
   "execution_count": 3,
   "metadata": {},
   "outputs": [
    {
     "data": {
      "image/png": "[encoded data removed]",
      "text/plain": [
       "<Figure size 800x550 with 1 Axes>"
      ]
     },
     "metadata": {},
     "output_type": "display_data"
    }
   ],
   "source": [
    "sns.countplot(data=data, x='Activity');"
   ]
  },
  {
   "attachments": {},
   "cell_type": "markdown",
   "metadata": {},
   "source": [
    "Будем считать, что классы сбалансированы"
   ]
  },
  {
   "attachments": {},
   "cell_type": "markdown",
   "metadata": {},
   "source": [
    "Признаков много, тут хорошо бы мультиколлериарность посмотреть. Но буду доверять предобработке.\n",
    "Разобъем выборку"
   ]
  },
  {
   "cell_type": "code",
   "execution_count": 4,
   "metadata": {},
   "outputs": [],
   "source": [
    "X = data.drop(['Activity'], axis=1)\n",
    "y = data['Activity']\n",
    "\n",
    "X_train, X_test, y_train, y_test = train_test_split(X, y, random_state = RandomState, test_size = 0.2)"
   ]
  },
  {
   "attachments": {},
   "cell_type": "markdown",
   "metadata": {},
   "source": [
    "# Логистическая регрессия"
   ]
  },
  {
   "attachments": {},
   "cell_type": "markdown",
   "metadata": {},
   "source": [
    "### Строим модель по умолчанию и смотрим целевую метрику"
   ]
  },
  {
   "cell_type": "code",
   "execution_count": 5,
   "metadata": {},
   "outputs": [
    {
     "name": "stdout",
     "output_type": "stream",
     "text": [
      "f1_score на тестовом наборе: 0.79\n"
     ]
    }
   ],
   "source": [
    "log_reg = linear_model.LogisticRegression(max_iter = 1000)\n",
    "log_reg.fit(X_train, y_train)\n",
    "y_test_pred = log_reg.predict(X_test)\n",
    "print('f1_score на тестовом наборе: {:.2f}'.format(metrics.f1_score(y_test, y_test_pred)))"
   ]
  },
  {
   "attachments": {},
   "cell_type": "markdown",
   "metadata": {},
   "source": [
    "### Подберем гиперпараметры с помощью **GridSearchCV**"
   ]
  },
  {
   "cell_type": "code",
   "execution_count": 6,
   "metadata": {},
   "outputs": [],
   "source": [
    "#Зададим сетку параметров. Делаю по аналогии с теоретическим блоком модуля. Потом посмотрим стоит ли еще сто-то попробовать\n",
    "param_grid = [\n",
    "              {'penalty': ['l2', 'none'] , # тип регуляризации\n",
    "              'solver': ['lbfgs', 'sag'], # алгоритм оптимизации\n",
    "               'C': [0.01, 0.1, 0.3, 0.5, 0.7, 0.9, 1]}, # уровень силы регурялизации\n",
    "              \n",
    "              {'penalty': ['l1', 'l2'] ,\n",
    "              'solver': ['liblinear', 'saga'],\n",
    "               'C': [0.01, 0.1, 0.3, 0.5, 0.7, 0.9, 1]}\n",
    "]"
   ]
  },
  {
   "cell_type": "code",
   "execution_count": 8,
   "metadata": {},
   "outputs": [
    {
     "name": "stdout",
     "output_type": "stream",
     "text": [
      "CPU times: total: 2.88 s\n",
      "Wall time: 18min 32s\n",
      "f1_score на тестовом наборе: 0.79\n",
      "Наилучшие значения гиперпараметров: {'C': 0.1, 'penalty': 'l2', 'solver': 'lbfgs'}\n"
     ]
    }
   ],
   "source": [
    "grid_search_1 = GridSearchCV(\n",
    "    estimator=linear_model.LogisticRegression(random_state=RandomState, max_iter=1000), \n",
    "    param_grid=param_grid, \n",
    "    cv=5, #зададим число фолдов (автоматически производим кросс-валидацию)\n",
    "    n_jobs = -1 #используем все ядра \n",
    ")  \n",
    "%time grid_search_1.fit(X_train, y_train) \n",
    "\n",
    "y_test_pred = grid_search_1.predict(X_test)\n",
    "print('f1_score на тестовом наборе: {:.2f}'.format(metrics.f1_score(y_test, y_test_pred)))\n",
    "print(\"Наилучшие значения гиперпараметров: {}\".format(grid_search_1.best_params_))"
   ]
  },
  {
   "attachments": {},
   "cell_type": "markdown",
   "metadata": {},
   "source": [
    "Считали-считали и насчитали на тот же результат, что и по умолчанию. Можно попробовать какие-то значения вокруг c = 0.1, но продолжим другим, юолее быстрым способом"
   ]
  },
  {
   "attachments": {},
   "cell_type": "markdown",
   "metadata": {},
   "source": [
    "### Подберем гиперпараметры с помощью **RandomizedSearchCV**"
   ]
  },
  {
   "cell_type": "code",
   "execution_count": 9,
   "metadata": {},
   "outputs": [],
   "source": [
    "param_distributions = [\n",
    "              {'penalty': ['l2', 'none'] , # тип регуляризации\n",
    "              'solver': ['lbfgs', 'sag'], # алгоритм оптимизации\n",
    "               'C': [0.01, 0.1, 0.3, 0.5, 0.7, 0.9, 1]}, # уровень силы регурялизации\n",
    "              \n",
    "              {'penalty': ['l1', 'l2'] ,\n",
    "              'solver': ['liblinear', 'saga'],\n",
    "               'C': [0.01, 0.1, 0.3, 0.5, 0.7, 0.9, 1]}\n",
    "]"
   ]
  },
  {
   "cell_type": "code",
   "execution_count": 10,
   "metadata": {},
   "outputs": [
    {
     "name": "stdout",
     "output_type": "stream",
     "text": [
      "CPU times: total: 312 ms\n",
      "Wall time: 3min 8s\n",
      "f1_score на тестовом наборе: 0.80\n",
      "Наилучшие значения гиперпараметров: {'solver': 'liblinear', 'penalty': 'l1', 'C': 0.5}\n"
     ]
    }
   ],
   "source": [
    "\n",
    "random_search = RandomizedSearchCV(\n",
    "    estimator=linear_model.LogisticRegression(random_state=RandomState, max_iter=1000), \n",
    "    param_distributions=param_distributions, \n",
    "    cv=5, \n",
    "    n_iter = 10, \n",
    "    n_jobs = -1\n",
    ")  \n",
    "%time random_search.fit(X_train, y_train) \n",
    "y_test_pred = random_search.predict(X_test)\n",
    "print('f1_score на тестовом наборе: {:.2f}'.format(metrics.f1_score(y_test, y_test_pred)))\n",
    "print(\"Наилучшие значения гиперпараметров: {}\".format(random_search.best_params_))"
   ]
  },
  {
   "attachments": {},
   "cell_type": "markdown",
   "metadata": {},
   "source": [
    "Метрику улучшили. Параметры вообще другие получили, чем в \"переборе\" с помощью GridSearch. Что, в общем-то логично. Результат идентичен теоретической части модуля, а за счет рандомизации мы попали в лучшие параметры. И быстрее."
   ]
  },
  {
   "attachments": {},
   "cell_type": "markdown",
   "metadata": {},
   "source": [
    "### Подберем гиперпараметры с помощью **Hyperopt**"
   ]
  },
  {
   "cell_type": "code",
   "execution_count": 20,
   "metadata": {},
   "outputs": [],
   "source": [
    "# зададим пространство поиска гиперпараметров. Я буду ориентироваться на второй блок гиперпараметров в исходной сетке, т.к. он показал улучшение метрики в прошлом подходе\n",
    "space={'C': hp.quniform('C', 0.1, 1, 0.1)}"
   ]
  },
  {
   "cell_type": "code",
   "execution_count": 22,
   "metadata": {},
   "outputs": [],
   "source": [
    "def hyperopt_rf(params, cv=5, X=X_train, y=y_train, random_state=RandomState):\n",
    "    # функция получает комбинацию гиперпараметров в \"params\"\n",
    "    params = {'C': params['C']}\n",
    "  \n",
    "    # используем эту комбинацию для построения модели\n",
    "    model = linear_model.LogisticRegression(**params, solver='liblinear', penalty='l1', random_state=random_state)\n",
    "\n",
    "    # обучаем модель\n",
    "    model.fit(X, y)\n",
    "    score = metrics.f1_score(y, model.predict(X))\n",
    "    \n",
    "    # обучать модель можно также с помощью кросс-валидации\n",
    "    # применим  cross validation с тем же количеством фолдов\n",
    "    # score = cross_val_score(model, X, y, cv=cv, scoring=\"f1\", n_jobs=-1).mean()\n",
    "\n",
    "    # метрику необходимо минимизировать, поэтому ставим знак минус\n",
    "    return -score"
   ]
  },
  {
   "cell_type": "code",
   "execution_count": 23,
   "metadata": {},
   "outputs": [
    {
     "name": "stdout",
     "output_type": "stream",
     "text": [
      "CPU times: total: 0 ns\n",
      "Wall time: 0 ns\n",
      "100%|██████████| 20/20 [00:10<00:00,  1.85trial/s, best loss: -0.8698334361505243]\n",
      "Наилучшие значения гиперпараметров {'C': 0.9}\n"
     ]
    }
   ],
   "source": [
    "# начинаем подбор гиперпараметров\n",
    "%time\n",
    "\n",
    "trials = Trials() # используется для логирования результатов\n",
    "\n",
    "best=fmin(hyperopt_rf, # наша функция \n",
    "          space=space, # пространство гиперпараметров\n",
    "          algo=tpe.suggest, # алгоритм оптимизации, установлен по умолчанию, задавать необязательно\n",
    "          max_evals=20, # максимальное количество итераций\n",
    "          trials=trials, # логирование результатов\n",
    "          rstate=np.random.default_rng(RandomState)# фиксируем для повторяемости результата\n",
    "         )\n",
    "print(\"Наилучшие значения гиперпараметров {}\".format(best))"
   ]
  },
  {
   "cell_type": "code",
   "execution_count": 24,
   "metadata": {},
   "outputs": [
    {
     "name": "stdout",
     "output_type": "stream",
     "text": [
      "f1_score на обучающем наборе: 0.87\n",
      "f1_score на тестовом наборе: 0.78\n"
     ]
    }
   ],
   "source": [
    "# рассчитаем точность для тестовой выборки\n",
    "model =  linear_model.LogisticRegression(\n",
    "    random_state=RandomState, \n",
    "    C=best['C'],\n",
    "    solver='liblinear', \n",
    "    penalty='l1')\n",
    "\n",
    "model.fit(X_train, y_train)\n",
    "y_train_pred = model.predict(X_train)\n",
    "print('f1_score на обучающем наборе: {:.2f}'.format(metrics.f1_score(y_train, y_train_pred)))\n",
    "y_test_pred = model.predict(X_test)\n",
    "print('f1_score на тестовом наборе: {:.2f}'.format(metrics.f1_score(y_test, y_test_pred)))"
   ]
  },
  {
   "attachments": {},
   "cell_type": "markdown",
   "metadata": {},
   "source": [
    "Лучше сработал RandomizedSearch. Хотя я оставил только один параметр на подбор. Я думаю это от этого зависело."
   ]
  },
  {
   "attachments": {},
   "cell_type": "markdown",
   "metadata": {},
   "source": [
    "### Подберем гиперпараметры с помощью **Optuna**"
   ]
  },
  {
   "cell_type": "code",
   "execution_count": 27,
   "metadata": {},
   "outputs": [],
   "source": [
    "def optuna_rf(trial):\n",
    "  # задаем пространства поиска гиперпараметров\n",
    "  C = trial.suggest_float('C',0.01,1,step=0.05,log=False) \n",
    "  solver = trial.suggest_categorical('solver', ['liblinear', 'saga'])\n",
    "  penalty = trial.suggest_categorical('penalty', ['l1', 'l2'])\n",
    "  # создаем модель\n",
    "  model = linear_model.LogisticRegression(C=C,\n",
    "                                          solver=solver,\n",
    "                                          penalty=penalty,\n",
    "                                          random_state=RandomState)\n",
    "  # обучаем модель\n",
    "  model.fit(X_train, y_train)\n",
    "  score = metrics.f1_score(y_train, model.predict(X_train))\n",
    "\n",
    "  return score"
   ]
  },
  {
   "cell_type": "code",
   "execution_count": 29,
   "metadata": {},
   "outputs": [
    {
     "name": "stderr",
     "output_type": "stream",
     "text": [
      "\u001b[32m[I 2023-03-21 17:07:26,031]\u001b[0m A new study created in memory with name: LogReg\u001b[0m\n",
      "c:\\Users\\killr\\AppData\\Local\\Programs\\Python\\Python39\\lib\\site-packages\\optuna\\distributions.py:701: UserWarning: The distribution is specified by [0.01, 1] and step=0.05, but the range is not divisible by `step`. It will be replaced by [0.01, 0.96].\n",
      "  warnings.warn(\n",
      "\u001b[32m[I 2023-03-21 17:07:26,844]\u001b[0m Trial 0 finished with value: 0.8756923076923077 and parameters: {'C': 0.51, 'solver': 'liblinear', 'penalty': 'l2'}. Best is trial 0 with value: 0.8756923076923077.\u001b[0m\n",
      "c:\\Users\\killr\\AppData\\Local\\Programs\\Python\\Python39\\lib\\site-packages\\optuna\\distributions.py:701: UserWarning: The distribution is specified by [0.01, 1] and step=0.05, but the range is not divisible by `step`. It will be replaced by [0.01, 0.96].\n",
      "  warnings.warn(\n",
      "\u001b[32m[I 2023-03-21 17:07:27,669]\u001b[0m Trial 1 finished with value: 0.8849120641777228 and parameters: {'C': 0.91, 'solver': 'liblinear', 'penalty': 'l2'}. Best is trial 1 with value: 0.8849120641777228.\u001b[0m\n",
      "c:\\Users\\killr\\AppData\\Local\\Programs\\Python\\Python39\\lib\\site-packages\\optuna\\distributions.py:701: UserWarning: The distribution is specified by [0.01, 1] and step=0.05, but the range is not divisible by `step`. It will be replaced by [0.01, 0.96].\n",
      "  warnings.warn(\n",
      "c:\\Users\\killr\\AppData\\Local\\Programs\\Python\\Python39\\lib\\site-packages\\sklearn\\linear_model\\_sag.py:350: ConvergenceWarning: The max_iter was reached which means the coef_ did not converge\n",
      "  warnings.warn(\n",
      "\u001b[32m[I 2023-03-21 17:07:32,210]\u001b[0m Trial 2 finished with value: 0.8440366972477065 and parameters: {'C': 0.060000000000000005, 'solver': 'saga', 'penalty': 'l2'}. Best is trial 1 with value: 0.8849120641777228.\u001b[0m\n",
      "c:\\Users\\killr\\AppData\\Local\\Programs\\Python\\Python39\\lib\\site-packages\\optuna\\distributions.py:701: UserWarning: The distribution is specified by [0.01, 1] and step=0.05, but the range is not divisible by `step`. It will be replaced by [0.01, 0.96].\n",
      "  warnings.warn(\n",
      "c:\\Users\\killr\\AppData\\Local\\Programs\\Python\\Python39\\lib\\site-packages\\sklearn\\linear_model\\_sag.py:350: ConvergenceWarning: The max_iter was reached which means the coef_ did not converge\n",
      "  warnings.warn(\n",
      "\u001b[32m[I 2023-03-21 17:07:37,872]\u001b[0m Trial 3 finished with value: 0.8494326893590923 and parameters: {'C': 0.51, 'solver': 'saga', 'penalty': 'l1'}. Best is trial 1 with value: 0.8849120641777228.\u001b[0m\n",
      "c:\\Users\\killr\\AppData\\Local\\Programs\\Python\\Python39\\lib\\site-packages\\optuna\\distributions.py:701: UserWarning: The distribution is specified by [0.01, 1] and step=0.05, but the range is not divisible by `step`. It will be replaced by [0.01, 0.96].\n",
      "  warnings.warn(\n",
      "\u001b[32m[I 2023-03-21 17:07:38,344]\u001b[0m Trial 4 finished with value: 0.8714637146371464 and parameters: {'C': 0.41000000000000003, 'solver': 'liblinear', 'penalty': 'l2'}. Best is trial 1 with value: 0.8849120641777228.\u001b[0m\n",
      "c:\\Users\\killr\\AppData\\Local\\Programs\\Python\\Python39\\lib\\site-packages\\optuna\\distributions.py:701: UserWarning: The distribution is specified by [0.01, 1] and step=0.05, but the range is not divisible by `step`. It will be replaced by [0.01, 0.96].\n",
      "  warnings.warn(\n",
      "c:\\Users\\killr\\AppData\\Local\\Programs\\Python\\Python39\\lib\\site-packages\\sklearn\\linear_model\\_sag.py:350: ConvergenceWarning: The max_iter was reached which means the coef_ did not converge\n",
      "  warnings.warn(\n",
      "\u001b[32m[I 2023-03-21 17:07:44,244]\u001b[0m Trial 5 finished with value: 0.8575813382443217 and parameters: {'C': 0.76, 'solver': 'saga', 'penalty': 'l1'}. Best is trial 1 with value: 0.8849120641777228.\u001b[0m\n",
      "c:\\Users\\killr\\AppData\\Local\\Programs\\Python\\Python39\\lib\\site-packages\\optuna\\distributions.py:701: UserWarning: The distribution is specified by [0.01, 1] and step=0.05, but the range is not divisible by `step`. It will be replaced by [0.01, 0.96].\n",
      "  warnings.warn(\n",
      "c:\\Users\\killr\\AppData\\Local\\Programs\\Python\\Python39\\lib\\site-packages\\sklearn\\linear_model\\_sag.py:350: ConvergenceWarning: The max_iter was reached which means the coef_ did not converge\n",
      "  warnings.warn(\n",
      "\u001b[32m[I 2023-03-21 17:07:48,580]\u001b[0m Trial 6 finished with value: 0.8121765601217656 and parameters: {'C': 0.01, 'solver': 'saga', 'penalty': 'l2'}. Best is trial 1 with value: 0.8849120641777228.\u001b[0m\n",
      "c:\\Users\\killr\\AppData\\Local\\Programs\\Python\\Python39\\lib\\site-packages\\optuna\\distributions.py:701: UserWarning: The distribution is specified by [0.01, 1] and step=0.05, but the range is not divisible by `step`. It will be replaced by [0.01, 0.96].\n",
      "  warnings.warn(\n",
      "\u001b[32m[I 2023-03-21 17:07:49,160]\u001b[0m Trial 7 finished with value: 0.8813559322033899 and parameters: {'C': 0.7100000000000001, 'solver': 'liblinear', 'penalty': 'l2'}. Best is trial 1 with value: 0.8849120641777228.\u001b[0m\n",
      "c:\\Users\\killr\\AppData\\Local\\Programs\\Python\\Python39\\lib\\site-packages\\optuna\\distributions.py:701: UserWarning: The distribution is specified by [0.01, 1] and step=0.05, but the range is not divisible by `step`. It will be replaced by [0.01, 0.96].\n",
      "  warnings.warn(\n",
      "\u001b[32m[I 2023-03-21 17:07:49,648]\u001b[0m Trial 8 finished with value: 0.8670163529774761 and parameters: {'C': 0.81, 'solver': 'liblinear', 'penalty': 'l1'}. Best is trial 1 with value: 0.8849120641777228.\u001b[0m\n",
      "c:\\Users\\killr\\AppData\\Local\\Programs\\Python\\Python39\\lib\\site-packages\\optuna\\distributions.py:701: UserWarning: The distribution is specified by [0.01, 1] and step=0.05, but the range is not divisible by `step`. It will be replaced by [0.01, 0.96].\n",
      "  warnings.warn(\n",
      "c:\\Users\\killr\\AppData\\Local\\Programs\\Python\\Python39\\lib\\site-packages\\sklearn\\linear_model\\_sag.py:350: ConvergenceWarning: The max_iter was reached which means the coef_ did not converge\n",
      "  warnings.warn(\n",
      "\u001b[32m[I 2023-03-21 17:07:54,045]\u001b[0m Trial 9 finished with value: 0.8726487819919827 and parameters: {'C': 0.81, 'solver': 'saga', 'penalty': 'l2'}. Best is trial 1 with value: 0.8849120641777228.\u001b[0m\n",
      "c:\\Users\\killr\\AppData\\Local\\Programs\\Python\\Python39\\lib\\site-packages\\optuna\\distributions.py:701: UserWarning: The distribution is specified by [0.01, 1] and step=0.05, but the range is not divisible by `step`. It will be replaced by [0.01, 0.96].\n",
      "  warnings.warn(\n",
      "\u001b[32m[I 2023-03-21 17:07:54,926]\u001b[0m Trial 10 finished with value: 0.8724915097252238 and parameters: {'C': 0.96, 'solver': 'liblinear', 'penalty': 'l1'}. Best is trial 1 with value: 0.8849120641777228.\u001b[0m\n",
      "c:\\Users\\killr\\AppData\\Local\\Programs\\Python\\Python39\\lib\\site-packages\\optuna\\distributions.py:701: UserWarning: The distribution is specified by [0.01, 1] and step=0.05, but the range is not divisible by `step`. It will be replaced by [0.01, 0.96].\n",
      "  warnings.warn(\n",
      "\u001b[32m[I 2023-03-21 17:07:55,553]\u001b[0m Trial 11 finished with value: 0.8862793572311495 and parameters: {'C': 0.96, 'solver': 'liblinear', 'penalty': 'l2'}. Best is trial 11 with value: 0.8862793572311495.\u001b[0m\n",
      "c:\\Users\\killr\\AppData\\Local\\Programs\\Python\\Python39\\lib\\site-packages\\optuna\\distributions.py:701: UserWarning: The distribution is specified by [0.01, 1] and step=0.05, but the range is not divisible by `step`. It will be replaced by [0.01, 0.96].\n",
      "  warnings.warn(\n",
      "\u001b[32m[I 2023-03-21 17:07:56,263]\u001b[0m Trial 12 finished with value: 0.8862793572311495 and parameters: {'C': 0.96, 'solver': 'liblinear', 'penalty': 'l2'}. Best is trial 11 with value: 0.8862793572311495.\u001b[0m\n",
      "c:\\Users\\killr\\AppData\\Local\\Programs\\Python\\Python39\\lib\\site-packages\\optuna\\distributions.py:701: UserWarning: The distribution is specified by [0.01, 1] and step=0.05, but the range is not divisible by `step`. It will be replaced by [0.01, 0.96].\n",
      "  warnings.warn(\n",
      "\u001b[32m[I 2023-03-21 17:07:56,883]\u001b[0m Trial 13 finished with value: 0.8791615289765721 and parameters: {'C': 0.6100000000000001, 'solver': 'liblinear', 'penalty': 'l2'}. Best is trial 11 with value: 0.8862793572311495.\u001b[0m\n",
      "c:\\Users\\killr\\AppData\\Local\\Programs\\Python\\Python39\\lib\\site-packages\\optuna\\distributions.py:701: UserWarning: The distribution is specified by [0.01, 1] and step=0.05, but the range is not divisible by `step`. It will be replaced by [0.01, 0.96].\n",
      "  warnings.warn(\n",
      "\u001b[32m[I 2023-03-21 17:07:57,548]\u001b[0m Trial 14 finished with value: 0.8692709935404491 and parameters: {'C': 0.36000000000000004, 'solver': 'liblinear', 'penalty': 'l2'}. Best is trial 11 with value: 0.8862793572311495.\u001b[0m\n",
      "c:\\Users\\killr\\AppData\\Local\\Programs\\Python\\Python39\\lib\\site-packages\\optuna\\distributions.py:701: UserWarning: The distribution is specified by [0.01, 1] and step=0.05, but the range is not divisible by `step`. It will be replaced by [0.01, 0.96].\n",
      "  warnings.warn(\n",
      "\u001b[32m[I 2023-03-21 17:07:58,360]\u001b[0m Trial 15 finished with value: 0.8862793572311495 and parameters: {'C': 0.96, 'solver': 'liblinear', 'penalty': 'l2'}. Best is trial 11 with value: 0.8862793572311495.\u001b[0m\n",
      "c:\\Users\\killr\\AppData\\Local\\Programs\\Python\\Python39\\lib\\site-packages\\optuna\\distributions.py:701: UserWarning: The distribution is specified by [0.01, 1] and step=0.05, but the range is not divisible by `step`. It will be replaced by [0.01, 0.96].\n",
      "  warnings.warn(\n",
      "\u001b[32m[I 2023-03-21 17:07:58,855]\u001b[0m Trial 16 finished with value: 0.8658909981628904 and parameters: {'C': 0.26, 'solver': 'liblinear', 'penalty': 'l2'}. Best is trial 11 with value: 0.8862793572311495.\u001b[0m\n",
      "c:\\Users\\killr\\AppData\\Local\\Programs\\Python\\Python39\\lib\\site-packages\\optuna\\distributions.py:701: UserWarning: The distribution is specified by [0.01, 1] and step=0.05, but the range is not divisible by `step`. It will be replaced by [0.01, 0.96].\n",
      "  warnings.warn(\n",
      "\u001b[32m[I 2023-03-21 17:07:59,405]\u001b[0m Trial 17 finished with value: 0.8810110974106043 and parameters: {'C': 0.66, 'solver': 'liblinear', 'penalty': 'l2'}. Best is trial 11 with value: 0.8862793572311495.\u001b[0m\n",
      "c:\\Users\\killr\\AppData\\Local\\Programs\\Python\\Python39\\lib\\site-packages\\optuna\\distributions.py:701: UserWarning: The distribution is specified by [0.01, 1] and step=0.05, but the range is not divisible by `step`. It will be replaced by [0.01, 0.96].\n",
      "  warnings.warn(\n",
      "\u001b[32m[I 2023-03-21 17:08:00,030]\u001b[0m Trial 18 finished with value: 0.8677966101694915 and parameters: {'C': 0.8600000000000001, 'solver': 'liblinear', 'penalty': 'l1'}. Best is trial 11 with value: 0.8862793572311495.\u001b[0m\n",
      "c:\\Users\\killr\\AppData\\Local\\Programs\\Python\\Python39\\lib\\site-packages\\optuna\\distributions.py:701: UserWarning: The distribution is specified by [0.01, 1] and step=0.05, but the range is not divisible by `step`. It will be replaced by [0.01, 0.96].\n",
      "  warnings.warn(\n",
      "\u001b[32m[I 2023-03-21 17:08:00,458]\u001b[0m Trial 19 finished with value: 0.8586355255070683 and parameters: {'C': 0.16000000000000003, 'solver': 'liblinear', 'penalty': 'l2'}. Best is trial 11 with value: 0.8862793572311495.\u001b[0m\n"
     ]
    },
    {
     "name": "stdout",
     "output_type": "stream",
     "text": [
      "CPU times: total: 29.7 s\n",
      "Wall time: 34.4 s\n"
     ]
    }
   ],
   "source": [
    "%%time\n",
    "# cоздаем объект исследования\n",
    "# можем напрямую указать, что нам необходимо максимизировать метрику direction=\"maximize\"\n",
    "study = optuna.create_study(study_name=\"LogReg\", direction=\"maximize\")\n",
    "# ищем лучшую комбинацию гиперпараметров n_trials раз\n",
    "study.optimize(optuna_rf, n_trials=20)"
   ]
  },
  {
   "cell_type": "code",
   "execution_count": 30,
   "metadata": {},
   "outputs": [
    {
     "name": "stdout",
     "output_type": "stream",
     "text": [
      "Наилучшие значения гиперпараметров {'C': 0.96, 'solver': 'liblinear', 'penalty': 'l2'}\n",
      "f1_score на обучающем наборе: 0.89\n"
     ]
    }
   ],
   "source": [
    "# выводим результаты на обучающей выборке\n",
    "print(\"Наилучшие значения гиперпараметров {}\".format(study.best_params))\n",
    "print(\"f1_score на обучающем наборе: {:.2f}\".format(study.best_value))"
   ]
  },
  {
   "cell_type": "code",
   "execution_count": 31,
   "metadata": {},
   "outputs": [
    {
     "name": "stdout",
     "output_type": "stream",
     "text": [
      "f1_score на тестовом наборе: 0.79\n"
     ]
    }
   ],
   "source": [
    "# рассчитаем точность для тестовой выборки\n",
    "model = linear_model.LogisticRegression(**study.best_params, random_state=RandomState)\n",
    "model.fit(X_train, y_train)\n",
    "y_test_pred = model.predict(X_test)\n",
    "print('f1_score на тестовом наборе: {:.2f}'.format(metrics.f1_score(y_test, y_test_pred)))"
   ]
  },
  {
   "attachments": {},
   "cell_type": "markdown",
   "metadata": {},
   "source": [
    "Тоже не побили рекорд по итоговой метрике, но можно и дальше подбирать"
   ]
  },
  {
   "attachments": {},
   "cell_type": "markdown",
   "metadata": {},
   "source": [
    "# Случайный лес"
   ]
  },
  {
   "attachments": {},
   "cell_type": "markdown",
   "metadata": {},
   "source": [
    "### Строим модель по умолчанию и смотрим целевую метрику"
   ]
  },
  {
   "cell_type": "code",
   "execution_count": 32,
   "metadata": {},
   "outputs": [
    {
     "name": "stdout",
     "output_type": "stream",
     "text": [
      "Train: 1.00\n",
      "Test: 0.83\n"
     ]
    }
   ],
   "source": [
    "#Создаем объект класса случайный лес\n",
    "rf = ensemble.RandomForestClassifier(random_state=RandomState)\n",
    "\n",
    "#Обучаем модель\n",
    "rf.fit(X_train, y_train)\n",
    "#Выводим значения метрики \n",
    "y_train_pred = rf.predict(X_train)\n",
    "print('Train: {:.2f}'.format(metrics.f1_score(y_train, y_train_pred)))\n",
    "y_test_pred = rf.predict(X_test)\n",
    "print('Test: {:.2f}'.format(metrics.f1_score(y_test, y_test_pred)))"
   ]
  },
  {
   "attachments": {},
   "cell_type": "markdown",
   "metadata": {},
   "source": [
    "Видим, что эта модель лучше справляется с задачей даже без подбора гиперпараметров"
   ]
  },
  {
   "attachments": {},
   "cell_type": "markdown",
   "metadata": {},
   "source": [
    "### Подберем гиперпараметры с помощью **GridSearchCV**"
   ]
  },
  {
   "cell_type": "code",
   "execution_count": 33,
   "metadata": {},
   "outputs": [],
   "source": [
    "param_grid =  {'n_estimators': list(range(80, 200, 40)),\n",
    "              'min_samples_leaf': [4,5],\n",
    "              'max_depth': list(np.linspace(20, 40, 10, dtype=int))\n",
    "              }"
   ]
  },
  {
   "cell_type": "code",
   "execution_count": 34,
   "metadata": {},
   "outputs": [
    {
     "name": "stdout",
     "output_type": "stream",
     "text": [
      "CPU times: total: 12.3 s\n",
      "Wall time: 4min 59s\n",
      "f1_score на тестовом наборе: 0.83\n",
      "Наилучшие значения гиперпараметров: {'max_depth': 22, 'min_samples_leaf': 4, 'n_estimators': 120}\n"
     ]
    }
   ],
   "source": [
    "grid_search_1 = GridSearchCV(\n",
    "    estimator=ensemble.RandomForestClassifier(random_state=RandomState), \n",
    "    param_grid=param_grid, \n",
    "    cv=3, #зададим число фолдов (автоматически производим кросс-валидацию). Поставил поменьше т.к. задание обучающее, чтобы быстрее считалось\n",
    "    n_jobs = -1 #используем все ядра \n",
    ")  \n",
    "%time grid_search_1.fit(X_train, y_train) \n",
    "\n",
    "y_test_pred = grid_search_1.predict(X_test)\n",
    "print('f1_score на тестовом наборе: {:.2f}'.format(metrics.f1_score(y_test, y_test_pred)))\n",
    "print(\"Наилучшие значения гиперпараметров: {}\".format(grid_search_1.best_params_))"
   ]
  },
  {
   "attachments": {},
   "cell_type": "markdown",
   "metadata": {},
   "source": [
    "Вот, подобрали, метрика итоговая улучшилась"
   ]
  },
  {
   "attachments": {},
   "cell_type": "markdown",
   "metadata": {},
   "source": [
    "Можно конечно дальше подбирать вручную, однако воспользуемся более продвинутыми методами"
   ]
  },
  {
   "attachments": {},
   "cell_type": "markdown",
   "metadata": {},
   "source": [
    "### Подберем гиперпараметры с помощью **RandomizedSearchCV**"
   ]
  },
  {
   "cell_type": "code",
   "execution_count": 36,
   "metadata": {},
   "outputs": [],
   "source": [
    "param_distributions =  {'n_estimators': list(range(80, 200, 40)),\n",
    "              'min_samples_leaf': [4,5],\n",
    "              'max_depth': list(np.linspace(20, 40, 10, dtype=int))\n",
    "              }"
   ]
  },
  {
   "cell_type": "code",
   "execution_count": 37,
   "metadata": {},
   "outputs": [
    {
     "name": "stdout",
     "output_type": "stream",
     "text": [
      "CPU times: total: 8.38 s\n",
      "Wall time: 3min 32s\n",
      "f1_score на тестовом наборе: 0.83\n",
      "Наилучшие значения гиперпараметров: {'n_estimators': 80, 'min_samples_leaf': 4, 'max_depth': 40}\n"
     ]
    }
   ],
   "source": [
    "random_search = RandomizedSearchCV(\n",
    "    estimator=ensemble.RandomForestClassifier(random_state=RandomState), \n",
    "    param_distributions=param_distributions, \n",
    "    cv=5, \n",
    "    n_iter = 20, \n",
    "    n_jobs = -1\n",
    ")  \n",
    "%time random_search.fit(X_train, y_train) \n",
    "y_test_pred = random_search.predict(X_test)\n",
    "print('f1_score на тестовом наборе: {:.2f}'.format(metrics.f1_score(y_test, y_test_pred)))\n",
    "print(\"Наилучшие значения гиперпараметров: {}\".format(random_search.best_params_))"
   ]
  },
  {
   "attachments": {},
   "cell_type": "markdown",
   "metadata": {},
   "source": [
    "Параметры получились другие. Но по метрике результат идентичный"
   ]
  },
  {
   "attachments": {},
   "cell_type": "markdown",
   "metadata": {},
   "source": [
    "### Подберем гиперпараметры с помощью **Hyperopt**"
   ]
  },
  {
   "cell_type": "code",
   "execution_count": 38,
   "metadata": {},
   "outputs": [],
   "source": [
    "# зададим пространство поиска гиперпараметров\n",
    "space={'n_estimators': hp.quniform('n_estimators', 100, 200, 1),\n",
    "       'max_depth' : hp.quniform('max_depth', 15, 26, 1),\n",
    "       'min_samples_leaf': hp.quniform('min_samples_leaf', 2, 10, 1)\n",
    "      }"
   ]
  },
  {
   "cell_type": "code",
   "execution_count": 39,
   "metadata": {},
   "outputs": [],
   "source": [
    "# зафксируем random_state\n",
    "def hyperopt_rf(params, cv=5, X=X_train, y=y_train, random_state=RandomState):\n",
    "    # функция получает комбинацию гиперпараметров в \"params\"\n",
    "    params = {'n_estimators': int(params['n_estimators']), \n",
    "              'max_depth': int(params['max_depth']), \n",
    "             'min_samples_leaf': int(params['min_samples_leaf'])\n",
    "              }\n",
    "  \n",
    "    # используем эту комбинацию для построения модели\n",
    "    model = ensemble.RandomForestClassifier(**params, random_state=random_state)\n",
    "\n",
    "    # обучаем модель\n",
    "    model.fit(X, y)\n",
    "    score = metrics.f1_score(y, model.predict(X))\n",
    "    \n",
    "    # обучать модель можно также с помощью кросс-валидации\n",
    "    # применим  cross validation с тем же количеством фолдов\n",
    "    # score = cross_val_score(model, X, y, cv=cv, scoring=\"f1\", n_jobs=-1).mean()\n",
    "\n",
    "    # метрику необходимо минимизировать, поэтому ставим знак минус\n",
    "    return -score"
   ]
  },
  {
   "cell_type": "code",
   "execution_count": 41,
   "metadata": {},
   "outputs": [
    {
     "name": "stdout",
     "output_type": "stream",
     "text": [
      "CPU times: total: 0 ns\n",
      "Wall time: 0 ns\n",
      "100%|██████████| 20/20 [04:55<00:00, 14.80s/trial, best loss: -0.9860031104199067]\n",
      "Наилучшие значения гиперпараметров {'max_depth': 18.0, 'min_samples_leaf': 2.0, 'n_estimators': 103.0}\n"
     ]
    }
   ],
   "source": [
    "# начинаем подбор гиперпараметров\n",
    "%time\n",
    "\n",
    "trials = Trials() # используется для логирования результатов\n",
    "\n",
    "best=fmin(hyperopt_rf, # наша функция \n",
    "          space=space, # пространство гиперпараметров\n",
    "          algo=tpe.suggest, # алгоритм оптимизации, установлен по умолчанию, задавать необязательно\n",
    "          max_evals=20, # максимальное количество итераций\n",
    "          trials=trials, # логирование результатов\n",
    "          rstate=np.random.default_rng(RandomState)# фиксируем для повторяемости результата\n",
    "         )\n",
    "print(\"Наилучшие значения гиперпараметров {}\".format(best))"
   ]
  },
  {
   "cell_type": "code",
   "execution_count": 42,
   "metadata": {},
   "outputs": [
    {
     "name": "stdout",
     "output_type": "stream",
     "text": [
      "f1_score на тестовом наборе: 0.84\n"
     ]
    }
   ],
   "source": [
    "# рассчитаем точность для тестовой выборки\n",
    "model = ensemble.RandomForestClassifier(\n",
    "    random_state=RandomState, \n",
    "    n_estimators=int(best['n_estimators']),\n",
    "    max_depth=int(best['max_depth']),\n",
    "    min_samples_leaf=int(best['min_samples_leaf'])\n",
    ")\n",
    "model.fit(X_train, y_train)\n",
    "\n",
    "y_test_pred = model.predict(X_test)\n",
    "print('f1_score на тестовом наборе: {:.2f}'.format(metrics.f1_score(y_test, y_test_pred)))"
   ]
  },
  {
   "attachments": {},
   "cell_type": "markdown",
   "metadata": {},
   "source": [
    "Отлично, еще получилось улучшить"
   ]
  },
  {
   "cell_type": "code",
   "execution_count": 43,
   "metadata": {},
   "outputs": [
    {
     "name": "stdout",
     "output_type": "stream",
     "text": [
      "Наилучшие значения гиперпараметров {'max_depth': 18.0, 'min_samples_leaf': 2.0, 'n_estimators': 103.0}\n"
     ]
    }
   ],
   "source": [
    "print(\"Наилучшие значения гиперпараметров {}\".format(best))"
   ]
  },
  {
   "attachments": {},
   "cell_type": "markdown",
   "metadata": {},
   "source": [
    "Вот какие получились гиперпараметры"
   ]
  },
  {
   "attachments": {},
   "cell_type": "markdown",
   "metadata": {},
   "source": [
    "### Подберем гиперпараметры с помощью **Optuna**"
   ]
  },
  {
   "cell_type": "code",
   "execution_count": 46,
   "metadata": {},
   "outputs": [],
   "source": [
    "def optuna_rf(trial):\n",
    "  # задаем пространства поиска гиперпараметров\n",
    "  n_estimators = trial.suggest_int('n_estimators', 100, 200, 1)\n",
    "  max_depth = trial.suggest_int('max_depth', 10, 30, 1)\n",
    "  min_samples_leaf = trial.suggest_int('min_samples_leaf', 2, 10, 1)\n",
    "\n",
    "  # создаем модель\n",
    "  model = ensemble.RandomForestClassifier(n_estimators=n_estimators,\n",
    "                                          max_depth=max_depth,\n",
    "                                          min_samples_leaf=min_samples_leaf,\n",
    "                                          random_state=RandomState)\n",
    "  # обучаем модель\n",
    "  model.fit(X_train, y_train)\n",
    "  score = metrics.f1_score(y_train, model.predict(X_train))\n",
    "\n",
    "  return score"
   ]
  },
  {
   "cell_type": "code",
   "execution_count": 47,
   "metadata": {},
   "outputs": [
    {
     "name": "stderr",
     "output_type": "stream",
     "text": [
      "\u001b[32m[I 2023-03-21 17:57:49,278]\u001b[0m A new study created in memory with name: RandomForestClassifier\u001b[0m\n",
      "\u001b[32m[I 2023-03-21 17:58:06,829]\u001b[0m Trial 0 finished with value: 0.9906658369632856 and parameters: {'n_estimators': 157, 'max_depth': 26, 'min_samples_leaf': 2}. Best is trial 0 with value: 0.9906658369632856.\u001b[0m\n",
      "\u001b[32m[I 2023-03-21 17:58:16,953]\u001b[0m Trial 1 finished with value: 0.9067743940335612 and parameters: {'n_estimators': 100, 'max_depth': 18, 'min_samples_leaf': 8}. Best is trial 0 with value: 0.9906658369632856.\u001b[0m\n",
      "\u001b[32m[I 2023-03-21 17:58:27,842]\u001b[0m Trial 2 finished with value: 0.9629167965098162 and parameters: {'n_estimators': 103, 'max_depth': 15, 'min_samples_leaf': 3}. Best is trial 0 with value: 0.9906658369632856.\u001b[0m\n",
      "\u001b[32m[I 2023-03-21 17:58:39,663]\u001b[0m Trial 3 finished with value: 0.9304347826086956 and parameters: {'n_estimators': 115, 'max_depth': 19, 'min_samples_leaf': 6}. Best is trial 0 with value: 0.9906658369632856.\u001b[0m\n",
      "\u001b[32m[I 2023-03-21 17:58:58,898]\u001b[0m Trial 4 finished with value: 0.9527950310559007 and parameters: {'n_estimators': 182, 'max_depth': 17, 'min_samples_leaf': 4}. Best is trial 0 with value: 0.9906658369632856.\u001b[0m\n",
      "\u001b[32m[I 2023-03-21 17:59:12,541]\u001b[0m Trial 5 finished with value: 0.9008109794135996 and parameters: {'n_estimators': 140, 'max_depth': 11, 'min_samples_leaf': 7}. Best is trial 0 with value: 0.9906658369632856.\u001b[0m\n",
      "\u001b[32m[I 2023-03-21 17:59:27,914]\u001b[0m Trial 6 finished with value: 0.9912826899128268 and parameters: {'n_estimators': 144, 'max_depth': 29, 'min_samples_leaf': 2}. Best is trial 6 with value: 0.9912826899128268.\u001b[0m\n",
      "\u001b[32m[I 2023-03-21 17:59:39,052]\u001b[0m Trial 7 finished with value: 0.8914463452566097 and parameters: {'n_estimators': 116, 'max_depth': 13, 'min_samples_leaf': 10}. Best is trial 6 with value: 0.9912826899128268.\u001b[0m\n",
      "\u001b[32m[I 2023-03-21 17:59:54,185]\u001b[0m Trial 8 finished with value: 0.9017054263565891 and parameters: {'n_estimators': 154, 'max_depth': 26, 'min_samples_leaf': 9}. Best is trial 6 with value: 0.9912826899128268.\u001b[0m\n",
      "\u001b[32m[I 2023-03-21 18:00:14,014]\u001b[0m Trial 9 finished with value: 0.9096553865259236 and parameters: {'n_estimators': 197, 'max_depth': 28, 'min_samples_leaf': 8}. Best is trial 6 with value: 0.9912826899128268.\u001b[0m\n",
      "\u001b[32m[I 2023-03-21 18:00:28,501]\u001b[0m Trial 10 finished with value: 0.9416511483550589 and parameters: {'n_estimators': 135, 'max_depth': 23, 'min_samples_leaf': 5}. Best is trial 6 with value: 0.9912826899128268.\u001b[0m\n",
      "\u001b[32m[I 2023-03-21 18:00:46,495]\u001b[0m Trial 11 finished with value: 0.9912881144990665 and parameters: {'n_estimators': 163, 'max_depth': 30, 'min_samples_leaf': 2}. Best is trial 11 with value: 0.9912881144990665.\u001b[0m\n",
      "\u001b[32m[I 2023-03-21 18:01:05,132]\u001b[0m Trial 12 finished with value: 0.9912826899128268 and parameters: {'n_estimators': 170, 'max_depth': 30, 'min_samples_leaf': 2}. Best is trial 11 with value: 0.9912881144990665.\u001b[0m\n",
      "\u001b[32m[I 2023-03-21 18:01:23,294]\u001b[0m Trial 13 finished with value: 0.957169459962756 and parameters: {'n_estimators': 170, 'max_depth': 23, 'min_samples_leaf': 4}. Best is trial 11 with value: 0.9912881144990665.\u001b[0m\n",
      "\u001b[32m[I 2023-03-21 18:01:38,350]\u001b[0m Trial 14 finished with value: 0.9900373599003736 and parameters: {'n_estimators': 137, 'max_depth': 30, 'min_samples_leaf': 2}. Best is trial 11 with value: 0.9912881144990665.\u001b[0m\n",
      "\u001b[32m[I 2023-03-21 18:01:55,909]\u001b[0m Trial 15 finished with value: 0.9574930189264661 and parameters: {'n_estimators': 166, 'max_depth': 23, 'min_samples_leaf': 4}. Best is trial 11 with value: 0.9912881144990665.\u001b[0m\n",
      "\u001b[32m[I 2023-03-21 18:02:15,594]\u001b[0m Trial 16 finished with value: 0.9744866210329807 and parameters: {'n_estimators': 187, 'max_depth': 27, 'min_samples_leaf': 3}. Best is trial 11 with value: 0.9912881144990665.\u001b[0m\n",
      "\u001b[32m[I 2023-03-21 18:02:30,706]\u001b[0m Trial 17 finished with value: 0.9459962756052142 and parameters: {'n_estimators': 148, 'max_depth': 21, 'min_samples_leaf': 5}. Best is trial 11 with value: 0.9912881144990665.\u001b[0m\n",
      "\u001b[32m[I 2023-03-21 18:02:44,052]\u001b[0m Trial 18 finished with value: 0.974247595408005 and parameters: {'n_estimators': 125, 'max_depth': 30, 'min_samples_leaf': 3}. Best is trial 11 with value: 0.9912881144990665.\u001b[0m\n",
      "\u001b[32m[I 2023-03-21 18:03:00,296]\u001b[0m Trial 19 finished with value: 0.9311414392059553 and parameters: {'n_estimators': 159, 'max_depth': 25, 'min_samples_leaf': 6}. Best is trial 11 with value: 0.9912881144990665.\u001b[0m\n",
      "\u001b[32m[I 2023-03-21 18:03:19,957]\u001b[0m Trial 20 finished with value: 0.9912881144990665 and parameters: {'n_estimators': 178, 'max_depth': 28, 'min_samples_leaf': 2}. Best is trial 11 with value: 0.9912881144990665.\u001b[0m\n",
      "\u001b[32m[I 2023-03-21 18:03:39,712]\u001b[0m Trial 21 finished with value: 0.9909741674447557 and parameters: {'n_estimators': 180, 'max_depth': 28, 'min_samples_leaf': 2}. Best is trial 11 with value: 0.9912881144990665.\u001b[0m\n",
      "\u001b[32m[I 2023-03-21 18:03:55,647]\u001b[0m Trial 22 finished with value: 0.9751398384089497 and parameters: {'n_estimators': 147, 'max_depth': 28, 'min_samples_leaf': 3}. Best is trial 11 with value: 0.9912881144990665.\u001b[0m\n",
      "\u001b[32m[I 2023-03-21 18:04:16,106]\u001b[0m Trial 23 finished with value: 0.9912718204488778 and parameters: {'n_estimators': 191, 'max_depth': 25, 'min_samples_leaf': 2}. Best is trial 11 with value: 0.9912881144990665.\u001b[0m\n",
      "\u001b[32m[I 2023-03-21 18:04:34,863]\u001b[0m Trial 24 finished with value: 0.9738968303293971 and parameters: {'n_estimators': 173, 'max_depth': 29, 'min_samples_leaf': 3}. Best is trial 11 with value: 0.9912881144990665.\u001b[0m\n",
      "\u001b[32m[I 2023-03-21 18:04:51,701]\u001b[0m Trial 25 finished with value: 0.9456352904628766 and parameters: {'n_estimators': 161, 'max_depth': 21, 'min_samples_leaf': 5}. Best is trial 11 with value: 0.9912881144990665.\u001b[0m\n",
      "\u001b[32m[I 2023-03-21 18:05:10,717]\u001b[0m Trial 26 finished with value: 0.9559279950341403 and parameters: {'n_estimators': 178, 'max_depth': 25, 'min_samples_leaf': 4}. Best is trial 11 with value: 0.9912881144990665.\u001b[0m\n",
      "\u001b[32m[I 2023-03-21 18:05:26,170]\u001b[0m Trial 27 finished with value: 0.9909685456244159 and parameters: {'n_estimators': 142, 'max_depth': 27, 'min_samples_leaf': 2}. Best is trial 11 with value: 0.9912881144990665.\u001b[0m\n",
      "\u001b[32m[I 2023-03-21 18:05:46,970]\u001b[0m Trial 28 finished with value: 0.9745341614906832 and parameters: {'n_estimators': 197, 'max_depth': 29, 'min_samples_leaf': 3}. Best is trial 11 with value: 0.9912881144990665.\u001b[0m\n",
      "\u001b[32m[I 2023-03-21 18:06:00,868]\u001b[0m Trial 29 finished with value: 0.9903456867019619 and parameters: {'n_estimators': 131, 'max_depth': 26, 'min_samples_leaf': 2}. Best is trial 11 with value: 0.9912881144990665.\u001b[0m\n"
     ]
    },
    {
     "name": "stdout",
     "output_type": "stream",
     "text": [
      "CPU times: total: 7min 38s\n",
      "Wall time: 8min 11s\n"
     ]
    }
   ],
   "source": [
    "%%time\n",
    "# cоздаем объект исследования\n",
    "# можем напрямую указать, что нам необходимо максимизировать метрику direction=\"maximize\"\n",
    "study = optuna.create_study(study_name=\"RandomForestClassifier\", direction=\"maximize\")\n",
    "# ищем лучшую комбинацию гиперпараметров n_trials раз\n",
    "study.optimize(optuna_rf, n_trials=30)"
   ]
  },
  {
   "cell_type": "code",
   "execution_count": 49,
   "metadata": {},
   "outputs": [
    {
     "name": "stdout",
     "output_type": "stream",
     "text": [
      "f1_score на тестовом наборе: 0.83\n"
     ]
    }
   ],
   "source": [
    "# рассчитаем точность для тестовой выборки\n",
    "model = ensemble.RandomForestClassifier(**study.best_params,random_state=RandomState )\n",
    "model.fit(X_train, y_train)\n",
    "y_test_pred = model.predict(X_test)\n",
    "print('f1_score на тестовом наборе: {:.2f}'.format(metrics.f1_score(y_test, y_test_pred)))"
   ]
  },
  {
   "cell_type": "code",
   "execution_count": 50,
   "metadata": {},
   "outputs": [
    {
     "name": "stdout",
     "output_type": "stream",
     "text": [
      "Наилучшие значения гиперпараметров {'n_estimators': 163, 'max_depth': 30, 'min_samples_leaf': 2}\n"
     ]
    }
   ],
   "source": [
    "print(\"Наилучшие значения гиперпараметров {}\".format(study.best_params))"
   ]
  },
  {
   "attachments": {},
   "cell_type": "markdown",
   "metadata": {},
   "source": [
    "И вывели олучшие значения параметров"
   ]
  }
 ],
 "metadata": {
  "kernelspec": {
   "display_name": "Python 3",
   "language": "python",
   "name": "python3"
  },
  "language_info": {
   "codemirror_mode": {
    "name": "ipython",
    "version": 3
   },
   "file_extension": ".py",
   "mimetype": "text/x-python",
   "name": "python",
   "nbconvert_exporter": "python",
   "pygments_lexer": "ipython3",
   "version": "3.9.10"
  },
  "orig_nbformat": 4
 },
 "nbformat": 4,
 "nbformat_minor": 2
}
